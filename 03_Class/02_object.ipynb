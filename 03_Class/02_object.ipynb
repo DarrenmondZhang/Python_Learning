{
 "cells": [
  {
   "cell_type": "markdown",
   "metadata": {},
   "source": [
    "# 对象"
   ]
  },
  {
   "cell_type": "markdown",
   "metadata": {},
   "source": [
    "我们先来学习，面向对象编程中最基本的概念。\n",
    "\n",
    "为了方便你理解其中的抽象概念，举个例子。生物课上，我们学过**“界门纲目科属种”**的概念，核心思想是科学家们根据各种动植物、微生物的相似之处，将其分化为不同的类型方便研究。生活中我们也是如此，习惯对身边的事物进行分类：\n",
    "- 猫和狗都是动物；\n",
    "- 直线和圆都是平面几何的图形；\n",
    "- 《哈利波特》和《冰与火之歌》（即《权力的游戏》）都是小说。\n",
    "\n",
    "**同一类事物便会有着相似的特性**：动物会动；平面图形有面积和周长；小说也都有相应的作者和大致情节等各种元素。\n",
    "\n",
    "那回 Python 上，又对应哪些内容呢？这里，我们先来看一段最基本的 Python 面向对象的应用代码："
   ]
  },
  {
   "cell_type": "code",
   "execution_count": 1,
   "metadata": {},
   "outputs": [],
   "source": [
    "class Document():\n",
    "    \"\"\"类\"\"\"\n",
    "    def __init__(self, title, author, context):\n",
    "        print('init function called')\n",
    "        # 属性\n",
    "        self.title = title\n",
    "        self.author = author\n",
    "        self.__context = context  # __开头的属性是私有属性\n",
    "    \n",
    "    # 函数\n",
    "    def get_context_length(self):\n",
    "        return len(self.__context)\n",
    "\n",
    "    def intercept_context(self, length):\n",
    "        self.__context = self.__context[:length]"
   ]
  },
  {
   "cell_type": "code",
   "execution_count": 2,
   "metadata": {},
   "outputs": [
    {
     "name": "stdout",
     "output_type": "stream",
     "text": [
      "init function called\n",
      "Harry Potter\n",
      "J. K. Rowling\n",
      "77\n"
     ]
    }
   ],
   "source": [
    "# 创建对象\n",
    "harry_potter_book = Document('Harry Potter', 'J. K. Rowling', '... Forever Do not believe any thing is capable of thinking independently ...')\n",
    "\n",
    "print(harry_potter_book.title)\n",
    "print(harry_potter_book.author)\n",
    "print(harry_potter_book.get_context_length())"
   ]
  },
  {
   "cell_type": "code",
   "execution_count": 3,
   "metadata": {},
   "outputs": [
    {
     "name": "stdout",
     "output_type": "stream",
     "text": [
      "10\n"
     ]
    }
   ],
   "source": [
    "harry_potter_book.intercept_context(10)\n",
    "print(harry_potter_book.get_context_length())"
   ]
  },
  {
   "cell_type": "code",
   "execution_count": 4,
   "metadata": {},
   "outputs": [
    {
     "ename": "AttributeError",
     "evalue": "'Document' object has no attribute '__context'",
     "output_type": "error",
     "traceback": [
      "\u001b[1;31m---------------------------------------------------------------------------\u001b[0m",
      "\u001b[1;31mAttributeError\u001b[0m                            Traceback (most recent call last)",
      "\u001b[1;32m<ipython-input-4-ce1abc770bd0>\u001b[0m in \u001b[0;36m<module>\u001b[1;34m()\u001b[0m\n\u001b[1;32m----> 1\u001b[1;33m \u001b[0mprint\u001b[0m\u001b[1;33m(\u001b[0m\u001b[0mharry_potter_book\u001b[0m\u001b[1;33m.\u001b[0m\u001b[0m__context\u001b[0m\u001b[1;33m)\u001b[0m\u001b[1;33m\u001b[0m\u001b[0m\n\u001b[0m",
      "\u001b[1;31mAttributeError\u001b[0m: 'Document' object has no attribute '__context'"
     ]
    }
   ],
   "source": [
    "print(harry_potter_book.__context)"
   ]
  },
  {
   "cell_type": "markdown",
   "metadata": {},
   "source": [
    "参照着这段代码，我先来简单解释几个概念。\n",
    "\n",
    "- 类：一群有着相似性的事物的集合，这里对应 `Python` 的 `class`。\n",
    "- 对象：集合中的一个事物，这里对应由 `class` 生成的某一个 `object`，比如代码中的 `harry_potter_book`。\n",
    "- 属性：对象的某个静态特征，比如上述代码中的 `title`、`author` 和 `__context`。\n",
    "- 函数：对象的某个动态能力，比如上述代码中的 `intercept_context()` 函数。\n",
    "\n",
    "\n",
    "很多数学概念非常抽象，如果纯粹从数理逻辑而不是更高的角度去解题，很容易陷入僵局；而具体、直观的想象和类比，才是迅速打开数学大门的钥匙。虽然这些想象和类比不严谨也不充分，很多时候甚至是错误或者异想天开的，但它们确实能帮我们快速找到正确的大门。\n",
    "\n",
    "就像很多人都有过的一个疑惑，“学霸是怎样想到这个答案的？”。德国数学家克莱因曾说过，“推进数学的，主要是那些有卓越直觉的人，而不是以严格的证明方法见长的人。”编程世界同样如此，如果你不满足于只做一个 CRUD“码农”，而是想成为一个优秀的工程师，那就**一定要积极锻炼直觉思考和快速类比的能力**，尤其是在找不到 bug 的时候。这才是编程学习中能给人最快进步的方法和路径。\n",
    "\n",
    "> 类，一群有着相同属性和函数的对象的集合。"
   ]
  },
  {
   "cell_type": "markdown",
   "metadata": {},
   "source": [
    "从上述代码中可以看到，定义了 `Document`类，再往下能看到它有三个函数。\n",
    "\n",
    "- init 表示**构造函数**，意即一个对象生成时会被自动调用的函数。我们能看到：\n",
    "```\n",
    "harry_potter_book = Document(...)\n",
    "```\n",
    "这一行代码被执行的时候，`init function called` 字符串会被打印出来。\n",
    "\n",
    "- 而 `get_context_length()` 和 `intercept_context()` 则为类的普通函数，我们调用它们来对对象的属性做一些事情。\n",
    "\n",
    "- `Document类` 还有三个属性，`title`、`author` 和 `__context` 分别表示标题、作者和内容，通过构造函数传入。这里代码很直观，我们可以看到， `intercept_context` 能修改对象 `harry_potter_book` 的 `__context` 属性。\n",
    "\n",
    "这里唯一需要强调的一点是，如果一个属性以 `__` （注意，此处有两个 `_` ) 开头，我们就默认这个属性是**私有属性**。\n",
    "\n",
    "私有属性，是指**不希望在类的函数之外的地方被访问和修改的属性**。所以，你可以看到 `title` 和 `author` 能够很自由地被打印出来，但是 `print(harry_potter_book.__context)` 就会报错。"
   ]
  },
  {
   "cell_type": "markdown",
   "metadata": {},
   "source": []
  },
  {
   "cell_type": "markdown",
   "metadata": {},
   "source": [
    "在工程实践中，随着复杂度的提升，可能会遇到下面一些问题：\n",
    "1. 如何在一个类中定义一些常量，每个对象都可以方便访问这些常量而不用重新构造？\n",
    "2. 如果一个函数不涉及到访问修改这个类的属性，而放到类外面有点不恰当，怎么做才能更优雅呢？\n",
    "3. 既然类是一群相似的对象的集合，那么可不可以是一群相似的类的集合呢？"
   ]
  },
  {
   "cell_type": "code",
   "execution_count": 7,
   "metadata": {},
   "outputs": [
    {
     "name": "stdout",
     "output_type": "stream",
     "text": [
      "init function called\n",
      "Welcome! The context for this book is {}.\n",
      "7\n",
      "Welcome! The context for this book is indeed nothing.\n"
     ]
    }
   ],
   "source": [
    "class Document():\n",
    "    WELCOME_STR = 'Welcome! The context for this book is {}.'\n",
    "    \n",
    "    def __init__(self, title, author, context):\n",
    "        print(\"init function called\")\n",
    "        self.title = title\n",
    "        self.author = author\n",
    "        self.__context = context\n",
    "        \n",
    "    # 类函数\n",
    "    @classmethod\n",
    "    def create_empty_book(cls, title, author):\n",
    "        return cls(title=title, author=author, context='nothing')\n",
    "    \n",
    "    # 成员函数\n",
    "    def get_context_length(self):\n",
    "        return len(self.__context)\n",
    "    \n",
    "    # 静态函数\n",
    "    @staticmethod\n",
    "    def get_welcome(context):\n",
    "        return Document.WELCOME_STR.format(context)\n",
    "  \n",
    "\n",
    "empty_book = Document.create_empty_book('What Every Man Thinks About Apart from Sex', 'Professor Sheridan Simove')\n",
    "\n",
    "print(empty_book.WELCOME_STR)\n",
    "print(empty_book.get_context_length())\n",
    "print(empty_book.get_welcome('indeed nothing'))"
   ]
  },
  {
   "cell_type": "markdown",
   "metadata": {},
   "source": [
    "针对第一个问题：在 Python 的类里，**你只需要和函数并列地声明并赋值**，就可以实现问题一，例如这段代码中的 `WELCOME_STR`。一种很常规的做法，是用全大写来表示常量，因此我们可以在类中使用 `self.WELCOME_STR` ，或者在类外使用 `Entity.WELCOME_STR`，来表达这个字符串。"
   ]
  },
  {
   "cell_type": "markdown",
   "metadata": {},
   "source": []
  },
  {
   "cell_type": "markdown",
   "metadata": {},
   "source": [
    "而针对第二个问题，提出了类函数、成员函数和静态函数三个概念。\n",
    "\n",
    "- 类函数和成员函数产生的影响是动态的，能够访问或者修改对象的属性；\n",
    "- 静态函数则与类没有什么关联，最明显的特征便是，静态函数的第一个参数没有任何特殊性。\n",
    "\n",
    "一般而言，静态函数可以用来做一些简单独立的任务，既方便测试，也能优化代码结构。静态函数还可以通过在函数前一行加上 `@staticmethod` 来表示，这其实使用了装饰器的概念。\n",
    "\n",
    "而类函数的第一个参数一般为 `cls`，表示**必须传入一个类**。类函数最常用的功能是实现不同的 `init` 构造函数，比如上文代码中，我们使用 `create_empty_book` 类函数，来创造新的书籍对象，其 `context` 一定为 'nothing'。这样的代码，就比你直接构造要清晰一些。类似的，类函数需要装饰器 `@classmethod` 来声明。\n",
    "\n",
    "成员函数则是我们最正常的类的函数，它不需要任何装饰器声明，第一个参数 `self` 代表当前对象的引用，可以通过此函数，来实现想要的查询/修改类的属性等功能。"
   ]
  },
  {
   "cell_type": "markdown",
   "metadata": {},
   "source": [
    "# 继承"
   ]
  },
  {
   "cell_type": "markdown",
   "metadata": {},
   "source": [
    "第三个问题，既然类是一群相似的对象的集合，那么可不可以是一群相似的类的集合呢？答案是，当然可以。**只要抽象得好，类可以描述成任何事物的集合**。\n",
    "\n",
    "类的继承，顾名思义，**指的是一个类既拥有另一个类的特征，也拥有不同于另一个类的独特特征**。在这里的第一个类叫做子类，另一个叫做父类，特征其实就是类的属性和函数。"
   ]
  },
  {
   "cell_type": "code",
   "execution_count": 13,
   "metadata": {},
   "outputs": [],
   "source": [
    "class Entity():\n",
    "    def __init__(self, object_type):\n",
    "        print('parent class init called')\n",
    "        self.object_type = object_type\n",
    "    \n",
    "    def get_context_length(self):\n",
    "        raise Exception('get_context_length not implemented')\n",
    "        \n",
    "    def print_title(self):\n",
    "        print(self.title)\n",
    "        "
   ]
  },
  {
   "cell_type": "code",
   "execution_count": 14,
   "metadata": {},
   "outputs": [],
   "source": [
    "class Document(Entity):\n",
    "    def __init__(self, title, author, context):\n",
    "        print('Document class init called')\n",
    "        Entity.__init__(self, 'document')\n",
    "        self.title = title\n",
    "        self.author = author\n",
    "        self.__context = context\n",
    "        \n",
    "    def get_context_length(self):\n",
    "        return len(self.__context)\n"
   ]
  },
  {
   "cell_type": "code",
   "execution_count": 15,
   "metadata": {},
   "outputs": [],
   "source": [
    "class Video(Entity):\n",
    "    def __init__(self, title, author, video_length):\n",
    "        print('Video class inti called')\n",
    "        Entity.__init__(self, 'video')\n",
    "        self.title = title\n",
    "        self.author = author\n",
    "        self.__video_length = video_length\n",
    "        \n",
    "    def get_context_length(self):\n",
    "        return self.__video_length\n",
    "    "
   ]
  },
  {
   "cell_type": "code",
   "execution_count": 16,
   "metadata": {},
   "outputs": [
    {
     "name": "stdout",
     "output_type": "stream",
     "text": [
      "Document class init called\n",
      "parent class init called\n",
      "Video class inti called\n",
      "parent class init called\n"
     ]
    }
   ],
   "source": [
    "harry_potter_book = Document('Harray Potter(Book)', 'J.K', \"dfafsfasfasf\")\n",
    "\n",
    "harry_potter_movie = Video('harray Potter(Movie)', 'J.K.', 120)"
   ]
  },
  {
   "cell_type": "code",
   "execution_count": 17,
   "metadata": {},
   "outputs": [
    {
     "name": "stdout",
     "output_type": "stream",
     "text": [
      "document\n",
      "video\n"
     ]
    }
   ],
   "source": [
    "print(harry_potter_book.object_type)\n",
    "print(harry_potter_movie.object_type)"
   ]
  },
  {
   "cell_type": "code",
   "execution_count": 18,
   "metadata": {},
   "outputs": [
    {
     "name": "stdout",
     "output_type": "stream",
     "text": [
      "Harray Potter(Book)\n",
      "harray Potter(Movie)\n"
     ]
    }
   ],
   "source": [
    "harry_potter_book.print_title()\n",
    "harry_potter_movie.print_title()"
   ]
  },
  {
   "cell_type": "code",
   "execution_count": 19,
   "metadata": {},
   "outputs": [
    {
     "name": "stdout",
     "output_type": "stream",
     "text": [
      "12\n",
      "120\n"
     ]
    }
   ],
   "source": [
    "print(harry_potter_book.get_context_length())\n",
    "print(harry_potter_movie.get_context_length())"
   ]
  },
  {
   "cell_type": "markdown",
   "metadata": {},
   "source": [
    "在上述代码中，`Document` 和 `Video` 它们有相似的地方，都有相应的标题、作者和内容等属性。我们可以从中抽象出一个叫做 `Entity` 的类，来作为它俩的父类。\n",
    "\n",
    "首先需要注意的是**构造函数**。每个类都有构造函数，继承类在生成对象的时候，是不会自动调用父类的构造函数的，因此你必须在 `init()` 函数中显式调用父类的构造函数。它们的执行顺序是 `子类的构造函数 -> 父类的构造函数`。\n",
    "\n",
    "其次需要注意父类 `get_context_length()` 函数。如果使用 `Entity` 直接生成对象，调用 `get_context_length()` 函数，就会 `raise error` 中断程序的执行。这其实是一种很好的写法，叫做函数重写，可以使子类必须重新写一遍 `get_context_length()` 函数，来覆盖掉原有函数。\n",
    "\n",
    "最后需要注意到 `print_title()` 函数，这个函数定义在父类中，但是子类的对象可以毫无阻力地使用它来打印 `title`，这也就体现了继承的优势：减少重复的代码，降低系统的熵值（即复杂度）。"
   ]
  },
  {
   "cell_type": "markdown",
   "metadata": {},
   "source": [
    "# 抽象函数和抽象类"
   ]
  },
  {
   "cell_type": "code",
   "execution_count": 20,
   "metadata": {},
   "outputs": [
    {
     "name": "stdout",
     "output_type": "stream",
     "text": [
      "Harry Potter\n"
     ]
    },
    {
     "ename": "TypeError",
     "evalue": "Can't instantiate abstract class Entity with abstract methods get_title, set_title",
     "output_type": "error",
     "traceback": [
      "\u001b[1;31m---------------------------------------------------------------------------\u001b[0m",
      "\u001b[1;31mTypeError\u001b[0m                                 Traceback (most recent call last)",
      "\u001b[1;32m<ipython-input-20-10f583733f22>\u001b[0m in \u001b[0;36m<module>\u001b[1;34m()\u001b[0m\n\u001b[0;32m     22\u001b[0m \u001b[0mprint\u001b[0m\u001b[1;33m(\u001b[0m\u001b[0mdocument\u001b[0m\u001b[1;33m.\u001b[0m\u001b[0mget_title\u001b[0m\u001b[1;33m(\u001b[0m\u001b[1;33m)\u001b[0m\u001b[1;33m)\u001b[0m\u001b[1;33m\u001b[0m\u001b[0m\n\u001b[0;32m     23\u001b[0m \u001b[1;33m\u001b[0m\u001b[0m\n\u001b[1;32m---> 24\u001b[1;33m \u001b[0mentity\u001b[0m \u001b[1;33m=\u001b[0m \u001b[0mEntity\u001b[0m\u001b[1;33m(\u001b[0m\u001b[1;33m)\u001b[0m\u001b[1;33m\u001b[0m\u001b[0m\n\u001b[0m",
      "\u001b[1;31mTypeError\u001b[0m: Can't instantiate abstract class Entity with abstract methods get_title, set_title"
     ]
    }
   ],
   "source": [
    "from abc import ABCMeta, abstractmethod\n",
    "\n",
    "class Entity(metaclass=ABCMeta):\n",
    "    @abstractmethod\n",
    "    def get_title(self):\n",
    "        pass\n",
    "\n",
    "    @abstractmethod\n",
    "    def set_title(self, title):\n",
    "        pass\n",
    "\n",
    "class Document(Entity):\n",
    "    def get_title(self):\n",
    "        return self.title\n",
    "    \n",
    "    def set_title(self, title):\n",
    "        self.title = title\n",
    "\n",
    "document = Document()\n",
    "document.set_title('Harry Potter')\n",
    "print(document.get_title())\n",
    "\n",
    "entity = Entity()"
   ]
  },
  {
   "cell_type": "markdown",
   "metadata": {},
   "source": [
    "你应该发现了，`Entity` 本身是没有什么用的，只需拿来定义 `Document` 和 `Video` 的一些基本元素就够了。不过，万一你不小心生成 `Entity` 的对象该怎么办呢？为了防止这样的手误，必须要介绍一下抽象类。\n",
    "\n",
    "抽象类是一种特殊的类，它生下来就是**作为父类存在的，一旦对象化就会报错**。同样，抽象函数定义在抽象类之中，**子类必须重写该函数才能使用**。相应的抽象函数，则是使用装饰器 `@abstractmethod` 来表示。我们可以看到，代码中 `entity = Entity()` 直接报错，只有通过 `Document` 继承 `Entity`  才能正常使用。"
   ]
  },
  {
   "cell_type": "code",
   "execution_count": null,
   "metadata": {},
   "outputs": [],
   "source": []
  },
  {
   "cell_type": "markdown",
   "metadata": {},
   "source": [
    "这其实正是软件工程中一个很重要的概念，**定义接口**。大型工程往往需要很多人合作开发，在 idea 提出之后，开发组和产品组首先会召开产品设计会，`PM（Product Manager，产品经理）` 写出产品需求文档，然后迭代；`TL（Team Leader，项目经理）` 编写开发文档，开发文档中会定义不同模块的大致功能和接口、每个模块之间如何协作、单元测试和集成测试、线上灰度测试、监测和日志等等一系列开发流程。\n",
    "\n",
    "抽象类就是这么一种存在，它是一种自上而下的设计风范，你只需要用少量的代码描述清楚要做的事情，定义好接口，然后就可以交给不同开发人员去开发和对接。"
   ]
  },
  {
   "cell_type": "markdown",
   "metadata": {},
   "source": [
    "# 总结"
   ]
  },
  {
   "cell_type": "markdown",
   "metadata": {},
   "source": [
    "到目前为止，我们一直在强调一件事情：**面向对象编程是软件工程中重要的思想**。它不是某一种非常具体的技术，而是一种综合能力的体现，是将大型工程解耦化、模块化的重要方法。\n",
    "\n",
    "在实践中要多想，尤其是抽象地想，才能更快掌握这个技巧。\n",
    "\n",
    "1. 面向对象编程四要素是什么？它们的关系又是什么？\n",
    "\n",
    "抽象 - 封装 - 继承 - 多态\n",
    "\n",
    "个人理解：\n",
    "- 封装使得代码更加模块化，代码复用度更高\n",
    "- 继承使得子类不仅拥有自己的属性和方法，还能使用父类的属性和方法\n",
    "- 多态可以实现函数重写，使得相同方法具有不同功能\n",
    "- 抽象不同子类的相同方法和属性形成父类，在通过继承，多态，封装使得代码更加紧凑，简洁易读"
   ]
  },
  {
   "cell_type": "markdown",
   "metadata": {},
   "source": [
    "2. 讲了这么久的继承，继承究竟是什么呢？你能用三个字表达出来吗？\n",
    "\n",
    "子类继承父类的属性和方法（函数）减少代码量和复杂度；\n",
    "\n",
    "三个字：父与子\n",
    "\n",
    "> `Facebook` 很多 `Launch Doc`（上线文档）中要求用五个单词总结你的文档，因为你的文档不仅仅是你的团队要看，往上走甚至会到 VP 或者 CTO 那里，你需要言简意赅，让他们快速理解你想要表达的意思。"
   ]
  },
  {
   "cell_type": "markdown",
   "metadata": {},
   "source": [
    "# 思考题"
   ]
  },
  {
   "cell_type": "markdown",
   "metadata": {},
   "source": [
    "最后，再给你留一道思考题。既然你能通过继承一个类，来获得父类的函数和属性，那么你能继承两个吗？答案自是能的，这就叫做多重继承。那么问题来了。我们使用单一继承的时候，构造函数的执行顺序很好确定，即子类 -> 父类 -> 爷类 ->… 的链式关系。不过，多重继承的时候呢？比如下面这个例子。 \n",
    "```\n",
    " --->B---\n",
    "A-      -->D\n",
    " --->C---\n",
    "```\n",
    "\n",
    "这种继承方式，叫做菱形继承，BC 继承了 A，然后 D 继承了 BC，创造一个 D 的对象。那么，构造函数调用顺序又是怎样的呢？"
   ]
  },
  {
   "cell_type": "code",
   "execution_count": 21,
   "metadata": {},
   "outputs": [
    {
     "name": "stdout",
     "output_type": "stream",
     "text": [
      "A\n",
      "B\n",
      "A\n",
      "C\n",
      "D\n"
     ]
    }
   ],
   "source": [
    "class A():\n",
    "    def __init__(self):\n",
    "        print(\"A\")\n",
    "        \n",
    "class B(A):\n",
    "    def __init__(self):\n",
    "        A.__init__(self)\n",
    "        print(\"B\")\n",
    "\n",
    "class C(A):\n",
    "    def __init__(self):\n",
    "        A.__init__(self)\n",
    "        print(\"C\")\n",
    "\n",
    "class D(B, C):\n",
    "    def __init__(self):\n",
    "        B.__init__(self)\n",
    "        C.__init__(self)\n",
    "        print(\"D\")\n",
    "        \n",
    "d = D()"
   ]
  },
  {
   "cell_type": "markdown",
   "metadata": {},
   "source": [
    "类：一群有着相同属性和函数(方法)的对象(实例)的集合，也可以具象化的理解为是一群有着相似特征的事物的集合；用class来声明。\n",
    "\n",
    "抽象类：是一种特殊的类，只能作为父类存在，一旦对象化（或叫实例化）就会报错；一般使用class Classname(metaclass=ABCMeta)来声明。\n",
    "\n",
    "类的继承：子类继承父类，子类可以使用父类的属性和函数，同时子类可以有自己独特的属性和函数；子类在生成对象的时候（实例化时），是不会自动调用父类的构造函数的，必须在子类的构造函数中显示的调用父类的构造函数；继承的优势是减少重复代码，降低系统熵值（即复杂度）。"
   ]
  },
  {
   "cell_type": "markdown",
   "metadata": {},
   "source": [
    "属性：用 `self.属性名` 来表示，**通过构造函数传入**；表示对象(实例)的某个静态特征。\n",
    "\n",
    "私有属性：以__开头的属性，举例：`self.__属性名` ，**只能在类内部调用，类外部无法访问。**\n",
    "\n",
    "公有属性：**和函数并列声明的属性**，可以理解为常量，一般用全大写表示；在类中通过 `self.常量名` 来调用，在类外使用 `对象名.常量名` 或者 `类名.常量名` 来调用。"
   ]
  },
  {
   "cell_type": "markdown",
   "metadata": {},
   "source": [
    "函数：表示对象(实例)的某个动态能力。\n",
    "\n",
    "- 构造函数：用 `def __init__(self, args...)` 声明，第一个参数 `self` 代表当前对象的引用，其他参数是**在对象化时需要传入的属性值**；构造函数在一个对象生成时(即实例化时)会被自动调用。\n",
    "\n",
    "- 成员函数：是正常的类的函数，第一个参数必须是 `self`；可通过此函数来实现查询或修改类的属性等功能。\n",
    "\n",
    "- 静态函数：静态函数和类没有什么关联，第一个参数也没有什么特殊性；一般用来做一些简单独立的任务，既方便测试也能优化代码结构；一般使用装饰器 `@staticmethod` 来声明。\n",
    "\n",
    "- 类函数：类函数的第一个参数一般为 `cls`，表示必须传一个类进来；最常用的功能是实现不同的 `init` 构造函数；需要装饰器 `@classmethod` 来声明。\n",
    "\n",
    "- 抽象函数：一般定义在抽象类中，主要目的是要求子类必须重载该函数才能正常使用；使用装饰器 `@abstractmethod` 来声明。\n",
    "\n",
    "- 函数重载：父类的某函数通过 `raise Exception` 的方式要求子类必须重写该函数来覆盖父类原有函数。\n",
    "\n",
    "对象：类对象化（实例化）后的某一个具体事物。"
   ]
  },
  {
   "cell_type": "code",
   "execution_count": null,
   "metadata": {},
   "outputs": [],
   "source": []
  }
 ],
 "metadata": {
  "kernelspec": {
   "display_name": "Python 3",
   "language": "python",
   "name": "python3"
  },
  "language_info": {
   "codemirror_mode": {
    "name": "ipython",
    "version": 3
   },
   "file_extension": ".py",
   "mimetype": "text/x-python",
   "name": "python",
   "nbconvert_exporter": "python",
   "pygments_lexer": "ipython3",
   "version": "3.6.5"
  }
 },
 "nbformat": 4,
 "nbformat_minor": 4
}
