{
 "cells": [
  {
   "cell_type": "markdown",
   "metadata": {},
   "source": [
    "在01、02中我们学习了 Python 中的“常规”函数，用途十分广泛。不过，除了常规函数，你应该也会在代码中见到一些“非常规”函数，它们往往很简短，就一行，并且有个很酷炫的名字 — `lambda`，没错，这就是匿名函数。\n",
    "\n",
    "匿名函数在实际工作中同样举足轻重，正确地运用匿名函数，能让我们的代码更简洁、易读。"
   ]
  },
  {
   "cell_type": "markdown",
   "metadata": {},
   "source": [
    "# 匿名函数基础"
   ]
  },
  {
   "cell_type": "markdown",
   "metadata": {},
   "source": [
    "首先，什么是匿名函数呢？以下是匿名函数的格式：\n",
    "```\n",
    "lambda argument1, argument2,... argumentN : expression\n",
    "```\n",
    "\n",
    "我们可以看到，匿名函数的关键字是 `lambda`，之后是一系列的参数，然后用冒号隔开，最后则是由这些参数组成的表达式。\n",
    "\n",
    "我们通过几个例子看一下它的用法："
   ]
  },
  {
   "cell_type": "code",
   "execution_count": 1,
   "metadata": {},
   "outputs": [
    {
     "data": {
      "text/plain": [
       "9"
      ]
     },
     "execution_count": 1,
     "metadata": {},
     "output_type": "execute_result"
    }
   ],
   "source": [
    "square = lambda x: x**2\n",
    "square(3)"
   ]
  },
  {
   "cell_type": "markdown",
   "metadata": {},
   "source": [
    "这里的匿名函数只输入一个参数 x，输出则是输入 x 的平方。因此当输入是 3 时，输出便是 9。\n",
    "\n",
    "如果把这个匿名函数写成常规函数的形式，则是下面这样："
   ]
  },
  {
   "cell_type": "code",
   "execution_count": 2,
   "metadata": {},
   "outputs": [
    {
     "data": {
      "text/plain": [
       "9"
      ]
     },
     "execution_count": 2,
     "metadata": {},
     "output_type": "execute_result"
    }
   ],
   "source": [
    "def square(x):\n",
    "    return x**2\n",
    "\n",
    "square(3)"
   ]
  },
  {
   "cell_type": "markdown",
   "metadata": {},
   "source": [
    "可以看到，匿名函数 lambda 和常规函数一样，返回的都是一个函数对象（function object），它们的用法也极其相似，不过还是有下面几点区别:\n",
    "- 第一，lambda 是一个表达式（expression），并不是一个语句（statement）。\n",
    "- 第二，lambda 的主体是只有一行的简单表达式，并不能扩展成一个多行的代码块。"
   ]
  },
  {
   "cell_type": "markdown",
   "metadata": {},
   "source": [
    "## 表达式"
   ]
  },
  {
   "cell_type": "markdown",
   "metadata": {},
   "source": [
    "- 表达式：就是用一系列“公式”去表达一个东西，比如x + 2、 x**2等等；\n",
    "- 语句：一定是完成了某些功能。比如：\n",
    "    - 赋值语句 `x = 1` 完成了赋值;\n",
    "    - `print语句` -> `print(x)` 完成了打印;\n",
    "    - 条件语句 `if x < 0` 完成了选择功能等等。\n",
    "\n",
    "因此，`lambda` 可以用在一些 `常规函数def` 不能用的地方，比如，**`lambda` 可以用在列表内部，而常规函数却不能**"
   ]
  },
  {
   "cell_type": "code",
   "execution_count": 4,
   "metadata": {},
   "outputs": [
    {
     "data": {
      "text/plain": [
       "[0, 1, 4, 9, 16, 25, 36, 49, 64, 81]"
      ]
     },
     "execution_count": 4,
     "metadata": {},
     "output_type": "execute_result"
    }
   ],
   "source": [
    "# 列表内部使用\n",
    "[(lambda x: x*x)(x) for x in range(10)]"
   ]
  },
  {
   "cell_type": "markdown",
   "metadata": {},
   "source": [
    "`lamda` 可以被用作某些函数的参数，而常规函数def也不行。"
   ]
  },
  {
   "cell_type": "code",
   "execution_count": 5,
   "metadata": {},
   "outputs": [
    {
     "name": "stdout",
     "output_type": "stream",
     "text": [
      "[(2, -1), (3, 0), (9, 10), (1, 20)]\n"
     ]
    }
   ],
   "source": [
    "# 用作函数参数\n",
    "l = [(1, 20), (3, 0), (9, 10), (2, -1)]\n",
    "l.sort(key=lambda x:x[1])  # 按照列表中元组的第二个元素排序\n",
    "print(l)"
   ]
  },
  {
   "cell_type": "markdown",
   "metadata": {},
   "source": [
    "`常规函数def` 必须通过其函数名被调用，因此必须首先被定义。但是作为一个表达式的 `lambda`，返回的函数对象就不需要名字了。"
   ]
  },
  {
   "cell_type": "markdown",
   "metadata": {},
   "source": [
    "## lambda的主体\n",
    "\n",
    "lambda 的主体是**只有一行的简单表达式，并不能扩展成一个多行的代码块。**"
   ]
  },
  {
   "cell_type": "markdown",
   "metadata": {},
   "source": [
    "这其实是出于设计的考虑。Python 之所以发明 lambda，就是为了让它和常规函数各司其职：\n",
    "- lambda 专注于简单的任务；\n",
    "- 常规函数则负责更复杂的多行逻辑。"
   ]
  },
  {
   "cell_type": "markdown",
   "metadata": {},
   "source": [
    "# 为什么要使用匿名函数？"
   ]
  },
  {
   "cell_type": "markdown",
   "metadata": {},
   "source": [
    "理论上来说，Python 中有匿名函数的地方，都可以被替换成等价的其他表达形式。一个 Python 程序是可以不用任何匿名函数的。不过，在一些情况下，使用匿名函数 lambda，可以帮助我们大大简化代码的复杂度，提高代码的可读性。\n",
    "\n",
    "通常，我们用函数的目的无非是这么几点：\n",
    "- 减少代码的重复性；\n",
    "- 模块化代码。\n",
    "\n",
    "对于第一点，如果你的程序在不同地方包含了相同的代码，那么我们就会把这部分相同的代码写成一个函数，并为它取一个名字，方便在相对应的不同地方调用。\n",
    "\n",
    "对于第二点，如果你的一块儿代码是为了实现一个功能，但内容非常多，写在一起降低了代码的可读性，那么通常我们也会把这部分代码单独写成一个函数，然后加以调用。"
   ]
  },
  {
   "cell_type": "markdown",
   "metadata": {},
   "source": [
    "不过，再试想一下这样的情况。你需要一个函数，但**它非常简短**，同时它在程序中**只被调用一次**而已。\n",
    "\n",
    "这种情况，就不需要定义常规函数，定义一个lambda函数，就可以完成任务。\n",
    "\n",
    "函数就可以是匿名的，你只需要在适当的地方定义并使用，就能让匿名函数发挥作用了。\n",
    "\n",
    "举个例子，如果你想对一个列表中的所有元素做平方操作，而这个操作在你的程序中只需要进行一次，用 lambda 函数可以表示成下面这样："
   ]
  },
  {
   "cell_type": "code",
   "execution_count": 6,
   "metadata": {},
   "outputs": [],
   "source": [
    "# 让程序简洁\n",
    "squared = map(lambda x: x**2, [1, 2, 3, 4, 5])"
   ]
  },
  {
   "cell_type": "markdown",
   "metadata": {},
   "source": [
    "如果用常规函数，则表示为这几行代码："
   ]
  },
  {
   "cell_type": "code",
   "execution_count": 7,
   "metadata": {},
   "outputs": [],
   "source": [
    "def square(x):\n",
    "    return x**2\n",
    "\n",
    "squared = map(square, [1, 2, 3, 4, 5])"
   ]
  },
  {
   "cell_type": "markdown",
   "metadata": {},
   "source": [
    "这里简单介绍一下map函数 -> `map(function, iterable)` \n",
    "- 第一个参数是函数对象，\n",
    "- 第二个参数是一个可以遍历的集合，\n",
    "\n",
    "它表示对 `iterable` 的每一个元素，都运用 `function` 这个函数。\n",
    "\n",
    "两者一对比，我们很明显地发现，`lambda函数` 让代码更加简洁明了。再举一个例子，在 Python 的 Tkinter GUI 应用中，我们想实现这样一个简单的功能：**创建显示一个按钮，每当用户点击时，就打印出一段文字**。如果使用 lambda 函数可以表示成下面这样："
   ]
  },
  {
   "cell_type": "code",
   "execution_count": 8,
   "metadata": {},
   "outputs": [
    {
     "name": "stdout",
     "output_type": "stream",
     "text": [
      "being pressed\n",
      "being pressed\n",
      "being pressed\n",
      "being pressed\n"
     ]
    }
   ],
   "source": [
    "from tkinter import Button, mainloop\n",
    "\n",
    "button = Button(\n",
    "    text='This is a button',\n",
    "    command=lambda: print('being pressed')) # 点击时调用lambda函数\n",
    "\n",
    "button.pack()\n",
    "mainloop()"
   ]
  },
  {
   "cell_type": "markdown",
   "metadata": {},
   "source": [
    "而如果我们用常规函数 def，那么需要写更多的代码："
   ]
  },
  {
   "cell_type": "code",
   "execution_count": 9,
   "metadata": {},
   "outputs": [
    {
     "name": "stdout",
     "output_type": "stream",
     "text": [
      "being pressed\n",
      "being pressed\n",
      "being pressed\n",
      "being pressed\n"
     ]
    }
   ],
   "source": [
    "from tkinter import Button, mainloop\n",
    "\n",
    "def print_message():\n",
    "    print('being pressed')\n",
    "\n",
    "button = Button(\n",
    "    text='This is a button',\n",
    "    command=print_message) # 点击时调用lambda函数\n",
    "button.pack()\n",
    "mainloop()"
   ]
  },
  {
   "cell_type": "markdown",
   "metadata": {},
   "source": [
    "> 显然，运用匿名函数的代码简洁很多，也更加符合 Python 的编程习惯。"
   ]
  },
  {
   "cell_type": "markdown",
   "metadata": {},
   "source": [
    "# Python 函数式编程"
   ]
  },
  {
   "cell_type": "markdown",
   "metadata": {},
   "source": [
    "Python 的函数式编程特性与匿名函数 lambda，有着密切的联系。\n",
    "\n",
    "所谓函数式编程，是指**代码中每一块都是不可变的（immutable），都由纯函数（pure function）的形式组成**。\n",
    "\n",
    "- 纯函数，是指**函数本身相互独立、互不影响，对于相同的输入，总会有相同的输出**。\n",
    "\n",
    "举个很简单的例子，比如对于一个列表，我想让列表中的元素值都变为原来的两倍，我们可以写成下面的形式："
   ]
  },
  {
   "cell_type": "code",
   "execution_count": 10,
   "metadata": {},
   "outputs": [],
   "source": [
    "def multiply_2(l):\n",
    "    for index in range(0, len(l)):\n",
    "        l[index] *= 2\n",
    "    return l"
   ]
  },
  {
   "cell_type": "markdown",
   "metadata": {},
   "source": [
    "上面这段代码就不是一个纯函数的形式，因为列表中元素的值被改变了，如果我多次调用 `multiply_2()` 这个函数，那么每次得到的结果都不一样。要想让它成为一个纯函数的形式，就得写成下面这种形式，重新创建一个新的列表并返回。"
   ]
  },
  {
   "cell_type": "code",
   "execution_count": 11,
   "metadata": {},
   "outputs": [],
   "source": [
    "# 函数式编程，将列表元素加倍\n",
    "def multiply_2_pure(l):\n",
    "    new_list = []\n",
    "    for item in l:\n",
    "        new_list.append(item * 2)\n",
    "    return new_list"
   ]
  },
  {
   "cell_type": "markdown",
   "metadata": {},
   "source": [
    "- 函数式编程的优点，主要在于**其纯函数和不可变的特性使程序更加健壮，易于调试（debug）和测试**；\n",
    "- 缺点主要在于**限制多，难写**。\n",
    "\n",
    "Python 不同于一些语言（比如 Scala），它并不是一门函数式编程语言，不过，Python 也提供了一些函数式编程的特性，值得我们了解和学习。\n",
    "\n",
    "Python 主要提供了这么几个函数：`map()`、`filter()` 和 `reduce()`，通常结合匿名函数 `lambda` 一起使用。"
   ]
  },
  {
   "cell_type": "markdown",
   "metadata": {},
   "source": [
    "## map(function, iterable) 函数\n",
    "\n",
    "前面的例子提到过，它表示，对 `iterable` 中的每个元素，都运用 `function` 这个函数，最后返回一个**新的可遍历的迭代器**。\n",
    "\n",
    "比如刚才列表的例子，要对列表中的每个元素乘以 2，那么用 map 就可以表示为下面这样："
   ]
  },
  {
   "cell_type": "code",
   "execution_count": 16,
   "metadata": {},
   "outputs": [],
   "source": [
    "l = [1, 2, 3, 4, 5]\n",
    "new_list = map(lambda x:x**2, l)"
   ]
  },
  {
   "cell_type": "code",
   "execution_count": 23,
   "metadata": {},
   "outputs": [
    {
     "data": {
      "text/plain": [
       "<filter at 0x152bddc7e10>"
      ]
     },
     "execution_count": 23,
     "metadata": {},
     "output_type": "execute_result"
    }
   ],
   "source": [
    "new_list"
   ]
  },
  {
   "cell_type": "code",
   "execution_count": 24,
   "metadata": {},
   "outputs": [
    {
     "name": "stdout",
     "output_type": "stream",
     "text": [
      "2\n",
      "4\n"
     ]
    }
   ],
   "source": [
    "for i in new_list:\n",
    "    print(i)"
   ]
  },
  {
   "cell_type": "markdown",
   "metadata": {},
   "source": [
    "我们可以以 `map()` 函数为例，看一下 Python 提供的函数式编程接口的性能。还是同样的列表例子，它还可以用 `for` 循环和 `list comprehension`（目前没有统一中文叫法，你也可以直译为列表理解等）实现，我们来比较一下它们的速度：\n",
    "```\n",
    "\n",
    "python3 -mtimeit -s'xs=range(1000000)' 'map(lambda x: x*2, xs)'\n",
    "2000000 loops, best of 5: 171 nsec per loop\n",
    "\n",
    "python3 -mtimeit -s'xs=range(1000000)' '[x * 2 for x in xs]'\n",
    "5 loops, best of 5: 62.9 msec per loop\n",
    "\n",
    "python3 -mtimeit -s'xs=range(1000000)' 'l = []' 'for i in xs: l.append(i * 2)'\n",
    "5 loops, best of 5: 92.7 msec per loop\n",
    "```\n",
    "可以看到，map() 是最快的。因为 map() 函数直接由 C 语言写的，运行时不需要通过 Python 解释器间接调用，并且内部做了诸多优化，所以运行速度最快。"
   ]
  },
  {
   "cell_type": "markdown",
   "metadata": {},
   "source": [
    "## filter(function, iterable) "
   ]
  },
  {
   "cell_type": "markdown",
   "metadata": {},
   "source": [
    "它和 `map` 函数类似，`function` 同样表示一个函数对象。`filter()` 函数表示对 `iterable` 中的每个元素，都使用 `function` 判断，并返回 True 或者 False，最后将返回 True 的元素组成一个新的可遍历的集合。\n",
    "\n",
    "举个例子，比如我要返回一个列表中的所有偶数，可以写成下面这样："
   ]
  },
  {
   "cell_type": "code",
   "execution_count": 19,
   "metadata": {},
   "outputs": [
    {
     "data": {
      "text/plain": [
       "<filter at 0x152bddc7e10>"
      ]
     },
     "execution_count": 19,
     "metadata": {},
     "output_type": "execute_result"
    }
   ],
   "source": [
    "l = [1, 2, 3, 4, 5]\n",
    "new_list = filter(lambda x: x % 2 == 0, l) # [2, 4]\n",
    "new_list"
   ]
  },
  {
   "cell_type": "markdown",
   "metadata": {},
   "source": [
    "## reduce(function, iterable)"
   ]
  },
  {
   "cell_type": "markdown",
   "metadata": {},
   "source": [
    "它通常用来**对一个集合做一些累积操作**。`function` 同样是一个函数对象，规定它有两个参数，表示对 iterable 中的每个元素以及上一次调用后的结果，运用 function 进行计算，所以最后返回的是一个单独的数值。\n",
    "\n",
    "举个例子，我想要计算某个列表元素的乘积，就可以用 reduce() 函数来表示："
   ]
  },
  {
   "cell_type": "code",
   "execution_count": null,
   "metadata": {},
   "outputs": [],
   "source": [
    "l = [1, 2, 3, 4, 5]\n",
    "\n",
    "product = reduce(lambda x, y: x * y, l)  # 1*2*3*4*5 = 120"
   ]
  },
  {
   "cell_type": "markdown",
   "metadata": {},
   "source": [
    "`filter()` 和 `reduce()` 的功能，也可以用 for 循环或者 list comprehension 来实现。\n",
    "\n",
    "通常来说，在我们想对集合中的元素进行一些操作时，如果操作非常简单，比如相加、累积这种，那么我们优先考虑 map()、filter()、reduce() 这类或者 list comprehension 的形式。\n",
    "\n",
    "至于这两种方式的选择：\n",
    "- 在数据量非常多的情况下，比如机器学习的应用，那我们一般更倾向于函数式编程的表示，因为效率更高；\n",
    "- 在数据量不多的情况下，并且你想要程序更加 Pythonic 的话，那么 list comprehension 也不失为一个好选择。\n",
    "\n",
    "不过，如果你要对集合中的元素，做一些比较复杂的操作，那么，考虑到代码的可读性，我们通常会使用 for 循环，这样更加清晰明了。"
   ]
  },
  {
   "cell_type": "markdown",
   "metadata": {},
   "source": [
    "# 总结\n",
    "\n",
    "这节课，我们一起学习了 Python 中的匿名函数 lambda，它的主要用途是减少代码的复杂度。\n",
    "\n",
    "需要注意的是 lambda 是一个表达式，并不是一个语句；\n",
    "\n",
    "它只能写成一行的表达形式，语法上并不支持多行。匿名函数通常的使用场景是：程序中需要使用一次\n",
    "\n",
    "其次，我们也入门了 Python 的函数式编程，主要了解了常见的 map()，fiilter() 和 reduce() 三个函数，并比较了它们与其他形式（for 循环，comprehension）的性能，显然，它们的性能效率是最优的。"
   ]
  },
  {
   "cell_type": "markdown",
   "metadata": {},
   "source": [
    "# 思考题\n",
    "\n",
    "1、如果让你对一个字典，根据值进行由高到底的排序，该怎么做呢？以下面这段代码为例，你可以思考一下。\n",
    "```\n",
    "d = {'mike': 10, 'lucy': 2, 'ben': 30}\n",
    "```"
   ]
  },
  {
   "cell_type": "code",
   "execution_count": 22,
   "metadata": {},
   "outputs": [
    {
     "data": {
      "text/plain": [
       "[('ben', 30), ('mike', 10), ('luck', 2)]"
      ]
     },
     "execution_count": 22,
     "metadata": {},
     "output_type": "execute_result"
    }
   ],
   "source": [
    "d = {'mike': 10, 'luck': 2, 'ben': 30}\n",
    "sorted(d.items(), key=lambda x: x[1], reverse=True)"
   ]
  },
  {
   "cell_type": "code",
   "execution_count": null,
   "metadata": {},
   "outputs": [],
   "source": []
  }
 ],
 "metadata": {
  "kernelspec": {
   "display_name": "Python 3",
   "language": "python",
   "name": "python3"
  },
  "language_info": {
   "codemirror_mode": {
    "name": "ipython",
    "version": 3
   },
   "file_extension": ".py",
   "mimetype": "text/x-python",
   "name": "python",
   "nbconvert_exporter": "python",
   "pygments_lexer": "ipython3",
   "version": "3.6.5"
  }
 },
 "nbformat": 4,
 "nbformat_minor": 4
}
