{
 "cells": [
  {
   "cell_type": "markdown",
   "metadata": {},
   "source": [
    "# 函数\n",
    "![函数](media/函数.png)"
   ]
  },
  {
   "cell_type": "markdown",
   "metadata": {},
   "source": [
    "# 一、 函数的定义及调用\n",
    "![函数的定义和调用](media/函数的定义和调用.png)\n",
    "\n",
    "## 01. 为什么要用函数\n",
    "\n",
    "1. **提高代码复用性** — 抽象出来，封装为函数\n",
    "2. 将复杂的大问题分解成一系列小问题，**分而治之 — 模块化设计的思想**\n",
    "3. 利于代码的维护和管理"
   ]
  },
  {
   "cell_type": "markdown",
   "metadata": {},
   "source": [
    "**顺序式**"
   ]
  },
  {
   "cell_type": "code",
   "execution_count": 1,
   "metadata": {},
   "outputs": [
    {
     "name": "stdout",
     "output_type": "stream",
     "text": [
      "120\n",
      "2432902008176640000\n"
     ]
    }
   ],
   "source": [
    "# 5的阶乘\n",
    "n = 5\n",
    "res = 1\n",
    "for i in range(1, n+1):\n",
    "    res *= i\n",
    "print(res)\n",
    "\n",
    "# 20的阶乘\n",
    "n = 20\n",
    "res = 1\n",
    "for i in range(1, n+1):\n",
    "    res *= i\n",
    "print(res)"
   ]
  },
  {
   "cell_type": "markdown",
   "metadata": {},
   "source": [
    "**抽象成函数**"
   ]
  },
  {
   "cell_type": "code",
   "execution_count": 2,
   "metadata": {},
   "outputs": [
    {
     "name": "stdout",
     "output_type": "stream",
     "text": [
      "120\n",
      "2432902008176640000\n"
     ]
    }
   ],
   "source": [
    "def factoria(n):\n",
    "    res = 1\n",
    "    for i in range(1,n+1):\n",
    "        res *= i\n",
    "    return res\n",
    "\n",
    "\n",
    "print(factoria(5))\n",
    "print(factoria(20))"
   ]
  },
  {
   "cell_type": "markdown",
   "metadata": {},
   "source": [
    "## 02. 函数的定义及调用\n",
    "\n",
    "**白箱子：输入 — 处理过程 — 输出**   \n",
    "  \n",
    "**三要素：参数、函数体、返回值**\n",
    "\n",
    "**1、定义** \n",
    "```\n",
    "def 函数名(参数):\n",
    "    函数体\n",
    "    return 返回值\n",
    "```"
   ]
  },
  {
   "cell_type": "code",
   "execution_count": 3,
   "metadata": {},
   "outputs": [],
   "source": [
    "# 求正方形的面积\n",
    "def area_of_square(length_of_side):\n",
    "    square_area = pow(length_of_side, 2)\n",
    "    return square_area    "
   ]
  },
  {
   "cell_type": "markdown",
   "metadata": {},
   "source": [
    "**2、调用**  \n",
    "  \n",
    "函数名（参数）"
   ]
  },
  {
   "cell_type": "code",
   "execution_count": 4,
   "metadata": {},
   "outputs": [
    {
     "data": {
      "text/plain": [
       "25"
      ]
     },
     "execution_count": 4,
     "metadata": {},
     "output_type": "execute_result"
    }
   ],
   "source": [
    "area = area_of_square(5)\n",
    "area"
   ]
  },
  {
   "cell_type": "markdown",
   "metadata": {},
   "source": [
    "## 03. 参数传递\n",
    "\n",
    "### 3.1 形参与实参\n",
    "\n",
    "* 形参（形式参数）：函数定义时的参数，实际上就是变量名\n",
    "\n",
    "* 实参（实际参数）：函数调用时的参数，实际上就是变量的值\n",
    "\n",
    "### 3.2 位置参数\n",
    "\n",
    "* 严格按照位置顺序，用实参对形参进行赋值(关联）  \n",
    "\n",
    "* 一般用在参数比较少的时候"
   ]
  },
  {
   "cell_type": "code",
   "execution_count": 5,
   "metadata": {},
   "outputs": [
    {
     "name": "stdout",
     "output_type": "stream",
     "text": [
      "1 2 3\n"
     ]
    }
   ],
   "source": [
    "def function(x, y, z):\n",
    "    print(x, y, z)\n",
    "    \n",
    "    \n",
    "function(1, 2, 3)    # x = 1; y = 2; z = 3"
   ]
  },
  {
   "cell_type": "markdown",
   "metadata": {},
   "source": [
    "* 实参与形参个数必须一一对应，一个不能多，一个不能少"
   ]
  },
  {
   "cell_type": "code",
   "execution_count": 6,
   "metadata": {},
   "outputs": [
    {
     "ename": "TypeError",
     "evalue": "function() missing 1 required positional argument: 'z'",
     "output_type": "error",
     "traceback": [
      "\u001b[1;31m---------------------------------------------------------------------------\u001b[0m",
      "\u001b[1;31mTypeError\u001b[0m                                 Traceback (most recent call last)",
      "\u001b[1;32m<ipython-input-6-2a7da6ff9675>\u001b[0m in \u001b[0;36m<module>\u001b[1;34m()\u001b[0m\n\u001b[1;32m----> 1\u001b[1;33m \u001b[0mfunction\u001b[0m\u001b[1;33m(\u001b[0m\u001b[1;36m1\u001b[0m\u001b[1;33m,\u001b[0m \u001b[1;36m2\u001b[0m\u001b[1;33m)\u001b[0m\u001b[1;33m\u001b[0m\u001b[0m\n\u001b[0m",
      "\u001b[1;31mTypeError\u001b[0m: function() missing 1 required positional argument: 'z'"
     ]
    }
   ],
   "source": [
    "function(1, 2)"
   ]
  },
  {
   "cell_type": "code",
   "execution_count": 7,
   "metadata": {},
   "outputs": [
    {
     "ename": "TypeError",
     "evalue": "function() takes 3 positional arguments but 4 were given",
     "output_type": "error",
     "traceback": [
      "\u001b[1;31m---------------------------------------------------------------------------\u001b[0m",
      "\u001b[1;31mTypeError\u001b[0m                                 Traceback (most recent call last)",
      "\u001b[1;32m<ipython-input-7-748d3d0335e6>\u001b[0m in \u001b[0;36m<module>\u001b[1;34m()\u001b[0m\n\u001b[1;32m----> 1\u001b[1;33m \u001b[0mfunction\u001b[0m\u001b[1;33m(\u001b[0m\u001b[1;36m1\u001b[0m\u001b[1;33m,\u001b[0m \u001b[1;36m2\u001b[0m\u001b[1;33m,\u001b[0m \u001b[1;36m3\u001b[0m\u001b[1;33m,\u001b[0m \u001b[1;36m4\u001b[0m\u001b[1;33m)\u001b[0m\u001b[1;33m\u001b[0m\u001b[0m\n\u001b[0m",
      "\u001b[1;31mTypeError\u001b[0m: function() takes 3 positional arguments but 4 were given"
     ]
    }
   ],
   "source": [
    "function(1, 2, 3, 4)"
   ]
  },
  {
   "cell_type": "markdown",
   "metadata": {},
   "source": [
    "### 3.3 关键字参数\n",
    "\n",
    "* 打破位置限制，直呼其名的进行值的传递（形参=实参）\n",
    "\n",
    "* 必须遵守实参与形参数量上一一对应\n",
    "\n",
    "* 多用在参数比较多的场合"
   ]
  },
  {
   "cell_type": "code",
   "execution_count": 8,
   "metadata": {
    "scrolled": true
   },
   "outputs": [
    {
     "name": "stdout",
     "output_type": "stream",
     "text": [
      "3 1 2\n"
     ]
    }
   ],
   "source": [
    "def function(x, y, z):\n",
    "    print(x, y, z)\n",
    "    \n",
    "    \n",
    "function(y=1, z=2, x=3)    # x = 1; y = 2; z = 3"
   ]
  },
  {
   "cell_type": "markdown",
   "metadata": {},
   "source": [
    "* 位置参数可以与关键字参数混合使用\n",
    "\n",
    "* 但是，位置参数必须放在关键字参数前面"
   ]
  },
  {
   "cell_type": "code",
   "execution_count": 9,
   "metadata": {
    "scrolled": true
   },
   "outputs": [
    {
     "name": "stdout",
     "output_type": "stream",
     "text": [
      "1 3 2\n"
     ]
    }
   ],
   "source": [
    "function(1, z=2, y=3)"
   ]
  },
  {
   "cell_type": "code",
   "execution_count": 10,
   "metadata": {},
   "outputs": [
    {
     "name": "stdout",
     "output_type": "stream",
     "text": [
      "1 2 3\n"
     ]
    }
   ],
   "source": [
    "function(1, 2, z=3)"
   ]
  },
  {
   "cell_type": "markdown",
   "metadata": {},
   "source": [
    "* 不能为同一个形参重复传值"
   ]
  },
  {
   "cell_type": "code",
   "execution_count": 11,
   "metadata": {},
   "outputs": [
    {
     "ename": "TypeError",
     "evalue": "function() got multiple values for argument 'x'",
     "output_type": "error",
     "traceback": [
      "\u001b[1;31m---------------------------------------------------------------------------\u001b[0m",
      "\u001b[1;31mTypeError\u001b[0m                                 Traceback (most recent call last)",
      "\u001b[1;32m<ipython-input-11-f385272db011>\u001b[0m in \u001b[0;36m<module>\u001b[1;34m()\u001b[0m\n\u001b[0;32m      3\u001b[0m \u001b[1;33m\u001b[0m\u001b[0m\n\u001b[0;32m      4\u001b[0m \u001b[1;33m\u001b[0m\u001b[0m\n\u001b[1;32m----> 5\u001b[1;33m \u001b[0mfunction\u001b[0m\u001b[1;33m(\u001b[0m\u001b[1;36m1\u001b[0m\u001b[1;33m,\u001b[0m \u001b[0mz\u001b[0m\u001b[1;33m=\u001b[0m\u001b[1;36m2\u001b[0m\u001b[1;33m,\u001b[0m \u001b[0mx\u001b[0m\u001b[1;33m=\u001b[0m\u001b[1;36m3\u001b[0m\u001b[1;33m)\u001b[0m\u001b[1;33m\u001b[0m\u001b[0m\n\u001b[0m",
      "\u001b[1;31mTypeError\u001b[0m: function() got multiple values for argument 'x'"
     ]
    }
   ],
   "source": [
    "def function(x, y, z):\n",
    "    print(x, y, z)\n",
    "\n",
    "\n",
    "function(1, z=2, x=3)"
   ]
  },
  {
   "cell_type": "markdown",
   "metadata": {},
   "source": [
    "### 3.4 默认参数\n",
    "\n",
    "* 在定义阶段就给形参赋值——该形参的常用值\n",
    "\n",
    "* **默认参数必须放在非默认参数后面**\n",
    "\n",
    "* **调用函数时，可以不对该形参传值**\n",
    "\n",
    "* 机器学习库中类的方法里非常常见"
   ]
  },
  {
   "cell_type": "code",
   "execution_count": 12,
   "metadata": {},
   "outputs": [
    {
     "ename": "SyntaxError",
     "evalue": "non-default argument follows default argument (<ipython-input-12-b0d68da8a08b>, line 2)",
     "output_type": "error",
     "traceback": [
      "\u001b[1;36m  File \u001b[1;32m\"<ipython-input-12-b0d68da8a08b>\"\u001b[1;36m, line \u001b[1;32m2\u001b[0m\n\u001b[1;33m    def register(name, sex=\"male\", age):\u001b[0m\n\u001b[1;37m                ^\u001b[0m\n\u001b[1;31mSyntaxError\u001b[0m\u001b[1;31m:\u001b[0m non-default argument follows default argument\n"
     ]
    }
   ],
   "source": [
    "# 默认参数必须放在非默认参数后面，否则报错\n",
    "def register(name, sex=\"male\", age):\n",
    "    print(name, age, sex)"
   ]
  },
  {
   "cell_type": "code",
   "execution_count": 13,
   "metadata": {},
   "outputs": [
    {
     "name": "stdout",
     "output_type": "stream",
     "text": [
      "大杰仔 18 male\n"
     ]
    }
   ],
   "source": [
    "def register(name, age, sex=\"male\"):\n",
    "    print(name, age, sex)\n",
    "\n",
    "\n",
    "register(\"大杰仔\", 18)"
   ]
  },
  {
   "cell_type": "markdown",
   "metadata": {},
   "source": [
    "* 也可以按正常的形参进行传值"
   ]
  },
  {
   "cell_type": "code",
   "execution_count": 14,
   "metadata": {},
   "outputs": [
    {
     "name": "stdout",
     "output_type": "stream",
     "text": [
      "林志玲 38 female\n"
     ]
    }
   ],
   "source": [
    "register(\"林志玲\", 38, \"female\")"
   ]
  },
  {
   "cell_type": "markdown",
   "metadata": {},
   "source": [
    "* **默认参数应该设置为不可变类型（数字、字符串、元组）**，绝对不能用列表"
   ]
  },
  {
   "cell_type": "code",
   "execution_count": 15,
   "metadata": {},
   "outputs": [
    {
     "name": "stdout",
     "output_type": "stream",
     "text": [
      "2412983438088\n",
      "2412983438088\n",
      "[1]\n"
     ]
    }
   ],
   "source": [
    "def function(ls=[]):\n",
    "    print(id(ls))\n",
    "    ls.append(1)\n",
    "    print(id(ls))\n",
    "    print(ls)\n",
    "\n",
    "\n",
    "function()"
   ]
  },
  {
   "cell_type": "code",
   "execution_count": 16,
   "metadata": {},
   "outputs": [
    {
     "name": "stdout",
     "output_type": "stream",
     "text": [
      "2412983438088\n",
      "2412983438088\n",
      "[1, 1]\n"
     ]
    }
   ],
   "source": [
    "function()"
   ]
  },
  {
   "cell_type": "code",
   "execution_count": 17,
   "metadata": {},
   "outputs": [
    {
     "name": "stdout",
     "output_type": "stream",
     "text": [
      "2412983438088\n",
      "2412983438088\n",
      "[1, 1, 1]\n"
     ]
    }
   ],
   "source": [
    "function()"
   ]
  },
  {
   "cell_type": "markdown",
   "metadata": {},
   "source": [
    "> 从上面运行三次function()函数的结果看出，列表的地址没有变，每次调用是在前一次的基础上在调用"
   ]
  },
  {
   "cell_type": "code",
   "execution_count": 18,
   "metadata": {
    "scrolled": true
   },
   "outputs": [
    {
     "name": "stdout",
     "output_type": "stream",
     "text": [
      "2412944691864\n",
      "2412984947376\n",
      "Python3.7\n"
     ]
    }
   ],
   "source": [
    "def function(ls=\"Python\"):\n",
    "    print(id(ls))\n",
    "    ls += \"3.7\"\n",
    "    print(id(ls))\n",
    "    print(ls)\n",
    "    \n",
    "    \n",
    "function()"
   ]
  },
  {
   "cell_type": "code",
   "execution_count": 19,
   "metadata": {},
   "outputs": [
    {
     "name": "stdout",
     "output_type": "stream",
     "text": [
      "2412944691864\n",
      "2412984949744\n",
      "Python3.7\n"
     ]
    }
   ],
   "source": [
    "function()"
   ]
  },
  {
   "cell_type": "code",
   "execution_count": 20,
   "metadata": {},
   "outputs": [
    {
     "name": "stdout",
     "output_type": "stream",
     "text": [
      "2412944691864\n",
      "2412984950064\n",
      "Python3.7\n"
     ]
    }
   ],
   "source": [
    "function()"
   ]
  },
  {
   "cell_type": "markdown",
   "metadata": {},
   "source": [
    "* **让参数变成可选的**"
   ]
  },
  {
   "cell_type": "code",
   "execution_count": 21,
   "metadata": {},
   "outputs": [
    {
     "name": "stdout",
     "output_type": "stream",
     "text": [
      "大仔\n",
      "大杰仔\n"
     ]
    }
   ],
   "source": [
    "def name(first_name, last_name, middle_name=None):\n",
    "    if middle_name:\n",
    "        return first_name+middle_name+last_name\n",
    "    else:\n",
    "        return first_name+last_name\n",
    "    \n",
    "    \n",
    "print(name(\"大\",\"仔\"))\n",
    "print(name(\"大\", \"仔\", \"杰\"))"
   ]
  },
  {
   "cell_type": "markdown",
   "metadata": {},
   "source": [
    "### 3.5 可变长参数 *args\n",
    "\n",
    "* 不知道会传过来多少参数  *args  \n",
    "\n",
    "* 该形参必须放在参数列表的最后"
   ]
  },
  {
   "cell_type": "code",
   "execution_count": 22,
   "metadata": {},
   "outputs": [
    {
     "name": "stdout",
     "output_type": "stream",
     "text": [
      "1 2 3\n",
      "(4, 5, 6)\n"
     ]
    }
   ],
   "source": [
    "def foo(x, y, z, *args):\n",
    "    print(x, y ,z)\n",
    "    print(args)\n",
    "    \n",
    "    \n",
    "foo(1, 2, 3, 4, 5, 6)    # 多余的参数，打包传递给args"
   ]
  },
  {
   "cell_type": "markdown",
   "metadata": {},
   "source": [
    "* 实参打散"
   ]
  },
  {
   "cell_type": "code",
   "execution_count": 23,
   "metadata": {},
   "outputs": [
    {
     "name": "stdout",
     "output_type": "stream",
     "text": [
      "1 2 3\n",
      "([4, 5, 6],)\n"
     ]
    }
   ],
   "source": [
    "def foo(x, y, z, *args):\n",
    "    print(x, y ,z)\n",
    "    print(args)\n",
    "\n",
    "    \n",
    "foo(1, 2, 3, [4, 5, 6])  # 会被打包成元祖形式"
   ]
  },
  {
   "cell_type": "code",
   "execution_count": 24,
   "metadata": {},
   "outputs": [
    {
     "name": "stdout",
     "output_type": "stream",
     "text": [
      "1 2 3\n",
      "(4, 5, 6)\n"
     ]
    }
   ],
   "source": [
    "foo(1, 2, 3, *[4, 5, 6])   # 打散的是列表、字符串、元组或集合，成为一个单独的元素"
   ]
  },
  {
   "cell_type": "markdown",
   "metadata": {},
   "source": [
    "### 3.6 可变长参数**kwargs"
   ]
  },
  {
   "cell_type": "code",
   "execution_count": 25,
   "metadata": {
    "scrolled": true
   },
   "outputs": [
    {
     "name": "stdout",
     "output_type": "stream",
     "text": [
      "1 2 3\n",
      "{'a': 4, 'b': 5, 'c': 6}\n"
     ]
    }
   ],
   "source": [
    "def foo(x, y, z, **kwargs):\n",
    "    print(x, y ,z)\n",
    "    print(kwargs)\n",
    "    \n",
    "    \n",
    "foo(1, 2, 3, a=4, b=5, c=6)    #  多余的参数，以字典的形式打包传递给kwargs"
   ]
  },
  {
   "cell_type": "markdown",
   "metadata": {},
   "source": [
    "* 字典实参打散"
   ]
  },
  {
   "cell_type": "code",
   "execution_count": 26,
   "metadata": {},
   "outputs": [
    {
     "name": "stdout",
     "output_type": "stream",
     "text": [
      "1 2 3\n",
      "{'a': 4, 'b': 5, 'c': 6}\n"
     ]
    }
   ],
   "source": [
    "def foo(x, y, z, **kwargs):\n",
    "    print(x, y ,z)\n",
    "    print(kwargs)\n",
    "\n",
    "    \n",
    "foo(1, 2, 3, **{\"a\": 4, \"b\": 5, \"c\":6})"
   ]
  },
  {
   "cell_type": "code",
   "execution_count": 27,
   "metadata": {},
   "outputs": [
    {
     "ename": "TypeError",
     "evalue": "foo() takes 3 positional arguments but 4 were given",
     "output_type": "error",
     "traceback": [
      "\u001b[1;31m---------------------------------------------------------------------------\u001b[0m",
      "\u001b[1;31mTypeError\u001b[0m                                 Traceback (most recent call last)",
      "\u001b[1;32m<ipython-input-27-8c8d6a4026fd>\u001b[0m in \u001b[0;36m<module>\u001b[1;34m()\u001b[0m\n\u001b[0;32m      3\u001b[0m     \u001b[0mprint\u001b[0m\u001b[1;33m(\u001b[0m\u001b[0mkwargs\u001b[0m\u001b[1;33m)\u001b[0m\u001b[1;33m\u001b[0m\u001b[0m\n\u001b[0;32m      4\u001b[0m \u001b[1;33m\u001b[0m\u001b[0m\n\u001b[1;32m----> 5\u001b[1;33m \u001b[0mfoo\u001b[0m\u001b[1;33m(\u001b[0m\u001b[1;36m1\u001b[0m\u001b[1;33m,\u001b[0m \u001b[1;36m2\u001b[0m\u001b[1;33m,\u001b[0m \u001b[1;36m3\u001b[0m\u001b[1;33m,\u001b[0m \u001b[1;33m{\u001b[0m\u001b[1;34m\"a\"\u001b[0m\u001b[1;33m:\u001b[0m\u001b[1;36m4\u001b[0m\u001b[1;33m,\u001b[0m \u001b[1;34m\"b\"\u001b[0m\u001b[1;33m:\u001b[0m\u001b[1;36m5\u001b[0m\u001b[1;33m}\u001b[0m\u001b[1;33m)\u001b[0m\u001b[1;33m\u001b[0m\u001b[0m\n\u001b[0m",
      "\u001b[1;31mTypeError\u001b[0m: foo() takes 3 positional arguments but 4 were given"
     ]
    }
   ],
   "source": [
    "def foo(x, y, z, **kwargs):\n",
    "    print(x, y, z)\n",
    "    print(kwargs)\n",
    "\n",
    "foo(1, 2, 3, {\"a\":4, \"b\":5})"
   ]
  },
  {
   "cell_type": "markdown",
   "metadata": {},
   "source": [
    "* **可变长参数的组合使用**"
   ]
  },
  {
   "cell_type": "code",
   "execution_count": 28,
   "metadata": {},
   "outputs": [
    {
     "name": "stdout",
     "output_type": "stream",
     "text": [
      "(1, 2, 3)\n",
      "{'a': 4, 'b': 5, 'c': 6}\n"
     ]
    }
   ],
   "source": [
    "def foo(*args, **kwargs):\n",
    "    print(args)\n",
    "    print(kwargs)\n",
    "    \n",
    "    \n",
    "foo(1, 2, 3, a=4, b=5, c=6)  # 可以接受任意长度的输入。"
   ]
  },
  {
   "cell_type": "markdown",
   "metadata": {},
   "source": []
  },
  {
   "cell_type": "markdown",
   "metadata": {},
   "source": [
    "## 04. 函数体与变量作用域\n",
    "\n",
    "* 函数体就是一段只在函数被调用时，才会执行的代码，代码构成与其他代码并无不同  \n",
    "\n",
    "### 4.1 局部变量\n",
    "\n",
    "* **局部变量** — 仅在函数体内定义和发挥作用"
   ]
  },
  {
   "cell_type": "code",
   "execution_count": 29,
   "metadata": {},
   "outputs": [
    {
     "ename": "NameError",
     "evalue": "name 'z' is not defined",
     "output_type": "error",
     "traceback": [
      "\u001b[1;31m---------------------------------------------------------------------------\u001b[0m",
      "\u001b[1;31mNameError\u001b[0m                                 Traceback (most recent call last)",
      "\u001b[1;32m<ipython-input-29-9a7fd4c4c0a9>\u001b[0m in \u001b[0;36m<module>\u001b[1;34m()\u001b[0m\n\u001b[0;32m      5\u001b[0m \u001b[1;33m\u001b[0m\u001b[0m\n\u001b[0;32m      6\u001b[0m \u001b[0mmultipy\u001b[0m\u001b[1;33m(\u001b[0m\u001b[1;36m2\u001b[0m\u001b[1;33m,\u001b[0m \u001b[1;36m9\u001b[0m\u001b[1;33m)\u001b[0m\u001b[1;33m\u001b[0m\u001b[0m\n\u001b[1;32m----> 7\u001b[1;33m \u001b[0mprint\u001b[0m\u001b[1;33m(\u001b[0m\u001b[0mz\u001b[0m\u001b[1;33m)\u001b[0m            \u001b[1;31m# 函数执行完毕，局部变量z已经被释放掉了\u001b[0m\u001b[1;33m\u001b[0m\u001b[0m\n\u001b[0m",
      "\u001b[1;31mNameError\u001b[0m: name 'z' is not defined"
     ]
    }
   ],
   "source": [
    "def multipy(x, y):\n",
    "    z = x*y\n",
    "    return z   \n",
    "\n",
    "\n",
    "multipy(2, 9)\n",
    "print(z)            # 函数执行完毕，局部变量z已经被释放掉了"
   ]
  },
  {
   "cell_type": "markdown",
   "metadata": {},
   "source": [
    "### 4.2 全局变量\n",
    "\n",
    "* **全局变量** — 外部定义的都是全局变量\n",
    "\n",
    "* 全局变量可以在函数体内直接被使用"
   ]
  },
  {
   "cell_type": "code",
   "execution_count": 30,
   "metadata": {
    "scrolled": true
   },
   "outputs": [
    {
     "name": "stdout",
     "output_type": "stream",
     "text": [
      "54\n"
     ]
    },
    {
     "data": {
      "text/plain": [
       "[0, 54]"
      ]
     },
     "execution_count": 30,
     "metadata": {},
     "output_type": "execute_result"
    }
   ],
   "source": [
    "n = 3\n",
    "ls = [0]\n",
    "def multipy(x, y):\n",
    "    z = n*x*y\n",
    "    ls.append(z)\n",
    "    return z   \n",
    "\n",
    "\n",
    "print(multipy(2, 9))\n",
    "ls"
   ]
  },
  {
   "cell_type": "markdown",
   "metadata": {},
   "source": [
    "* 通过global 在函数体内定义全局变量"
   ]
  },
  {
   "cell_type": "code",
   "execution_count": 31,
   "metadata": {},
   "outputs": [
    {
     "name": "stdout",
     "output_type": "stream",
     "text": [
      "18\n",
      "18\n"
     ]
    }
   ],
   "source": [
    "def multipy(x, y):\n",
    "    global z\n",
    "    z = x*y\n",
    "    return z \n",
    "\n",
    "\n",
    "print(multipy(2, 9))\n",
    "print(z)"
   ]
  },
  {
   "cell_type": "markdown",
   "metadata": {},
   "source": [
    "## 05. 返回值\n",
    "\n",
    "### 5.1 单个返回值"
   ]
  },
  {
   "cell_type": "code",
   "execution_count": 32,
   "metadata": {},
   "outputs": [
    {
     "data": {
      "text/plain": [
       "100"
      ]
     },
     "execution_count": 32,
     "metadata": {},
     "output_type": "execute_result"
    }
   ],
   "source": [
    "def foo(x):\n",
    "    return x**2\n",
    "\n",
    "\n",
    "res = foo(10)\n",
    "res"
   ]
  },
  {
   "cell_type": "markdown",
   "metadata": {},
   "source": [
    "### 5.2、多个返回值 — 以元组的形式"
   ]
  },
  {
   "cell_type": "code",
   "execution_count": 33,
   "metadata": {},
   "outputs": [
    {
     "name": "stdout",
     "output_type": "stream",
     "text": [
      "(1, 3, 9, 27)\n"
     ]
    }
   ],
   "source": [
    "def foo(x):\n",
    "    return 1, x, x**2, x**3    # 逗号分开，打包返回\n",
    "\n",
    "\n",
    "print(foo(3))"
   ]
  },
  {
   "cell_type": "code",
   "execution_count": 34,
   "metadata": {},
   "outputs": [
    {
     "name": "stdout",
     "output_type": "stream",
     "text": [
      "1\n",
      "3\n",
      "9\n",
      "27\n"
     ]
    }
   ],
   "source": [
    "a, b, c, d = foo(3)       # 解包赋值\n",
    "print(a)\n",
    "print(b)\n",
    "print(c)\n",
    "print(d)"
   ]
  },
  {
   "cell_type": "markdown",
   "metadata": {},
   "source": [
    "### 5.3 多个return结构\n",
    "**可以有多个return 语句，一旦其中一个执行，代表了函数运行的结束**"
   ]
  },
  {
   "cell_type": "code",
   "execution_count": 35,
   "metadata": {},
   "outputs": [
    {
     "name": "stdout",
     "output_type": "stream",
     "text": [
      "Is holiday\n",
      "Not holiday\n"
     ]
    }
   ],
   "source": [
    "def is_holiday(day):\n",
    "    if day in [\"Sunday\", \"Saturday\"]:\n",
    "        return \"Is holiday\"\n",
    "    else:\n",
    "        return \"Not holiday\"\n",
    "    print(\"啦啦啦德玛西亚，啦啦啦啦\")       # 你丫根本没机会运行。。。\n",
    "    \n",
    "    \n",
    "print(is_holiday(\"Sunday\"))\n",
    "print(is_holiday(\"Monday\"))"
   ]
  },
  {
   "cell_type": "markdown",
   "metadata": {},
   "source": [
    "### 5.4 无return\n",
    "**没有return语句，返回值为None**"
   ]
  },
  {
   "cell_type": "code",
   "execution_count": 36,
   "metadata": {},
   "outputs": [
    {
     "name": "stdout",
     "output_type": "stream",
     "text": [
      "我是孙悟空\n",
      "None\n"
     ]
    }
   ],
   "source": [
    "def foo():\n",
    "    print(\"我是孙悟空\")\n",
    "\n",
    "res = foo()\n",
    "print(res)"
   ]
  },
  {
   "cell_type": "markdown",
   "metadata": {},
   "source": [
    "## 06. 几点建议\n",
    "\n",
    "**1、函数及其参数的命名参照变量的命名**\n",
    "\n",
    "* 字母小写及下划线组合\n",
    "\n",
    "* 有实际意义\n",
    "\n",
    "**2、应包含简要阐述函数功能的注释，注释紧跟函数定义后面**"
   ]
  },
  {
   "cell_type": "code",
   "execution_count": 37,
   "metadata": {},
   "outputs": [],
   "source": [
    "def foo():\n",
    "    # 这个函数的作用是为了给大家瞅一瞅，你瞅啥，瞅你咋地。。。。\n",
    "    pass"
   ]
  },
  {
   "cell_type": "markdown",
   "metadata": {},
   "source": [
    "**3、函数定义前后各空两行**"
   ]
  },
  {
   "cell_type": "code",
   "execution_count": 38,
   "metadata": {},
   "outputs": [],
   "source": [
    "def f1():\n",
    "    pass\n",
    "\n",
    "                 # 空出两行，以示清白\n",
    "def f2():\n",
    "    pass\n",
    "\n",
    "\n",
    "def f3(x=3):    # 默认参数赋值等号两侧不需加空格\n",
    "    pass\n",
    "\n",
    "\n",
    "# ..."
   ]
  },
  {
   "cell_type": "markdown",
   "metadata": {},
   "source": [
    "**4、默认参数赋值等号两侧不需加空格**"
   ]
  },
  {
   "cell_type": "markdown",
   "metadata": {},
   "source": []
  },
  {
   "cell_type": "markdown",
   "metadata": {},
   "source": [
    "# 二、函数式编程实例\n",
    "\n",
    "**模块化编程思想**\n",
    "\n",
    "* 自顶向下，分而治之\n",
    "![模块化编程](media/模块化编程.png)"
   ]
  },
  {
   "cell_type": "markdown",
   "metadata": {},
   "source": [
    "**【问题描述】**  \n",
    "\n",
    "* 小丹和小伟羽毛球打的都不错，水平也在伯仲之间，小丹略胜一筹，基本上，打100个球，小丹能赢55次，小伟能赢45次。 \n",
    "\n",
    "* 但是每次大型比赛（1局定胜负，谁先赢到21分，谁就获胜），小丹赢的概率远远大于小伟，小伟很是不服气。\n",
    "\n",
    "* **亲爱的小伙伴，你能通过模拟实验，来揭示其中的奥妙吗？**\n",
    "\n",
    "**【问题抽象】**  \n",
    "\n",
    "1、在小丹Vs小伟的二元比赛系统中，小丹每球获胜概率55%，小伟每球获胜概率45%；  \n",
    "  \n",
    "2、每局比赛，先赢21球（21分）者获胜；  \n",
    "  \n",
    "3、假设进行n = 10000局独立的比赛，小丹会获胜多少局？（n 较大的时候，实验结果≈真实期望）\n",
    "\n",
    "**【问题分解】**"
   ]
  },
  {
   "cell_type": "code",
   "execution_count": 39,
   "metadata": {},
   "outputs": [],
   "source": [
    "def main():\n",
    "    # 主要逻辑\n",
    "    prob_A, prob_B, number_of_games = get_inputs()                        # 获取原始数据\n",
    "    win_A, win_B = sim_n_games(prob_A, prob_B, number_of_games)           # 获取模拟结果\n",
    "    print_summary(win_A, win_B, number_of_games)                          # 结果汇总输出"
   ]
  },
  {
   "cell_type": "markdown",
   "metadata": {},
   "source": [
    "**1、输入原始数据**"
   ]
  },
  {
   "cell_type": "code",
   "execution_count": 40,
   "metadata": {},
   "outputs": [],
   "source": [
    "def get_inputs():  \n",
    "    # 输入原始数据\n",
    "    prob_A = eval(input(\"请输入运动员A的每球获胜概率(0~1)：\"))\n",
    "    prob_B = round(1-prob_A, 2)\n",
    "    number_of_games = eval(input(\"请输入模拟的场次（正整数）：\"))\n",
    "    print(\"模拟比赛总次数：\", number_of_games)\n",
    "    print(\"A 选手每球获胜概率：\", prob_A)\n",
    "    print(\"B 选手每球获胜概率：\", prob_B)\n",
    "    return prob_A, prob_B, number_of_games"
   ]
  },
  {
   "cell_type": "markdown",
   "metadata": {},
   "source": [
    "**&emsp;&emsp;单元测试**"
   ]
  },
  {
   "cell_type": "code",
   "execution_count": 41,
   "metadata": {},
   "outputs": [
    {
     "name": "stdout",
     "output_type": "stream",
     "text": [
      "模拟比赛总次数： 100\n",
      "A 选手每球获胜概率： 0.53\n",
      "B 选手每球获胜概率： 0.47\n",
      "0.53 0.47 100\n"
     ]
    }
   ],
   "source": [
    "prob_A, prob_B, number_of_games = get_inputs()\n",
    "print(prob_A, prob_B, number_of_games)"
   ]
  },
  {
   "cell_type": "markdown",
   "metadata": {},
   "source": [
    "**2、多场比赛模拟**"
   ]
  },
  {
   "cell_type": "code",
   "execution_count": 42,
   "metadata": {},
   "outputs": [],
   "source": [
    "def sim_n_games(prob_A, prob_B, number_of_games):\n",
    "    # 模拟多场比赛的结果\n",
    "    win_A, win_B = 0, 0                # 初始化A、B获胜的场次\n",
    "    for i in range(number_of_games):   # 迭代number_of_games次\n",
    "        score_A, score_B = sim_one_game(prob_A, prob_B)  # 获得模拟依次比赛的比分\n",
    "        if score_A > score_B:\n",
    "            win_A += 1\n",
    "        else:\n",
    "            win_B += 1\n",
    "    return win_A, win_B"
   ]
  },
  {
   "cell_type": "code",
   "execution_count": 43,
   "metadata": {},
   "outputs": [],
   "source": [
    "import random\n",
    "def sim_one_game(prob_A, prob_B):\n",
    "    # 模拟一场比赛的结果\n",
    "    score_A, score_B = 0, 0\n",
    "    while not game_over(score_A, score_B):\n",
    "        if random.random() < prob_A:                # random.random() 生产[0,1)之间的随机小数,均匀分布\n",
    "            score_A += 1                 \n",
    "        else:\n",
    "            score_B += 1\n",
    "    return score_A, score_B"
   ]
  },
  {
   "cell_type": "code",
   "execution_count": 44,
   "metadata": {},
   "outputs": [],
   "source": [
    "def game_over(score_A, score_B):\n",
    "    # 单场模拟结束条件，一方先达到21分，比赛结束\n",
    "    return score_A == 21 or score_B == 21"
   ]
  },
  {
   "cell_type": "markdown",
   "metadata": {},
   "source": [
    "**&emsp;&emsp;单元测试 用assert——断言**\n",
    "\n",
    "```\n",
    "assert expression\n",
    "```\n",
    "* 表达式结果为 false 的时候触发异常"
   ]
  },
  {
   "cell_type": "code",
   "execution_count": 45,
   "metadata": {},
   "outputs": [
    {
     "ename": "AssertionError",
     "evalue": "",
     "output_type": "error",
     "traceback": [
      "\u001b[1;31m---------------------------------------------------------------------------\u001b[0m",
      "\u001b[1;31mAssertionError\u001b[0m                            Traceback (most recent call last)",
      "\u001b[1;32m<ipython-input-45-6b80746c8798>\u001b[0m in \u001b[0;36m<module>\u001b[1;34m()\u001b[0m\n\u001b[0;32m      2\u001b[0m \u001b[1;32massert\u001b[0m \u001b[0mgame_over\u001b[0m\u001b[1;33m(\u001b[0m\u001b[1;36m9\u001b[0m\u001b[1;33m,\u001b[0m \u001b[1;36m21\u001b[0m\u001b[1;33m)\u001b[0m \u001b[1;33m==\u001b[0m \u001b[1;32mTrue\u001b[0m\u001b[1;33m\u001b[0m\u001b[0m\n\u001b[0;32m      3\u001b[0m \u001b[1;32massert\u001b[0m \u001b[0mgame_over\u001b[0m\u001b[1;33m(\u001b[0m\u001b[1;36m11\u001b[0m\u001b[1;33m,\u001b[0m \u001b[1;36m8\u001b[0m\u001b[1;33m)\u001b[0m \u001b[1;33m==\u001b[0m \u001b[1;32mFalse\u001b[0m\u001b[1;33m\u001b[0m\u001b[0m\n\u001b[1;32m----> 4\u001b[1;33m \u001b[1;32massert\u001b[0m \u001b[0mgame_over\u001b[0m\u001b[1;33m(\u001b[0m\u001b[1;36m21\u001b[0m\u001b[1;33m,\u001b[0m \u001b[1;36m8\u001b[0m\u001b[1;33m)\u001b[0m \u001b[1;33m==\u001b[0m \u001b[1;32mFalse\u001b[0m  \u001b[1;31m# True == False  ×××\u001b[0m\u001b[1;33m\u001b[0m\u001b[0m\n\u001b[0m",
      "\u001b[1;31mAssertionError\u001b[0m: "
     ]
    }
   ],
   "source": [
    "assert game_over(21, 8) == True   \n",
    "assert game_over(9, 21) == True\n",
    "assert game_over(11, 8) == False\n",
    "assert game_over(21, 8) == False  # True == False  ×××"
   ]
  },
  {
   "cell_type": "code",
   "execution_count": 46,
   "metadata": {
    "scrolled": true
   },
   "outputs": [
    {
     "name": "stdout",
     "output_type": "stream",
     "text": [
      "(21, 7)\n",
      "(21, 16)\n",
      "(9, 21)\n"
     ]
    }
   ],
   "source": [
    "print(sim_one_game(0.55, 0.45))\n",
    "print(sim_one_game(0.7, 0.3))\n",
    "print(sim_one_game(0.2, 0.8))"
   ]
  },
  {
   "cell_type": "code",
   "execution_count": 47,
   "metadata": {},
   "outputs": [
    {
     "name": "stdout",
     "output_type": "stream",
     "text": [
      "(726, 274)\n"
     ]
    }
   ],
   "source": [
    "print(sim_n_games(0.55, 0.45, 1000))"
   ]
  },
  {
   "cell_type": "markdown",
   "metadata": {},
   "source": [
    "**3、结果汇总输出**"
   ]
  },
  {
   "cell_type": "code",
   "execution_count": 48,
   "metadata": {},
   "outputs": [],
   "source": [
    "def print_summary(win_A, win_B, number_of_games):\n",
    "    # 结果汇总输出\n",
    "    print(\"共模拟了{}场比赛\".format(number_of_games))\n",
    "    print(\"选手A获胜{0}场，占比{1:.1%}\".format(win_A, win_A/number_of_games))\n",
    "    print(\"选手B获胜{0}场，占比{1:.1%}\".format(win_B, win_B/number_of_games))"
   ]
  },
  {
   "cell_type": "code",
   "execution_count": 49,
   "metadata": {
    "scrolled": true
   },
   "outputs": [
    {
     "name": "stdout",
     "output_type": "stream",
     "text": [
      "共模拟了1000场比赛\n",
      "选手A获胜746场，占比74.6%\n",
      "选手B获胜254场，占比25.4%\n"
     ]
    }
   ],
   "source": [
    "print_summary(746, 254, 1000)"
   ]
  },
  {
   "cell_type": "markdown",
   "metadata": {},
   "source": [
    "## 总程序"
   ]
  },
  {
   "cell_type": "code",
   "execution_count": 51,
   "metadata": {
    "scrolled": true
   },
   "outputs": [
    {
     "name": "stdout",
     "output_type": "stream",
     "text": [
      "模拟比赛总次数： 10000\n",
      "A 选手每球获胜概率： 0.53\n",
      "B 选手每球获胜概率： 0.47\n",
      "共模拟了10000场比赛\n",
      "\u001b[31m选手A获胜6612场，占比66.1%\n",
      "选手B获胜3388场，占比33.9%\n"
     ]
    }
   ],
   "source": [
    "import random\n",
    "\n",
    "\n",
    "def get_inputs():  \n",
    "    # 输入原始数据\n",
    "    prob_A = eval(input(\"请输入运动员A的每球获胜概率(0~1)：\"))\n",
    "    prob_B = round(1-prob_A, 2)\n",
    "    number_of_games = eval(input(\"请输入模拟的场次（正整数）：\"))\n",
    "    print(\"模拟比赛总次数：\", number_of_games)\n",
    "    print(\"A 选手每球获胜概率：\", prob_A)\n",
    "    print(\"B 选手每球获胜概率：\", prob_B)\n",
    "    return prob_A, prob_B, number_of_games\n",
    "\n",
    "\n",
    "def game_over(score_A, score_B):\n",
    "    # 单场模拟结束条件，一方先达到21分，比赛结束    \n",
    "    return score_A == 21 or score_B == 21\n",
    "\n",
    "\n",
    "def sim_one_game(prob_A, prob_B):\n",
    "    # 模拟一场比赛的结果\n",
    "    score_A, score_B = 0, 0\n",
    "    while not game_over(score_A, score_B):\n",
    "        if random.random() < prob_A:                # random.random() 生产[0,1)之间的随机小数,均匀分布\n",
    "            score_A += 1                 \n",
    "        else:\n",
    "            score_B += 1\n",
    "    return score_A, score_B\n",
    "\n",
    "\n",
    "def sim_n_games(prob_A, prob_B, number_of_games):\n",
    "    # 模拟多场比赛的结果\n",
    "    win_A, win_B = 0, 0                # 初始化A、B获胜的场次\n",
    "    for i in range(number_of_games):   # 迭代number_of_games次\n",
    "        score_A, score_B = sim_one_game(prob_A, prob_B)  # 获得模拟依次比赛的比分\n",
    "        if score_A > score_B:\n",
    "            win_A += 1\n",
    "        else:\n",
    "            win_B += 1\n",
    "    return win_A, win_B\n",
    "\n",
    "\n",
    "def print_summary(win_A, win_B, number_of_games):\n",
    "    # 结果汇总输出\n",
    "    print(\"共模拟了{}场比赛\".format(number_of_games))\n",
    "    print(\"\\033[31m选手A获胜{0}场，占比{1:.1%}\".format(win_A, win_A/number_of_games))\n",
    "    print(\"选手B获胜{0}场，占比{1:.1%}\".format(win_B, win_B/number_of_games))\n",
    "    \n",
    "\n",
    "def main():\n",
    "    # 主要逻辑\n",
    "    prob_A, prob_B, number_of_games = get_inputs()                        # 获取原始数据\n",
    "    win_A, win_B = sim_n_games(prob_A, prob_B, number_of_games)           # 获取模拟结果\n",
    "    print_summary(win_A, win_B, number_of_games)                          # 结果汇总输出\n",
    "\n",
    "\n",
    "if __name__ == \"__main__\":\n",
    "    main()"
   ]
  },
  {
   "cell_type": "markdown",
   "metadata": {},
   "source": [
    "## 你以为你跟别人的差距只是一点点，实际上，差距老大了"
   ]
  },
  {
   "cell_type": "markdown",
   "metadata": {},
   "source": [
    "# 三、匿名函数\n",
    "![匿名函数](media/匿名函数.png)\n",
    "\n",
    "**1、基本形式**\n",
    "```\n",
    "lambda 变量: 函数体\n",
    "```\n",
    "**2、常用用法**  \n",
    "\n",
    "在参数列表中最适合使用匿名函数，尤其是与 `key=` 搭配\n",
    "\n",
    "* 排序sort()  \n",
    "* sorted()"
   ]
  },
  {
   "cell_type": "code",
   "execution_count": 52,
   "metadata": {},
   "outputs": [
    {
     "data": {
      "text/plain": [
       "[(76, 94), (79, 100), (85, 85), (86, 71), (93, 88)]"
      ]
     },
     "execution_count": 52,
     "metadata": {},
     "output_type": "execute_result"
    }
   ],
   "source": [
    "ls = [(93, 88), (79, 100), (86, 71), (85, 85), (76, 94)]\n",
    "ls.sort()\n",
    "ls"
   ]
  },
  {
   "cell_type": "code",
   "execution_count": 53,
   "metadata": {},
   "outputs": [
    {
     "data": {
      "text/plain": [
       "[(86, 71), (85, 85), (93, 88), (76, 94), (79, 100)]"
      ]
     },
     "execution_count": 53,
     "metadata": {},
     "output_type": "execute_result"
    }
   ],
   "source": [
    "ls.sort(key = lambda x: x[1])\n",
    "ls"
   ]
  },
  {
   "cell_type": "code",
   "execution_count": 54,
   "metadata": {},
   "outputs": [
    {
     "data": {
      "text/plain": [
       "[(93, 88), (79, 100), (85, 85), (76, 94), (86, 71)]"
      ]
     },
     "execution_count": 54,
     "metadata": {},
     "output_type": "execute_result"
    }
   ],
   "source": [
    "ls = [(93, 88), (79, 100), (86, 71), (85, 85), (76, 94)]\n",
    "temp = sorted(ls, key = lambda x: x[0]+x[1], reverse=True)  # 降序排序\n",
    "temp"
   ]
  },
  {
   "cell_type": "markdown",
   "metadata": {},
   "source": [
    "* max() min()"
   ]
  },
  {
   "cell_type": "code",
   "execution_count": 55,
   "metadata": {},
   "outputs": [
    {
     "data": {
      "text/plain": [
       "(79, 100)"
      ]
     },
     "execution_count": 55,
     "metadata": {},
     "output_type": "execute_result"
    }
   ],
   "source": [
    "ls = [(93, 88), (79, 100), (86, 71), (85, 85), (76, 94)]\n",
    "n = max(ls, key = lambda x: x[1])\n",
    "n"
   ]
  },
  {
   "cell_type": "code",
   "execution_count": 56,
   "metadata": {},
   "outputs": [
    {
     "data": {
      "text/plain": [
       "(86, 71)"
      ]
     },
     "execution_count": 56,
     "metadata": {},
     "output_type": "execute_result"
    }
   ],
   "source": [
    "n = min(ls, key = lambda x: x[1])\n",
    "n"
   ]
  },
  {
   "cell_type": "markdown",
   "metadata": {},
   "source": [
    "# 四、面向过程和面向对象\n",
    "\n",
    "**面向过程**——以过程为中心的编程思想，以“什么正在发生”为主要目标进行编程。&emsp;**冰冷的，程序化的**\n",
    "\n",
    "**面向对象**——将现实世界的事物抽象成对象，更关注“谁在受影响”，更加贴近现实。 &ensp;**有血有肉，拟人（物）化的** \n",
    "\n",
    "* **以公共汽车为例**\n",
    "\n",
    "**“面向过程”**：汽车启动是一个事件，汽车到站是另一个事件。。。。\n",
    "  \n",
    "在编程序的时候我们关心的是某一个事件，而不是汽车本身。 \n",
    "  \n",
    "我们分别对启动和到站编写程序。\n",
    "\n",
    "**\"面向对象\"**：构造“汽车”这个对象。  \n",
    "  \n",
    "对象包含动力、服役时间、生产厂家等等一系列的“属性”；  \n",
    "  \n",
    "也包含加油、启动、加速、刹车、拐弯、鸣喇叭、到站、维修等一系列的“方法”。  \n",
    "  \n",
    "通过对象的行为表达相应的事件\n",
    "\n"
   ]
  },
  {
   "cell_type": "code",
   "execution_count": null,
   "metadata": {},
   "outputs": [],
   "source": []
  },
  {
   "cell_type": "markdown",
   "metadata": {},
   "source": [
    "# 作业"
   ]
  },
  {
   "cell_type": "markdown",
   "metadata": {},
   "source": [
    "## 题目一（函数的定义及调用）："
   ]
  },
  {
   "cell_type": "markdown",
   "metadata": {},
   "source": [
    "判断题:\n",
    "* 函数定义时， 默认参数一定要放在非默认参数的后面。 √\n",
    "* 函数调用时，关键字参数一定要放在位置参数的后面。 √\n",
    "\n",
    "下列代码执行是否会报错， 如不报错，输出何值?"
   ]
  },
  {
   "cell_type": "code",
   "execution_count": 57,
   "metadata": {},
   "outputs": [],
   "source": [
    "def func(x, *y, **z):\n",
    "    print(x)\n",
    "    print(y)\n",
    "    print(z)"
   ]
  },
  {
   "cell_type": "code",
   "execution_count": 58,
   "metadata": {},
   "outputs": [],
   "source": [
    "ls = [\"a\", \"b\", \"c\"]"
   ]
  },
  {
   "cell_type": "code",
   "execution_count": 59,
   "metadata": {},
   "outputs": [],
   "source": [
    "d = {\"name\": \"Sarah\", \"age\":18}"
   ]
  },
  {
   "cell_type": "code",
   "execution_count": 60,
   "metadata": {},
   "outputs": [
    {
     "name": "stdout",
     "output_type": "stream",
     "text": [
      "a\n",
      "('b', 'c', 'd')\n",
      "{'name': 'Sarah', 'age': 18}\n"
     ]
    }
   ],
   "source": [
    "func(*ls, \"d\", **d)"
   ]
  },
  {
   "cell_type": "markdown",
   "metadata": {},
   "source": [
    "## 题目二（函数式编程）：\n",
    "试对本章函数式编程的例子进行如下修改:\n",
    "* 对`get_inputs函数`增加容错，当输入的单球获胜概率不在(0,1)区间内时，提示输入错误，重新输入。，\n",
    "\n",
    "* 将每局比赛的获胜规则更改为: 一方得分大于等于21分，且与对手分差至少为2分，该种情形第一次出现时，得分高者获得该局比赛的胜率。\n",
    "\n",
    "* 将每场比赛获胜规则更改为:三局两胜，率先获得两局胜利者，获得该场比赛胜利。\n",
    "\n",
    "其他条件于本章例题相同，试模拟1万场比赛的结果。"
   ]
  },
  {
   "cell_type": "code",
   "execution_count": 62,
   "metadata": {},
   "outputs": [
    {
     "name": "stdout",
     "output_type": "stream",
     "text": [
      "模拟比赛总次数： 10000\n",
      "A 选手每球获胜概率： 0.53\n",
      "B 选手每球获胜概率： 0.47\n",
      "共模拟了10000场比赛\n",
      "\u001b[31m选手A获胜6518场，占比65.2%\n",
      "选手B获胜3482场，占比34.8%\n"
     ]
    }
   ],
   "source": [
    "import random\n",
    "\n",
    "\n",
    "def get_inputs():  \n",
    "    # 输入原始数据\n",
    "    prob_A = eval(input(\"请输入运动员A的每球获胜概率(0~1)：\"))\n",
    "    prob_B = round(1-prob_A, 2)\n",
    "    number_of_games = eval(input(\"请输入模拟的场次（正整数）：\"))\n",
    "    print(\"模拟比赛总次数：\", number_of_games)\n",
    "    print(\"A 选手每球获胜概率：\", prob_A)\n",
    "    print(\"B 选手每球获胜概率：\", prob_B)\n",
    "    return prob_A, prob_B, number_of_games\n",
    "\n",
    "\n",
    "def game_over(score_A, score_B):\n",
    "    # 单场模拟结束条件，一方先达到21分，比赛结束    \n",
    "    return (score_A == 21 or score_B == 21)\n",
    "\n",
    "\n",
    "def sim_one_game(prob_A, prob_B):\n",
    "    # 模拟一场比赛的结果\n",
    "    score_A, score_B = 0, 0\n",
    "    while not game_over(score_A, score_B):\n",
    "        if random.random() < prob_A:                # random.random() 生产[0,1)之间的随机小数,均匀分布\n",
    "            score_A += 1 \n",
    "        else:\n",
    "            score_B += 1\n",
    "    return score_A, score_B\n",
    "\n",
    "\n",
    "def sim_n_games(prob_A, prob_B, number_of_games):\n",
    "    # 模拟多场比赛的结果\n",
    "    win_A, win_B = 0, 0                # 初始化A、B获胜的场次\n",
    "    for i in range(number_of_games):   # 迭代number_of_games次\n",
    "        score_A, score_B = sim_one_game(prob_A, prob_B)  # 获得模拟依次比赛的比分\n",
    "        if score_A > score_B:\n",
    "            win_A += 1\n",
    "        else:\n",
    "            win_B += 1\n",
    "    return win_A, win_B\n",
    "\n",
    "\n",
    "def print_summary(win_A, win_B, number_of_games):\n",
    "    # 结果汇总输出\n",
    "    print(\"共模拟了{}场比赛\".format(number_of_games))\n",
    "    print(\"\\033[31m选手A获胜{0}场，占比{1:.1%}\".format(win_A, win_A/number_of_games))\n",
    "    print(\"选手B获胜{0}场，占比{1:.1%}\".format(win_B, win_B/number_of_games))\n",
    "    \n",
    "\n",
    "def main():\n",
    "    # 主要逻辑\n",
    "    prob_A, prob_B, number_of_games = get_inputs()                        # 获取原始数据\n",
    "    win_A, win_B = sim_n_games(prob_A, prob_B, number_of_games)           # 获取模拟结果\n",
    "    print_summary(win_A, win_B, number_of_games)                          # 结果汇总输出\n",
    "\n",
    "\n",
    "if __name__ == \"__main__\":\n",
    "    main()"
   ]
  },
  {
   "cell_type": "markdown",
   "metadata": {},
   "source": [
    "* 对`get_inputs函数` 增加容错，当输入的单球获胜概率不在(0,1)区间内时，提示输入错误，重新输入。\n",
    "\n",
    "* 将每局比赛的获胜规则更改为：一方得分大于等于21分，且与对手分差至少为2分，该种情形第一次出现时，得分高者获得该局比赛的胜利。\n",
    "\n",
    "* 将每场比赛获胜规则更改为：三局两胜，率先获得两局胜利者，获得该场比赛胜利。"
   ]
  },
  {
   "cell_type": "markdown",
   "metadata": {},
   "source": [
    "其他条件于本章例题相同，试模拟1万场比赛的结果。"
   ]
  },
  {
   "cell_type": "code",
   "execution_count": 63,
   "metadata": {},
   "outputs": [
    {
     "name": "stdout",
     "output_type": "stream",
     "text": [
      "模拟比赛总次数： 10000\n",
      "A 选手每球获胜概率： 0.53\n",
      "B 选手每球获胜概率： 0.47\n",
      "wq 7315 2685\n",
      "共模拟了10000场比赛\n",
      "\u001b[31m选手A获胜7315场，占比73.2%\n",
      "选手B获胜2685场，占比26.9%\n"
     ]
    }
   ],
   "source": [
    "import random\n",
    "\n",
    "\n",
    "def get_inputs():  \n",
    "    # 输入原始数据\n",
    "    while True:\n",
    "        prob_A = eval(input(\"请输入运动员A的每球获胜概率(0~1)：\"))\n",
    "        if prob_A > 0 and prob_A < 1:\n",
    "            break\n",
    "    \n",
    "    prob_B = round(1-prob_A, 2)\n",
    "    number_of_games = eval(input(\"请输入模拟的场次（正整数）：\"))\n",
    "    print(\"模拟比赛总次数：\", number_of_games)\n",
    "    print(\"A 选手每球获胜概率：\", prob_A)\n",
    "    print(\"B 选手每球获胜概率：\", prob_B)\n",
    "    return prob_A, prob_B, number_of_games\n",
    "\n",
    "\n",
    "def game_over(score_A, score_B):\n",
    "    # 单场模拟结束条件，一方得分大于等于21分，且与对手分差至少为2分    \n",
    "    return (score_A == 21 or score_B == 21) and (abs(score_A - score_B) >= 2)\n",
    "\n",
    "\n",
    "def sim_one_game(prob_A, prob_B):\n",
    "    # 模拟一局比赛的结果\n",
    "    cnt_A, cnt_B = 0, 0\n",
    "    score_A, score_B = 0, 0\n",
    "    for i in range(3):\n",
    "        while not game_over(score_A, score_B):\n",
    "            if random.random() < prob_A:                # random.random() 生产[0,1)之间的随机小数,均匀分布\n",
    "                score_A += 1\n",
    "            else:\n",
    "                score_B += 1\n",
    "            # 如果二人分数到达30分，则停止循环，分数最先达到30分的人获胜\n",
    "            if score_A == 30 or score_B == 30:\n",
    "                break\n",
    "        if score_A > score_B:\n",
    "            cnt_A += 1\n",
    "        else:\n",
    "            cnt_B += 1\n",
    "        score_A, score_B = 0, 0\n",
    "\n",
    "        if cnt_A == 2 or cnt_B == 2:\n",
    "            break\n",
    "    return cnt_A, cnt_B\n",
    "\n",
    "# for i in range(4):  \n",
    "#     sim_one_game(0.53, 0.47)\n",
    "\n",
    "def sim_n_games(prob_A, prob_B, number_of_games):\n",
    "    # 模拟多场比赛的结果\n",
    "    win_A, win_B = 0, 0                # 初始化A、B获胜的场次\n",
    "    for i in range(number_of_games):   # 迭代number_of_games次\n",
    "        cnt_A, cnt_B = sim_one_game(prob_A, prob_B)  # 获得模拟依次比赛的比分\n",
    "        if cnt_A > cnt_B:\n",
    "            win_A += 1\n",
    "        else:\n",
    "            win_B += 1\n",
    "    print(\"wq\", win_A, win_B)\n",
    "    return win_A, win_B\n",
    "\n",
    "\n",
    "def print_summary(win_A, win_B, number_of_games):\n",
    "    # 结果汇总输出\n",
    "    print(\"共模拟了{}场比赛\".format(number_of_games))\n",
    "    print(\"\\033[31m选手A获胜{0}场，占比{1:.1%}\".format(win_A, win_A/number_of_games))\n",
    "    print(\"选手B获胜{0}场，占比{1:.1%}\".format(win_B, win_B/number_of_games))\n",
    "    \n",
    "\n",
    "def main():\n",
    "    # 主要逻辑\n",
    "    prob_A, prob_B, number_of_games = get_inputs()                        # 获取原始数据\n",
    "    win_A, win_B = sim_n_games(prob_A, prob_B, number_of_games)           # 获取模拟结果\n",
    "    print_summary(win_A, win_B, number_of_games)                          # 结果汇总输出\n",
    "\n",
    "\n",
    "if __name__ == \"__main__\":\n",
    "    main()"
   ]
  },
  {
   "cell_type": "raw",
   "metadata": {},
   "source": [
    "# 错误代码\n",
    "def sim_one_game(prob_A, prob_B):\n",
    "    # 模拟一场比赛的结果\n",
    "    cnt_A, cnt_B = 0, 0\n",
    "    score_A, score_B = 0, 0\n",
    "    flag = True\n",
    "    for i in range(3):\n",
    "        if flag == False:\n",
    "            break\n",
    "        while not game_over(score_A, score_B):\n",
    "            if random.random() < prob_A:                # random.random() 生产[0,1)之间的随机小数,均匀分布\n",
    "                score_A += 1\n",
    "                cnt_A += 1\n",
    "                print(\"score_A is :{}\".format(score_A))\n",
    "            else:\n",
    "                score_B += 1\n",
    "                cnt_B += 1\n",
    "                print(\"score_B is :{}\".format(score_B))\n",
    "            if cnt_A == 2 or cnt_B == 2:\n",
    "                flag = False\n",
    "                break\n",
    "    print(score_A, score_B)\n",
    "    return score_A, score_B\n",
    "\n",
    "# sim_one_game(0.53, 0.47)"
   ]
  },
  {
   "cell_type": "markdown",
   "metadata": {},
   "source": [
    "## 题目三（匿名函数）：\n",
    "\n",
    "3、统计下列绕口令中字符出现的频次，并按照频次的降序对字符进行排列：\n",
    "\n",
    "八百标兵奔北坡,\n",
    "北坡八百炮兵炮。\n",
    "标兵怕碰炮兵炮,\n",
    "炮兵怕把标兵碰。\n"
   ]
  },
  {
   "cell_type": "code",
   "execution_count": 64,
   "metadata": {},
   "outputs": [
    {
     "name": "stdout",
     "output_type": "stream",
     "text": [
      "{'八': 2, '百': 2, '标': 3, '兵': 6, '奔': 1, '北': 2, '坡': 2, '，': 2, '炮': 5, '。': 2, '怕': 2, '碰': 2, '把': 1}\n"
     ]
    }
   ],
   "source": [
    "s = \"八百标兵奔北坡，北坡八百炮兵炮。标兵怕碰炮兵炮，炮兵怕把标兵碰。\"\n",
    "d = {}\n",
    "for i in s:\n",
    "    d[i] = d.get(i, 0) + 1\n",
    "print(d)"
   ]
  },
  {
   "cell_type": "code",
   "execution_count": 65,
   "metadata": {},
   "outputs": [
    {
     "name": "stdout",
     "output_type": "stream",
     "text": [
      "2\n",
      "2\n",
      "3\n",
      "6\n",
      "1\n",
      "2\n",
      "2\n",
      "2\n",
      "5\n",
      "2\n",
      "2\n",
      "2\n",
      "1\n"
     ]
    }
   ],
   "source": [
    "for item in d.items():\n",
    "    print(item[1])"
   ]
  },
  {
   "cell_type": "code",
   "execution_count": 66,
   "metadata": {},
   "outputs": [
    {
     "name": "stdout",
     "output_type": "stream",
     "text": [
      "[('兵', 6), ('炮', 5), ('标', 3), ('八', 2), ('百', 2), ('北', 2), ('坡', 2), ('，', 2), ('。', 2), ('怕', 2), ('碰', 2), ('奔', 1), ('把', 1)]\n"
     ]
    }
   ],
   "source": [
    "print(sorted(d.items(), key = lambda item : item[1], reverse=True))"
   ]
  },
  {
   "cell_type": "markdown",
   "metadata": {},
   "source": [
    "### 关于lambda表达式"
   ]
  },
  {
   "cell_type": "markdown",
   "metadata": {},
   "source": [
    "###  Python中，lambda函数也叫匿名函数，及即没有具体名称的函数，它允许快速定义单行函数，类似于C语言的宏，可以用在任何需要函数的地方。这区别于def定义的函数。"
   ]
  },
  {
   "cell_type": "markdown",
   "metadata": {},
   "source": [
    "### blog：https://blog.csdn.net/zjuxsl/article/details/79437563"
   ]
  },
  {
   "cell_type": "code",
   "execution_count": null,
   "metadata": {},
   "outputs": [],
   "source": []
  }
 ],
 "metadata": {
  "kernelspec": {
   "display_name": "Python 3",
   "language": "python",
   "name": "python3"
  },
  "language_info": {
   "codemirror_mode": {
    "name": "ipython",
    "version": 3
   },
   "file_extension": ".py",
   "mimetype": "text/x-python",
   "name": "python",
   "nbconvert_exporter": "python",
   "pygments_lexer": "ipython3",
   "version": "3.6.5"
  }
 },
 "nbformat": 4,
 "nbformat_minor": 2
}
