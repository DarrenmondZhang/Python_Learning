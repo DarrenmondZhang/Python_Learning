{
 "cells": [
  {
   "cell_type": "markdown",
   "metadata": {},
   "source": [
    "# 数据类型的底层实现\n",
    "![数据类型的底层实现](media/数据类型的底层实现.png)\n",
    "\n",
    "## 01. 从奇怪的列表说起\n",
    "\n",
    "### 1.1 错综复杂的复制"
   ]
  },
  {
   "cell_type": "code",
   "execution_count": 1,
   "metadata": {},
   "outputs": [],
   "source": [
    "list_1 = [1, [22, 33, 44], (5, 6, 7), {\"name\": \"Sarah\"}]"
   ]
  },
  {
   "cell_type": "markdown",
   "metadata": {},
   "source": [
    "* 浅拷贝"
   ]
  },
  {
   "cell_type": "code",
   "execution_count": 2,
   "metadata": {},
   "outputs": [],
   "source": [
    "# list_3 = list_1          # 错误！！！\n",
    "list_2 = list_1.copy()     # 或者list_1[:] \\ list(list_1) 均可实习浅拷贝"
   ]
  },
  {
   "cell_type": "markdown",
   "metadata": {},
   "source": [
    "* 对浅拷贝前后两列表分别进行操作"
   ]
  },
  {
   "cell_type": "code",
   "execution_count": 3,
   "metadata": {
    "scrolled": true
   },
   "outputs": [
    {
     "name": "stdout",
     "output_type": "stream",
     "text": [
      "list_1:   [1, [22, 33, 44, 55], (5, 6, 7), {'name': 'Sarah'}]\n",
      "list_2:   [1, [22, 33, 44, 55], (5, 6, 7), {'name': 'Sarah'}]\n"
     ]
    }
   ],
   "source": [
    "list_2[1].append(55)\n",
    "\n",
    "print(\"list_1:  \", list_1)\n",
    "print(\"list_2:  \", list_2)"
   ]
  },
  {
   "cell_type": "markdown",
   "metadata": {},
   "source": [
    "> 为什么对list_2 添加元素，list_1中也被添加了，那要从底层机制说起"
   ]
  },
  {
   "cell_type": "markdown",
   "metadata": {},
   "source": [
    "### 1.2 列表的底层实现\n",
    "\n",
    "**引用数组的概念**  \n",
    "  \n",
    "列表内的元素可以分散的存储在内存中  \n",
    "  \n",
    "列表存储的，实际上是这些**元素的地址！！！** — 地址的存储在内存中是连续的\n",
    "![](media/引用数组.png)"
   ]
  },
  {
   "cell_type": "code",
   "execution_count": 4,
   "metadata": {},
   "outputs": [],
   "source": [
    "list_1 = [1, [22, 33, 44], (5, 6, 7), {\"name\": \"Sarah\"}]\n",
    "list_2 = list(list_1)   # 浅拷贝   与list_1.copy()功能一样"
   ]
  },
  {
   "cell_type": "markdown",
   "metadata": {},
   "source": [
    "![列表演示](media/列表演示.png)"
   ]
  },
  {
   "cell_type": "markdown",
   "metadata": {},
   "source": [
    "（1）新增元素\n",
    "![尾部添加元素](media/尾部添加元素.png)"
   ]
  },
  {
   "cell_type": "code",
   "execution_count": 5,
   "metadata": {
    "scrolled": true
   },
   "outputs": [
    {
     "name": "stdout",
     "output_type": "stream",
     "text": [
      "list_1:   [1, [22, 33, 44], (5, 6, 7), {'name': 'Sarah'}, 100]\n",
      "list_2:   [1, [22, 33, 44], (5, 6, 7), {'name': 'Sarah'}, 'n']\n"
     ]
    }
   ],
   "source": [
    "list_1.append(100)\n",
    "list_2.append(\"n\")\n",
    "\n",
    "print(\"list_1:  \", list_1)\n",
    "print(\"list_2:  \", list_2)"
   ]
  },
  {
   "cell_type": "markdown",
   "metadata": {},
   "source": [
    "（2）修改元素\n",
    "![修改元素](media/修改元素.png)"
   ]
  },
  {
   "cell_type": "code",
   "execution_count": 6,
   "metadata": {
    "scrolled": true
   },
   "outputs": [
    {
     "name": "stdout",
     "output_type": "stream",
     "text": [
      "list_1:   [10, [22, 33, 44], (5, 6, 7), {'name': 'Sarah'}, 100]\n",
      "list_2:   [20, [22, 33, 44], (5, 6, 7), {'name': 'Sarah'}, 'n']\n"
     ]
    }
   ],
   "source": [
    "list_1[0] = 10\n",
    "list_2[0] = 20\n",
    "\n",
    "print(\"list_1:  \", list_1)\n",
    "print(\"list_2:  \", list_2)"
   ]
  },
  {
   "cell_type": "markdown",
   "metadata": {},
   "source": [
    "（3）对列表型元素进行操作\n",
    "![对列表型元素进行操作](media/对列表型元素进行操作.png)"
   ]
  },
  {
   "cell_type": "code",
   "execution_count": 8,
   "metadata": {
    "scrolled": true
   },
   "outputs": [
    {
     "name": "stdout",
     "output_type": "stream",
     "text": [
      "list_1:   [10, [22, 33, 55, 66], (5, 6, 7), {'name': 'Sarah'}, 100]\n",
      "list_2:   [20, [22, 33, 55, 66], (5, 6, 7), {'name': 'Sarah'}, 'n']\n"
     ]
    }
   ],
   "source": [
    "list_1[1].remove(44)\n",
    "list_2[1] += [55, 66]\n",
    "\n",
    "print(\"list_1:  \", list_1)\n",
    "print(\"list_2:  \", list_2)"
   ]
  },
  {
   "cell_type": "markdown",
   "metadata": {},
   "source": [
    "（4）对元组型元素进行操作\n",
    "![对元祖型元素进行修改](media/对元祖型元素进行修改.png)"
   ]
  },
  {
   "cell_type": "code",
   "execution_count": 9,
   "metadata": {},
   "outputs": [
    {
     "name": "stdout",
     "output_type": "stream",
     "text": [
      "list_1:   [10, [22, 33, 55, 66], (5, 6, 7), {'name': 'Sarah'}, 100]\n",
      "list_2:   [20, [22, 33, 55, 66], (5, 6, 7, 8, 9), {'name': 'Sarah'}, 'n']\n"
     ]
    }
   ],
   "source": [
    "list_2[2] += (8,9)\n",
    "\n",
    "print(\"list_1:  \", list_1)\n",
    "print(\"list_2:  \", list_2)"
   ]
  },
  {
   "cell_type": "markdown",
   "metadata": {},
   "source": [
    "list1中元素不变，list2中元素变化了。**元组是不可变的！！！**"
   ]
  },
  {
   "cell_type": "markdown",
   "metadata": {},
   "source": [
    "（5）对字典型元素进行操作"
   ]
  },
  {
   "cell_type": "code",
   "execution_count": 7,
   "metadata": {
    "scrolled": true
   },
   "outputs": [
    {
     "name": "stdout",
     "output_type": "stream",
     "text": [
      "list_1:   [10, [22, 33, 44], (5, 6, 7), {'name': 'Sarah', 'age': 18}, 100]\n",
      "list_2:   [20, [22, 33, 44], (5, 6, 7), {'name': 'Sarah', 'age': 18}, 'n']\n"
     ]
    }
   ],
   "source": [
    "list_1[-2][\"age\"] = 18\n",
    "\n",
    "print(\"list_1:  \", list_1)\n",
    "print(\"list_2:  \", list_2)"
   ]
  },
  {
   "cell_type": "markdown",
   "metadata": {},
   "source": [
    "列表、字典是可变的，地址可以不变，内容可变。元祖、数字、字符串等是不可变，一旦内容发生变化，地址就发生改变。\n",
    "\n",
    "如果有列表中出现列表、数字等可变类型之后，如何才能安全的复制？  **深拷贝**"
   ]
  },
  {
   "cell_type": "code",
   "execution_count": null,
   "metadata": {},
   "outputs": [],
   "source": []
  },
  {
   "cell_type": "markdown",
   "metadata": {},
   "source": [
    "### 1.3 引入深拷贝\n",
    "\n",
    "**浅拷贝之后**  \n",
    "  \n",
    "* 针对不可变元素（数字、字符串、元组）的操作，都各自生效了  \n",
    "  \n",
    "* 针对不可变元素（列表、集合）的操作，发生了一些混淆\n",
    "\n",
    "**引入深拷贝**\n",
    "\n",
    "* 深拷贝将所有层级的相关元素全部复制，完全分开，泾渭分明，避免了上述问题"
   ]
  },
  {
   "cell_type": "code",
   "execution_count": 9,
   "metadata": {},
   "outputs": [
    {
     "name": "stdout",
     "output_type": "stream",
     "text": [
      "list_1:   [1, [22, 33, 44], (5, 6, 7), {'name': 'Sarah', 'age': 18}]\n",
      "list_2:   [1, [22, 33, 44, 55], (5, 6, 7), {'name': 'Sarah'}]\n"
     ]
    }
   ],
   "source": [
    "import copy\n",
    "\n",
    "list_1 = [1, [22, 33, 44], (5, 6, 7), {\"name\": \"Sarah\"}]\n",
    "list_2 = copy.deepcopy(list_1)\n",
    "list_1[-1][\"age\"] = 18\n",
    "list_2[1].append(55)\n",
    "\n",
    "print(\"list_1:  \", list_1)\n",
    "print(\"list_2:  \", list_2)"
   ]
  },
  {
   "cell_type": "markdown",
   "metadata": {},
   "source": []
  },
  {
   "cell_type": "markdown",
   "metadata": {},
   "source": [
    "## 02. 神秘的字典\n",
    "\n",
    "### 2.1 快速的查找"
   ]
  },
  {
   "cell_type": "code",
   "execution_count": 10,
   "metadata": {},
   "outputs": [
    {
     "name": "stdout",
     "output_type": "stream",
     "text": [
      "查找1000个元素，在ls_1列表中的有500个，共用时5.0秒\n"
     ]
    }
   ],
   "source": [
    "import time\n",
    "\n",
    "ls_1 = list(range(1000000))\n",
    "ls_2 = list(range(500))+[-10]*500\n",
    "\n",
    "start = time.time()\n",
    "count = 0\n",
    "for n in ls_2:\n",
    "    if n in ls_1:\n",
    "        count += 1\n",
    "end = time.time()\n",
    "print(\"查找{}个元素，在ls_1列表中的有{}个，共用时{}秒\".format(len(ls_2), count,round((end-start),2)))"
   ]
  },
  {
   "cell_type": "code",
   "execution_count": 11,
   "metadata": {},
   "outputs": [
    {
     "name": "stdout",
     "output_type": "stream",
     "text": [
      "查找1000个元素，在ls_1列表中的有500个，共用时0秒\n"
     ]
    }
   ],
   "source": [
    "import time\n",
    "\n",
    "d = {i:i for i in range(100000)}\n",
    "ls_2 = list(range(500))+[-10]*500\n",
    "\n",
    "start = time.time()\n",
    "count = 0\n",
    "for n in ls_2:\n",
    "    try:\n",
    "        d[n]\n",
    "    except:\n",
    "        pass\n",
    "    else:\n",
    "        count += 1\n",
    "end = time.time()\n",
    "print(\"查找{}个元素，在ls_1列表中的有{}个，共用时{}秒\".format(len(ls_2), count,round(end-start)))"
   ]
  },
  {
   "cell_type": "markdown",
   "metadata": {},
   "source": [
    "### 2.2 字典的底层实现\n",
    "\n",
    "通过稀疏数组来实现值的存储与访问\n",
    "\n",
    "![字典](media/字典.png)"
   ]
  },
  {
   "cell_type": "markdown",
   "metadata": {},
   "source": [
    "**字典的创建过程**"
   ]
  },
  {
   "cell_type": "markdown",
   "metadata": {},
   "source": [
    "* 第一步：创建一个散列表（稀疏数组 N >> n）"
   ]
  },
  {
   "cell_type": "code",
   "execution_count": 12,
   "metadata": {},
   "outputs": [],
   "source": [
    "d = {}"
   ]
  },
  {
   "cell_type": "markdown",
   "metadata": {},
   "source": [
    "* 第一步：通过hash()计算键的散列值"
   ]
  },
  {
   "cell_type": "code",
   "execution_count": 13,
   "metadata": {},
   "outputs": [
    {
     "name": "stdout",
     "output_type": "stream",
     "text": [
      "8059727972001716502\n",
      "1024\n",
      "3713081631934410656\n"
     ]
    }
   ],
   "source": [
    "print(hash(\"python\"))\n",
    "print(hash(1024))\n",
    "print(hash((1,2)))"
   ]
  },
  {
   "cell_type": "code",
   "execution_count": 14,
   "metadata": {},
   "outputs": [
    {
     "name": "stdout",
     "output_type": "stream",
     "text": [
      "4397925439904202933\n"
     ]
    }
   ],
   "source": [
    "d[\"age\"] = 18    # 增加键值对的操作，首先会计算键的散列值hash(\"age\")\n",
    "print(hash(\"age\")) "
   ]
  },
  {
   "cell_type": "markdown",
   "metadata": {},
   "source": [
    "* 第二步：根据计算的散列值确定其在散列表中的位置\n",
    "\n",
    "极个别时候，散列值会发生冲突，则内部有相应的解决冲突的办法\n",
    "\n",
    "* 第三步：在该位置上存入值"
   ]
  },
  {
   "cell_type": "code",
   "execution_count": 15,
   "metadata": {},
   "outputs": [],
   "source": [
    "for i in range(2, 2):\n",
    "    print(i)"
   ]
  },
  {
   "cell_type": "markdown",
   "metadata": {},
   "source": [
    "**键值对的访问过程**"
   ]
  },
  {
   "cell_type": "code",
   "execution_count": 16,
   "metadata": {},
   "outputs": [
    {
     "data": {
      "text/plain": [
       "18"
      ]
     },
     "execution_count": 16,
     "metadata": {},
     "output_type": "execute_result"
    }
   ],
   "source": [
    "d[\"age\"]"
   ]
  },
  {
   "cell_type": "markdown",
   "metadata": {},
   "source": [
    "* 第一步：计算要访问的键的散列值\n",
    "\n",
    "* 第二步：根据计算的散列值，通过一定的规则，确定其在散列表中的位置\n",
    "\n",
    "* 第三步：读取该位置上存储的值\n",
    "  \n",
    "       如果存在，则返回该值  \n",
    "       如果不存在，则报错KeyError"
   ]
  },
  {
   "cell_type": "markdown",
   "metadata": {},
   "source": [
    "### 2.3 小结\n",
    "\n",
    "**（1）字典数据类型，通过空间换时间，实现了快速的数据查找**\n",
    "\n",
    "* 也就注定了字典的空间利用效率低下\n",
    "\n",
    "**（2）因为散列值对应位置的顺序与键在字典中显示的顺序可能不同，因此表现出来字典是无序的**\n",
    "\n",
    "* 回顾一下 N >> n  \n",
    "如果N = n，会产生很多位置冲突\n",
    "\n",
    "* 思考一下开头的小例子，为什么字典实现了比列表更快速的查找"
   ]
  },
  {
   "cell_type": "markdown",
   "metadata": {},
   "source": []
  },
  {
   "cell_type": "markdown",
   "metadata": {},
   "source": [
    "## 03. 紧凑的字符串\n",
    "![字符串](media/字符串.png)\n",
    "\n",
    "**通过紧凑数组实现字符串的存储**\n",
    "\n",
    "* 数据在内存中是连续存放的，效率更高，节省空间\n",
    "\n",
    "* 思考一下，同为序列类型，为什么列表采用引用数组，而字符串采用紧凑数组\n",
    "\n",
    "字符串长度可控，列表是随时可变的，无法掌控到底给他分配多少空间，所以将元素保存到外面，只保存外部元素的地址值，到时候引用就可以"
   ]
  },
  {
   "cell_type": "markdown",
   "metadata": {},
   "source": []
  },
  {
   "cell_type": "markdown",
   "metadata": {},
   "source": [
    "## 04. 是否可变\n",
    "\n",
    "### 4.1 不可变类型：数字、字符串、元组\n",
    "\n",
    "**在生命周期中保持内容不变**\n",
    "\n",
    "* 换句话说，改变了就不是它自己了（id变了）\n",
    "\n",
    "* 不可变对象的 += 操作，实际上创建了一个新的对象"
   ]
  },
  {
   "cell_type": "code",
   "execution_count": 17,
   "metadata": {},
   "outputs": [
    {
     "name": "stdout",
     "output_type": "stream",
     "text": [
      "x id: 2012965952\n",
      "y id: 2204634649352\n"
     ]
    }
   ],
   "source": [
    "x = 1\n",
    "y = \"Python\"\n",
    "\n",
    "print(\"x id:\", id(x))\n",
    "print(\"y id:\", id(y))"
   ]
  },
  {
   "cell_type": "code",
   "execution_count": 18,
   "metadata": {
    "scrolled": true
   },
   "outputs": [
    {
     "name": "stdout",
     "output_type": "stream",
     "text": [
      "x id: 2012966016\n",
      "y id: 2204674424240\n"
     ]
    }
   ],
   "source": [
    "x += 2\n",
    "y += \"3.7\"\n",
    "\n",
    "print(\"x id:\", id(x))\n",
    "print(\"y id:\", id(y))"
   ]
  },
  {
   "cell_type": "markdown",
   "metadata": {},
   "source": [
    "**元组并不是总是不可变的**，如果元祖中有一个可变的元素，那么元祖还是可变的 (＃￣～￣＃)"
   ]
  },
  {
   "cell_type": "code",
   "execution_count": 20,
   "metadata": {},
   "outputs": [
    {
     "name": "stdout",
     "output_type": "stream",
     "text": [
      "(1, [2, 3])\n"
     ]
    }
   ],
   "source": [
    "t = (1,[2])\n",
    "t[1].append(3)\n",
    "\n",
    "print(t)"
   ]
  },
  {
   "cell_type": "markdown",
   "metadata": {},
   "source": [
    "### 4.2 可变类型：列表、字典、集合\n",
    "\n",
    "* id 保持不变，但是里面的内容可以变\n",
    "\n",
    "* 可变对象的 += 操作 实际在原对象的基础上就地修改"
   ]
  },
  {
   "cell_type": "code",
   "execution_count": 21,
   "metadata": {
    "scrolled": true
   },
   "outputs": [
    {
     "name": "stdout",
     "output_type": "stream",
     "text": [
      "ls id: 2204674321672\n",
      "d id: 2204674317624\n"
     ]
    }
   ],
   "source": [
    "ls = [1, 2, 3]\n",
    "d = {\"Name\": \"Sarah\", \"Age\": 18}\n",
    "\n",
    "print(\"ls id:\", id(ls))\n",
    "print(\"d id:\", id(d))"
   ]
  },
  {
   "cell_type": "code",
   "execution_count": 22,
   "metadata": {},
   "outputs": [
    {
     "name": "stdout",
     "output_type": "stream",
     "text": [
      "ls id: 2204674321672\n",
      "d id: 2204674317624\n"
     ]
    }
   ],
   "source": [
    "ls += [4, 5]\n",
    "d_2 = {\"Sex\": \"female\"}\n",
    "d.update(d_2)            # 把d_2 中的元素更新到d中\n",
    "\n",
    "print(\"ls id:\", id(ls))\n",
    "print(\"d id:\", id(d))"
   ]
  },
  {
   "cell_type": "markdown",
   "metadata": {},
   "source": [
    "### 4.3 列表操作的几个小例子"
   ]
  },
  {
   "cell_type": "markdown",
   "metadata": {},
   "source": [
    "**【例1】 删除列表内的特定元素**\n",
    "\n",
    "* 方法1 存在运算删除法\n",
    "\n",
    "缺点：每次存在运算，都要从头对列表进行遍历、查找、效率低"
   ]
  },
  {
   "cell_type": "code",
   "execution_count": 23,
   "metadata": {
    "scrolled": true
   },
   "outputs": [
    {
     "name": "stdout",
     "output_type": "stream",
     "text": [
      "['2', '2', '4']\n"
     ]
    }
   ],
   "source": [
    "alist = [\"d\", \"d\", \"d\", \"2\", \"2\", \"d\" ,\"d\", \"4\"]\n",
    "s = \"d\"\n",
    "while True:\n",
    "    if s in alist:\n",
    "        alist.remove(s)\n",
    "    else:\n",
    "        break\n",
    "print(alist)"
   ]
  },
  {
   "cell_type": "markdown",
   "metadata": {},
   "source": [
    "* 方法2 一次性遍历元素执行删除"
   ]
  },
  {
   "cell_type": "code",
   "execution_count": 24,
   "metadata": {},
   "outputs": [
    {
     "name": "stdout",
     "output_type": "stream",
     "text": [
      "['2', '2', 'd', 'd', '4']\n"
     ]
    }
   ],
   "source": [
    "alist = [\"d\", \"d\", \"d\", \"2\", \"2\", \"d\" ,\"d\", \"4\"]\n",
    "for s in alist:\n",
    "    if s == \"d\":\n",
    "        alist.remove(s)      # remove（s） 删除列表中第一次出现的该元素\n",
    "print(alist)"
   ]
  },
  {
   "cell_type": "markdown",
   "metadata": {},
   "source": [
    "解决方法：使用负向索引"
   ]
  },
  {
   "cell_type": "code",
   "execution_count": 25,
   "metadata": {},
   "outputs": [
    {
     "name": "stdout",
     "output_type": "stream",
     "text": [
      "['2', '2', '4']\n"
     ]
    }
   ],
   "source": [
    "alist = [\"d\", \"d\", \"d\", \"2\", \"2\", \"d\" ,\"d\", \"4\"]\n",
    "for i in range(-len(alist), 0):\n",
    "    if alist[i] == \"d\":\n",
    "        alist.remove(alist[i])      # remove（s） 删除列表中第一次出现的该元素\n",
    "print(alist)"
   ]
  },
  {
   "cell_type": "markdown",
   "metadata": {},
   "source": [
    "**【例2】 多维列表的创建**"
   ]
  },
  {
   "cell_type": "code",
   "execution_count": 23,
   "metadata": {},
   "outputs": [
    {
     "data": {
      "text/plain": [
       "[[0, 0, 0, 0, 0, 0, 0, 0, 0, 0],\n",
       " [0, 0, 0, 0, 0, 0, 0, 0, 0, 0],\n",
       " [0, 0, 0, 0, 0, 0, 0, 0, 0, 0],\n",
       " [0, 0, 0, 0, 0, 0, 0, 0, 0, 0],\n",
       " [0, 0, 0, 0, 0, 0, 0, 0, 0, 0]]"
      ]
     },
     "execution_count": 23,
     "metadata": {},
     "output_type": "execute_result"
    }
   ],
   "source": [
    "ls = [[0]*10]*5\n",
    "ls"
   ]
  },
  {
   "cell_type": "code",
   "execution_count": 24,
   "metadata": {},
   "outputs": [
    {
     "data": {
      "text/plain": [
       "[[1, 0, 0, 0, 0, 0, 0, 0, 0, 0],\n",
       " [1, 0, 0, 0, 0, 0, 0, 0, 0, 0],\n",
       " [1, 0, 0, 0, 0, 0, 0, 0, 0, 0],\n",
       " [1, 0, 0, 0, 0, 0, 0, 0, 0, 0],\n",
       " [1, 0, 0, 0, 0, 0, 0, 0, 0, 0]]"
      ]
     },
     "execution_count": 24,
     "metadata": {},
     "output_type": "execute_result"
    }
   ],
   "source": [
    "ls[0][0] = 1\n",
    "ls"
   ]
  },
  {
   "cell_type": "markdown",
   "metadata": {},
   "source": [
    "*5 生成的列表指向的是相同的内存地址。"
   ]
  },
  {
   "cell_type": "code",
   "execution_count": null,
   "metadata": {},
   "outputs": [],
   "source": []
  }
 ],
 "metadata": {
  "kernelspec": {
   "display_name": "Python 3",
   "language": "python",
   "name": "python3"
  },
  "language_info": {
   "codemirror_mode": {
    "name": "ipython",
    "version": 3
   },
   "file_extension": ".py",
   "mimetype": "text/x-python",
   "name": "python",
   "nbconvert_exporter": "python",
   "pygments_lexer": "ipython3",
   "version": "3.6.5"
  }
 },
 "nbformat": 4,
 "nbformat_minor": 2
}
