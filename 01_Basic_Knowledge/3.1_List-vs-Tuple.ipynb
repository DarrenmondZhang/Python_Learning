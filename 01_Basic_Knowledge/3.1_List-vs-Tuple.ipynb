{
 "cells": [
  {
   "cell_type": "markdown",
   "metadata": {},
   "source": [
    "# 一、列表和元组基础"
   ]
  },
  {
   "cell_type": "markdown",
   "metadata": {},
   "source": [
    "列表 和 元祖 都是一个**可以放置任何数据类型的有序集合**，大多数语言中，集合的数据类型必须一致，但是对于Python中的列表和元祖来说，并没有此要求"
   ]
  },
  {
   "cell_type": "code",
   "execution_count": 1,
   "metadata": {},
   "outputs": [
    {
     "data": {
      "text/plain": [
       "[1, 2, 'hello', 'world']"
      ]
     },
     "execution_count": 1,
     "metadata": {},
     "output_type": "execute_result"
    }
   ],
   "source": [
    "origin_list = [1, 2, \"hello\", 'world']  # list 中同时含有int和str类型的数据\n",
    "origin_list"
   ]
  },
  {
   "cell_type": "code",
   "execution_count": 2,
   "metadata": {},
   "outputs": [
    {
     "data": {
      "text/plain": [
       "('DarrenZhang', 'handsome', 123)"
      ]
     },
     "execution_count": 2,
     "metadata": {},
     "output_type": "execute_result"
    }
   ],
   "source": [
    "origin_tuple = ('DarrenZhang', 'handsome', 123)  # tuple中同时含有int和str类型\n",
    "origin_tuple"
   ]
  },
  {
   "cell_type": "markdown",
   "metadata": {},
   "source": [
    "列表 和 元祖 的区别：\n",
    "- 列表是动态的，长度大小不固定，可以随意增加、删减、改变元素 （mutable）\n",
    "- 元祖是静态的，长度大小固定，无法增加删减或者改变 （immutable）"
   ]
  },
  {
   "cell_type": "code",
   "execution_count": 3,
   "metadata": {},
   "outputs": [
    {
     "data": {
      "text/plain": [
       "[1, 2, 'hello', 'DarrenZhang']"
      ]
     },
     "execution_count": 3,
     "metadata": {},
     "output_type": "execute_result"
    }
   ],
   "source": [
    "origin_list[3] = 'DarrenZhang'\n",
    "origin_list  # 可以看到原始list中的元素已经发生了改变。"
   ]
  },
  {
   "cell_type": "code",
   "execution_count": 4,
   "metadata": {},
   "outputs": [
    {
     "ename": "TypeError",
     "evalue": "'tuple' object does not support item assignment",
     "output_type": "error",
     "traceback": [
      "\u001b[1;31m---------------------------------------------------------------------------\u001b[0m",
      "\u001b[1;31mTypeError\u001b[0m                                 Traceback (most recent call last)",
      "\u001b[1;32m<ipython-input-4-f7f7fdf473dd>\u001b[0m in \u001b[0;36m<module>\u001b[1;34m()\u001b[0m\n\u001b[1;32m----> 1\u001b[1;33m \u001b[0morigin_tuple\u001b[0m\u001b[1;33m[\u001b[0m\u001b[1;36m2\u001b[0m\u001b[1;33m]\u001b[0m \u001b[1;33m=\u001b[0m \u001b[1;34m'456'\u001b[0m  \u001b[1;31m# 报错，元组的元素不可变\u001b[0m\u001b[1;33m\u001b[0m\u001b[0m\n\u001b[0m",
      "\u001b[1;31mTypeError\u001b[0m: 'tuple' object does not support item assignment"
     ]
    }
   ],
   "source": [
    "origin_tuple[2] = '456'  # 报错，元组的元素不可变"
   ]
  },
  {
   "cell_type": "markdown",
   "metadata": {},
   "source": [
    "那如何才能改变元组中的数据呢？？？\n",
    "- **只能重新开辟一块内存，创建新的元组**\n",
    "\n",
    "【例】：为元组和列表添加元素5"
   ]
  },
  {
   "cell_type": "code",
   "execution_count": 5,
   "metadata": {},
   "outputs": [
    {
     "ename": "TypeError",
     "evalue": "unsupported operand type(s) for +: 'type' and 'tuple'",
     "output_type": "error",
     "traceback": [
      "\u001b[1;31m---------------------------------------------------------------------------\u001b[0m",
      "\u001b[1;31mTypeError\u001b[0m                                 Traceback (most recent call last)",
      "\u001b[1;32m<ipython-input-5-63edbdc30a94>\u001b[0m in \u001b[0;36m<module>\u001b[1;34m()\u001b[0m\n\u001b[0;32m      1\u001b[0m \u001b[0morigin_tuple\u001b[0m \u001b[1;33m=\u001b[0m \u001b[1;33m(\u001b[0m\u001b[1;36m1\u001b[0m\u001b[1;33m,\u001b[0m \u001b[1;36m2\u001b[0m\u001b[1;33m,\u001b[0m \u001b[1;36m3\u001b[0m\u001b[1;33m,\u001b[0m \u001b[1;36m4\u001b[0m\u001b[1;33m)\u001b[0m\u001b[1;33m\u001b[0m\u001b[0m\n\u001b[1;32m----> 2\u001b[1;33m \u001b[0mnew_tuple\u001b[0m \u001b[1;33m=\u001b[0m \u001b[0mtuple\u001b[0m \u001b[1;33m+\u001b[0m \u001b[1;33m(\u001b[0m\u001b[1;36m5\u001b[0m\u001b[1;33m,\u001b[0m \u001b[1;33m)\u001b[0m  \u001b[1;31m# 创建新的元组new_tuple，并依次填充原元组的值\u001b[0m\u001b[1;33m\u001b[0m\u001b[0m\n\u001b[0m\u001b[0;32m      3\u001b[0m \u001b[0mnew_tuple\u001b[0m\u001b[1;33m\u001b[0m\u001b[0m\n",
      "\u001b[1;31mTypeError\u001b[0m: unsupported operand type(s) for +: 'type' and 'tuple'"
     ]
    }
   ],
   "source": [
    "origin_tuple = (1, 2, 3, 4)\n",
    "new_tuple = tuple + (5, )  # 创建新的元组new_tuple，并依次填充原元组的值\n",
    "new_tuple"
   ]
  },
  {
   "cell_type": "code",
   "execution_count": 6,
   "metadata": {},
   "outputs": [
    {
     "data": {
      "text/plain": [
       "[1, 2, 3, 4, 5]"
      ]
     },
     "execution_count": 6,
     "metadata": {},
     "output_type": "execute_result"
    }
   ],
   "source": [
    "origin_list = [1, 2, 3, 4]\n",
    "origin_list.append(5)\n",
    "origin_list"
   ]
  },
  {
   "cell_type": "markdown",
   "metadata": {},
   "source": [
    "# 二、列表和元组的基本操作"
   ]
  },
  {
   "cell_type": "markdown",
   "metadata": {},
   "source": [
    "## 2.1 索引"
   ]
  },
  {
   "cell_type": "code",
   "execution_count": 7,
   "metadata": {},
   "outputs": [
    {
     "name": "stdout",
     "output_type": "stream",
     "text": [
      "2\n",
      "6\n",
      "2\n"
     ]
    }
   ],
   "source": [
    "origin_list = [1, 2, 3, 4, 5, 6]\n",
    "\n",
    "print(origin_list[1])  # 正向索引\n",
    "print(origin_list[-1]) # 反向索引，-1 为最后一个元素\n",
    "print(origin_list[-5])"
   ]
  },
  {
   "cell_type": "code",
   "execution_count": 8,
   "metadata": {},
   "outputs": [
    {
     "name": "stdout",
     "output_type": "stream",
     "text": [
      "2\n",
      "6\n",
      "2\n"
     ]
    }
   ],
   "source": [
    "origin_tuple = (1, 2, 3, 4, 5, 6)\n",
    "\n",
    "print(origin_tuple[1])  # tuple 的正向索引\n",
    "print(origin_tuple[-1]) # 反向索引，-1 为最后一个元素\n",
    "print(origin_tuple[-5])"
   ]
  },
  {
   "cell_type": "markdown",
   "metadata": {},
   "source": [
    "## 2.2 切片"
   ]
  },
  {
   "cell_type": "code",
   "execution_count": 9,
   "metadata": {},
   "outputs": [
    {
     "data": {
      "text/plain": [
       "[2, 3]"
      ]
     },
     "execution_count": 9,
     "metadata": {},
     "output_type": "execute_result"
    }
   ],
   "source": [
    "origin_list = [1, 2, 3, 4, 5, 6]\n",
    "origin_list[1:3]  # 返回列表中索引从 1 到 2 的字列表 - [1, 3)"
   ]
  },
  {
   "cell_type": "code",
   "execution_count": 10,
   "metadata": {},
   "outputs": [
    {
     "data": {
      "text/plain": [
       "(2, 3)"
      ]
     },
     "execution_count": 10,
     "metadata": {},
     "output_type": "execute_result"
    }
   ],
   "source": [
    "origin_tuple = (1, 2, 3, 4, 5, 6)\n",
    "origin_tuple[1:3]  # 返回元组中索引从 1 到 2 的字列表 - [1, 3)"
   ]
  },
  {
   "cell_type": "markdown",
   "metadata": {},
   "source": [
    "## 2.3 嵌套"
   ]
  },
  {
   "cell_type": "code",
   "execution_count": 11,
   "metadata": {},
   "outputs": [
    {
     "data": {
      "text/plain": [
       "[[1, 2, 3], [4, 5]]"
      ]
     },
     "execution_count": 11,
     "metadata": {},
     "output_type": "execute_result"
    }
   ],
   "source": [
    "origin_list = [[1, 2, 3], [4, 5]] # 列表的每一个元素也是一个列表\n",
    "origin_list"
   ]
  },
  {
   "cell_type": "code",
   "execution_count": 12,
   "metadata": {},
   "outputs": [
    {
     "data": {
      "text/plain": [
       "((1, 2, 3), (4, 5, 6))"
      ]
     },
     "execution_count": 12,
     "metadata": {},
     "output_type": "execute_result"
    }
   ],
   "source": [
    "origin_tuple = ((1, 2, 3), (4, 5, 6)) # 元组的每一个元素也是一个元组\n",
    "origin_tuple"
   ]
  },
  {
   "cell_type": "markdown",
   "metadata": {},
   "source": [
    "## 2.4 相互转化\n"
   ]
  },
  {
   "cell_type": "code",
   "execution_count": 13,
   "metadata": {},
   "outputs": [
    {
     "data": {
      "text/plain": [
       "[(1, 2, 3), (4, 5, 6)]"
      ]
     },
     "execution_count": 13,
     "metadata": {},
     "output_type": "execute_result"
    }
   ],
   "source": [
    "list(origin_tuple)"
   ]
  },
  {
   "cell_type": "code",
   "execution_count": 14,
   "metadata": {},
   "outputs": [
    {
     "data": {
      "text/plain": [
       "[1, 2, 3]"
      ]
     },
     "execution_count": 14,
     "metadata": {},
     "output_type": "execute_result"
    }
   ],
   "source": [
    "list((1, 2, 3))"
   ]
  },
  {
   "cell_type": "code",
   "execution_count": 15,
   "metadata": {},
   "outputs": [
    {
     "data": {
      "text/plain": [
       "([1, 2, 3], [4, 5])"
      ]
     },
     "execution_count": 15,
     "metadata": {},
     "output_type": "execute_result"
    }
   ],
   "source": [
    "tuple(origin_list)"
   ]
  },
  {
   "cell_type": "markdown",
   "metadata": {},
   "source": [
    "## 2.5 内置函数"
   ]
  },
  {
   "cell_type": "code",
   "execution_count": 21,
   "metadata": {},
   "outputs": [
    {
     "data": {
      "text/plain": [
       "2"
      ]
     },
     "execution_count": 21,
     "metadata": {},
     "output_type": "execute_result"
    }
   ],
   "source": [
    "origin_list = [3, 2, 3, 7, 8, 1]\n",
    "origin_list.count(3)  # count(item)：统计列表、元组中item出现的次数"
   ]
  },
  {
   "cell_type": "code",
   "execution_count": 22,
   "metadata": {},
   "outputs": [
    {
     "data": {
      "text/plain": [
       "3"
      ]
     },
     "execution_count": 22,
     "metadata": {},
     "output_type": "execute_result"
    }
   ],
   "source": [
    "origin_list.index(7)  # index(item)：返回列表、元组中item第一次出现的索引"
   ]
  },
  {
   "cell_type": "code",
   "execution_count": 23,
   "metadata": {},
   "outputs": [
    {
     "data": {
      "text/plain": [
       "[1, 8, 7, 3, 2, 3]"
      ]
     },
     "execution_count": 23,
     "metadata": {},
     "output_type": "execute_result"
    }
   ],
   "source": [
    "origin_list.reverse()  # reverse()：原地倒转列表元素，元组没有该操作\n",
    "origin_list"
   ]
  },
  {
   "cell_type": "code",
   "execution_count": 25,
   "metadata": {},
   "outputs": [
    {
     "data": {
      "text/plain": [
       "[1, 2, 3, 3, 7, 8]"
      ]
     },
     "execution_count": 25,
     "metadata": {},
     "output_type": "execute_result"
    }
   ],
   "source": [
    "origin_list.sort()  # sort(): 原地元素排序，元组没有该操作哦\n",
    "origin_list"
   ]
  },
  {
   "cell_type": "code",
   "execution_count": 26,
   "metadata": {},
   "outputs": [
    {
     "data": {
      "text/plain": [
       "2"
      ]
     },
     "execution_count": 26,
     "metadata": {},
     "output_type": "execute_result"
    }
   ],
   "source": [
    "origin_tuple = (3, 2, 3, 7, 8, 1)\n",
    "origin_tuple.count(3)"
   ]
  },
  {
   "cell_type": "code",
   "execution_count": 28,
   "metadata": {},
   "outputs": [
    {
     "data": {
      "text/plain": [
       "3"
      ]
     },
     "execution_count": 28,
     "metadata": {},
     "output_type": "execute_result"
    }
   ],
   "source": [
    "origin_tuple.index(7)"
   ]
  },
  {
   "cell_type": "code",
   "execution_count": 30,
   "metadata": {},
   "outputs": [
    {
     "data": {
      "text/plain": [
       "[1, 8, 7, 3, 2, 3]"
      ]
     },
     "execution_count": 30,
     "metadata": {},
     "output_type": "execute_result"
    }
   ],
   "source": [
    "list(reversed(origin_tuple))  # reversed()对列表、元组进行倒转，返回倒转之后的迭代器\n",
    "# list() 对返回的迭代器转化为列表 "
   ]
  },
  {
   "cell_type": "code",
   "execution_count": 31,
   "metadata": {},
   "outputs": [
    {
     "data": {
      "text/plain": [
       "[1, 2, 3, 3, 7, 8]"
      ]
     },
     "execution_count": 31,
     "metadata": {},
     "output_type": "execute_result"
    }
   ],
   "source": [
    "sorted(origin_tuple)  # sorted()：返回排好序的新列表"
   ]
  },
  {
   "cell_type": "markdown",
   "metadata": {},
   "source": [
    "# 三、列表和元组存储方式的差异"
   ]
  },
  {
   "cell_type": "markdown",
   "metadata": {},
   "source": [
    "前面阐述了：列表和元组的最终的区别是列表是动态的；元组是静态的、不可变的。这样的差异，势必会影响二者的存储方式\n"
   ]
  },
  {
   "cell_type": "code",
   "execution_count": 33,
   "metadata": {},
   "outputs": [
    {
     "data": {
      "text/plain": [
       "64"
      ]
     },
     "execution_count": 33,
     "metadata": {},
     "output_type": "execute_result"
    }
   ],
   "source": [
    "origin_list = [1, 2, 3]\n",
    "origin_list.__sizeof__()"
   ]
  },
  {
   "cell_type": "code",
   "execution_count": 34,
   "metadata": {},
   "outputs": [
    {
     "data": {
      "text/plain": [
       "48"
      ]
     },
     "execution_count": 34,
     "metadata": {},
     "output_type": "execute_result"
    }
   ],
   "source": [
    "origin_tuple = (1, 2, 3)\n",
    "origin_tuple.__sizeof__()"
   ]
  },
  {
   "cell_type": "markdown",
   "metadata": {},
   "source": [
    "> 从上看出，对于存储相同元素的列表和元组，元组的存储空间比列表的存储空间要少的多，WHY？？？？"
   ]
  },
  {
   "cell_type": "markdown",
   "metadata": {},
   "source": [
    "- 由于列表是动态的，所以需要存储指针，来指向对应的元素；\n",
    "- 另外列表可变，需要额外存储已经分配的长度大小，这样才可以实时追踪列表空间的使用情况，当空间不足时，会及时分配额外空间"
   ]
  },
  {
   "cell_type": "code",
   "execution_count": 35,
   "metadata": {},
   "outputs": [
    {
     "data": {
      "text/plain": [
       "40"
      ]
     },
     "execution_count": 35,
     "metadata": {},
     "output_type": "execute_result"
    }
   ],
   "source": [
    "l = []\n",
    "l.__sizeof__()  # 空列表的存储空间为40字节"
   ]
  },
  {
   "cell_type": "code",
   "execution_count": 36,
   "metadata": {},
   "outputs": [
    {
     "data": {
      "text/plain": [
       "72"
      ]
     },
     "execution_count": 36,
     "metadata": {},
     "output_type": "execute_result"
    }
   ],
   "source": [
    "l.append(1)\n",
    "# 加入了元素1之后，列表为其分配了可以存储4个元素的空间 (72 - 40)/8 = 4\n",
    "l.__sizeof__()  # 4*8 + 40 = 72"
   ]
  },
  {
   "cell_type": "code",
   "execution_count": 37,
   "metadata": {},
   "outputs": [
    {
     "data": {
      "text/plain": [
       "72"
      ]
     },
     "execution_count": 37,
     "metadata": {},
     "output_type": "execute_result"
    }
   ],
   "source": [
    "l.append(2) \n",
    "l.__sizeof__()  # 由于之前分配了空间，所以加入元素2，列表空间不变"
   ]
  },
  {
   "cell_type": "code",
   "execution_count": 38,
   "metadata": {},
   "outputs": [
    {
     "data": {
      "text/plain": [
       "72"
      ]
     },
     "execution_count": 38,
     "metadata": {},
     "output_type": "execute_result"
    }
   ],
   "source": [
    "l.append(3)\n",
    "l.__sizeof__() "
   ]
  },
  {
   "cell_type": "code",
   "execution_count": 39,
   "metadata": {},
   "outputs": [
    {
     "data": {
      "text/plain": [
       "72"
      ]
     },
     "execution_count": 39,
     "metadata": {},
     "output_type": "execute_result"
    }
   ],
   "source": [
    "l.append(4)\n",
    "l.__sizeof__() "
   ]
  },
  {
   "cell_type": "code",
   "execution_count": 40,
   "metadata": {},
   "outputs": [
    {
     "data": {
      "text/plain": [
       "104"
      ]
     },
     "execution_count": 40,
     "metadata": {},
     "output_type": "execute_result"
    }
   ],
   "source": [
    "l.append(5)\n",
    "l.__sizeof__()  \n",
    "# 加入元素5之后，列表的空间不足，所以又额外分配了可以存储4个元素的空间"
   ]
  },
  {
   "cell_type": "markdown",
   "metadata": {},
   "source": [
    "上面的例子描述了列表空间分配的过程。可以看到，为了减小每次增加/删减操作\n",
    "时空间分配的开销，**Python 每次分配空间时都会额外多分配一些**，这样的机制**(over-allocating)**保证了其操作的高效性：增加/删除的时间复杂渡均为0(1)。\n",
    "\n",
    "但是对于元组,情况就不同了。元组长度大小固定，元素不可变，所以存储空间固定。\n",
    "\n",
    "看了前面的分析,你也许会觉得，这样的差可以忽略不计。但是想象一下，如果列表和元组\n",
    "存储元素的个数是一亿, 十亿甚至更大数量级时，你还能忽略这样的差异吗?"
   ]
  },
  {
   "cell_type": "markdown",
   "metadata": {},
   "source": [
    "# 四、列表和元组的性能"
   ]
  },
  {
   "cell_type": "markdown",
   "metadata": {},
   "source": [
    "通过学习列表和元组存储方式的差异，我们可以得出结论：**元组要比列表更加轻量级**，所以总体上来说，元组的性能速度要略优于列表。\n",
    "\n",
    "另外，`Python` 会在后台，**对静态数据做资源缓存(resource caching)** 。通常来说，因为**垃圾回收机制**的存在，如果一些变量不被使用了，Python就会回收它们所占用的内存，返还给操作系统，以便其他变量或其他应用使用。\n",
    "\n",
    "但是对于一些静态变量，比如元组，如果它不被使用并且占用空间不大时，Python会暂时缓存这部分内存。这样，下次我们再创建同样大小的元组时，Python就可以不再向操作系统发出请求，寻找内存，而是**可以直接分配之前缓存的内存空间**,这样就能大大加快程序的运行速度。\n",
    "\n",
    "下面的例子，计算初始化一个相同元素的列表和元组分别所需的时间。我们可以看到，元组的初始化速度，要比列表快5倍。"
   ]
  },
  {
   "cell_type": "markdown",
   "metadata": {},
   "source": []
  },
  {
   "cell_type": "markdown",
   "metadata": {},
   "source": [
    "在终端运行如下代码，可以看到元组的初始化速度要比列表快5倍\n",
    "```\n",
    "python3 -m timeit 'x=(1,2,3,4,5,6)'\n",
    "# 20000000 loops, best of 5: 9.97 nsec per loop\n",
    "python3 -m timeit 'x=[1,2,3,4,5,6]'\n",
    "# 5000000 loops, best of 5: 50.1 nsec per loop\n",
    "```"
   ]
  },
  {
   "cell_type": "markdown",
   "metadata": {},
   "source": [
    "对于索引操作，两者的速度差距非常小，几乎可以忽略不计\n",
    "```\n",
    "python3 -m timeit -s 'x=[1,2,3,4,5,6]' 'y=x[3]'\n",
    "# 10000000 loops, best of 5: 22.2 nsec per loop\n",
    "python3 -m timeit -s 'x=(1,2,3,4,5,6)' 'y=x[3]'\n",
    "# 10000000 loops, best of 5: 21.9 nsec per loop\n",
    "```"
   ]
  },
  {
   "cell_type": "markdown",
   "metadata": {},
   "source": [
    "> 如果想要增加、删减或者改变元素，那么列表显然更优。原因你现在肯定知道了，那\n",
    "就是对于元组，你必须得通过新建一个元组来完成。\n"
   ]
  },
  {
   "cell_type": "markdown",
   "metadata": {},
   "source": [
    "# 五、使用场景"
   ]
  },
  {
   "cell_type": "markdown",
   "metadata": {},
   "source": [
    "1、如果存储的数据和数不变，比如你有一个函数，需要返回的是一个地点的经纬度，然后直接传给前端渲染，那么肯定选用元组更合适。"
   ]
  },
  {
   "cell_type": "markdown",
   "metadata": {},
   "source": [
    "2、如果存储的数据或数量是可变的，比如社交平台上的一个日志功能，是统计用户在一周之内看了哪些用户的帖子，那么则用列表更合适。"
   ]
  },
  {
   "cell_type": "code",
   "execution_count": null,
   "metadata": {},
   "outputs": [],
   "source": [
    "viewer_owner_id_list = [] # 里面的每个元素记录了这个viewer一周内看过的所有owner的id\n",
    "records = queryDB(viewer_id) # 索引数据库，拿到某个viewer一周内的日志\n",
    "for record in records:\n",
    "    viewer_owner_id_list.append(record.id)"
   ]
  },
  {
   "cell_type": "markdown",
   "metadata": {},
   "source": [
    "# 总结"
   ]
  },
  {
   "cell_type": "markdown",
   "metadata": {},
   "source": [
    "总的来说，**列表和元组都是有序的**，**可以存储任意数据类型的集合**，区别主要在于下面这两点：\n",
    "\n",
    "- 列表是动态的，长度可变，可以随意的增加、删减或改变元素。列表的存储空间略大于元组，性能略逊于元组。\n",
    "- 元组是静态的，长度大小固定，可以对元素进行增加、删减或者改变操作。元组相对于列表更加轻量级，性能稍优。\n"
   ]
  },
  {
   "cell_type": "markdown",
   "metadata": {},
   "source": [
    "# 思考\n",
    "\n",
    "想创建一个空的列表，我们可以用下面的A、B两种方式，请问它们在效率上有什么区别吗？我们应该优先考虑使用哪种呢？可以说说你的理由。\n"
   ]
  },
  {
   "cell_type": "code",
   "execution_count": null,
   "metadata": {},
   "outputs": [],
   "source": [
    "# 创建空列表\n",
    "# option A\n",
    "empty_list = list()\n",
    "\n",
    "# option B\n",
    "empty_list = []"
   ]
  },
  {
   "cell_type": "markdown",
   "metadata": {},
   "source": [
    "区别主要在list()是一个function call, Python的function cll会创建stack，并且进行系列参数检查的操作，比如expensive，\n",
    "\n",
    "反观 `[]` 是一个内置的函数，可以直接被调用，因此效率高。"
   ]
  },
  {
   "cell_type": "code",
   "execution_count": null,
   "metadata": {},
   "outputs": [],
   "source": []
  }
 ],
 "metadata": {
  "kernelspec": {
   "display_name": "Python 3",
   "language": "python",
   "name": "python3"
  },
  "language_info": {
   "codemirror_mode": {
    "name": "ipython",
    "version": 3
   },
   "file_extension": ".py",
   "mimetype": "text/x-python",
   "name": "python",
   "nbconvert_exporter": "python",
   "pygments_lexer": "ipython3",
   "version": "3.6.5"
  }
 },
 "nbformat": 4,
 "nbformat_minor": 4
}
