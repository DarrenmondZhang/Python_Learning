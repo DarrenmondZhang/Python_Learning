{
 "cells": [
  {
   "cell_type": "markdown",
   "metadata": {},
   "source": [
    "# 程序控制结构\n",
    "![程序控制结构](media/程序控制结构.png)"
   ]
  },
  {
   "cell_type": "markdown",
   "metadata": {},
   "source": [
    "非顺序式的程序控制，往往需要根据一定的条件，决定程序运行的路线。因此，我们首先来认识一下什么叫条件测试。"
   ]
  },
  {
   "cell_type": "markdown",
   "metadata": {},
   "source": [
    "## 01. 条件测试"
   ]
  },
  {
   "cell_type": "markdown",
   "metadata": {},
   "source": [
    "### 1.1 比较运算"
   ]
  },
  {
   "cell_type": "code",
   "execution_count": 1,
   "metadata": {},
   "outputs": [
    {
     "name": "stdout",
     "output_type": "stream",
     "text": [
      "True\n",
      "False\n",
      "True\n",
      "False\n",
      "False\n",
      "True\n"
     ]
    }
   ],
   "source": [
    "a = 10\n",
    "b = 8\n",
    "print(a > b)     # 大于\n",
    "print(a < b)     # 小于\n",
    "print(a >= b)    # 大于等于\n",
    "print(a <= b)    # 小于等于\n",
    "print(a == b)    # 等于\n",
    "print(a != b)    # 不等于"
   ]
  },
  {
   "cell_type": "markdown",
   "metadata": {},
   "source": [
    "* 非空"
   ]
  },
  {
   "cell_type": "code",
   "execution_count": 2,
   "metadata": {},
   "outputs": [
    {
     "name": "stdout",
     "output_type": "stream",
     "text": [
      "非空\n"
     ]
    }
   ],
   "source": [
    "ls = [1]\n",
    "if ls:            # 数据结构不为空、变量不为0、None、False 则条件成立\n",
    "    print(\"非空\")\n",
    "else:\n",
    "    print(\"空的\")"
   ]
  },
  {
   "cell_type": "markdown",
   "metadata": {},
   "source": [
    "### 1.2 逻辑运算"
   ]
  },
  {
   "cell_type": "markdown",
   "metadata": {},
   "source": [
    "* 与、或、非"
   ]
  },
  {
   "cell_type": "code",
   "execution_count": 3,
   "metadata": {
    "scrolled": true
   },
   "outputs": [
    {
     "name": "stdout",
     "output_type": "stream",
     "text": [
      "False\n",
      "True\n",
      "False\n"
     ]
    }
   ],
   "source": [
    "a = 10\n",
    "b = 8\n",
    "c = 12\n",
    "print((a > b) and (b > c))    # 与\n",
    "print((a > b) or (b > c))     # 或\n",
    "print(not(a > b))             # 非"
   ]
  },
  {
   "cell_type": "markdown",
   "metadata": {},
   "source": [
    "* 复合逻辑运算的优先级  \n",
    "非 > 与 > 或"
   ]
  },
  {
   "cell_type": "code",
   "execution_count": 4,
   "metadata": {
    "scrolled": true
   },
   "outputs": [
    {
     "name": "stdout",
     "output_type": "stream",
     "text": [
      "True\n"
     ]
    }
   ],
   "source": [
    "print(True or True and False)"
   ]
  },
  {
   "cell_type": "code",
   "execution_count": 5,
   "metadata": {},
   "outputs": [
    {
     "name": "stdout",
     "output_type": "stream",
     "text": [
      "False\n"
     ]
    }
   ],
   "source": [
    "print((True or True) and False)"
   ]
  },
  {
   "cell_type": "markdown",
   "metadata": {},
   "source": [
    "### 1.3 存在运算"
   ]
  },
  {
   "cell_type": "markdown",
   "metadata": {},
   "source": [
    "元素 in 列表/字符串   "
   ]
  },
  {
   "cell_type": "code",
   "execution_count": 6,
   "metadata": {},
   "outputs": [],
   "source": [
    "cars = [\"BYD\", \"BMW\", \"AUDI\", \"TOYOTA\"]"
   ]
  },
  {
   "cell_type": "code",
   "execution_count": 7,
   "metadata": {},
   "outputs": [
    {
     "name": "stdout",
     "output_type": "stream",
     "text": [
      "True\n",
      "False\n"
     ]
    }
   ],
   "source": [
    "print(\"BMW\" in cars)\n",
    "print(\"BENZ\" in cars)"
   ]
  },
  {
   "cell_type": "markdown",
   "metadata": {},
   "source": [
    "元素 not in 列表/字符串   "
   ]
  },
  {
   "cell_type": "code",
   "execution_count": 8,
   "metadata": {},
   "outputs": [
    {
     "name": "stdout",
     "output_type": "stream",
     "text": [
      "False\n",
      "True\n"
     ]
    }
   ],
   "source": [
    "print(\"BMW\" not in cars)\n",
    "print(\"BENZ\" not in cars)"
   ]
  },
  {
   "cell_type": "markdown",
   "metadata": {},
   "source": [
    "## 02. 分支结构 —— if语句"
   ]
  },
  {
   "cell_type": "markdown",
   "metadata": {},
   "source": [
    "### 2.1 单分支\n",
    "**模板**  \n",
    "```\n",
    "if 条件:\n",
    "    缩进的代码块\n",
    "```"
   ]
  },
  {
   "cell_type": "code",
   "execution_count": 9,
   "metadata": {},
   "outputs": [
    {
     "name": "stdout",
     "output_type": "stream",
     "text": [
      "孩子，你该上学啦！\n"
     ]
    }
   ],
   "source": [
    "age = 8\n",
    "if age > 7:\n",
    "    print(\"孩子，你该上学啦！\")"
   ]
  },
  {
   "cell_type": "markdown",
   "metadata": {},
   "source": [
    "### 2.2 二分支\n",
    "**模板**  \n",
    "```  \n",
    "if 条件:  \n",
    "    缩进的代码块  \n",
    "else:\n",
    "    缩进的代码块  \n",
    "```"
   ]
  },
  {
   "cell_type": "code",
   "execution_count": 10,
   "metadata": {},
   "outputs": [
    {
     "name": "stdout",
     "output_type": "stream",
     "text": [
      "再玩两年泥巴！\n"
     ]
    }
   ],
   "source": [
    "age = 6\n",
    "if age > 7:\n",
    "    print(\"孩子，你该上学啦！\")\n",
    "else:\n",
    "    print(\"再玩两年泥巴！\")"
   ]
  },
  {
   "cell_type": "markdown",
   "metadata": {},
   "source": [
    "### 2.3 多分支\n",
    "\n",
    "**模板**  \n",
    "```\n",
    "if 条件:\n",
    "    缩进的代码块  \n",
    "elif 条件:\n",
    "    缩进的代码块  \n",
    "elif 条件:\n",
    "    缩进的代码块   \n",
    "else:\n",
    "    缩进的代码块  \n",
    "```"
   ]
  },
  {
   "cell_type": "code",
   "execution_count": 11,
   "metadata": {
    "scrolled": true
   },
   "outputs": [
    {
     "name": "stdout",
     "output_type": "stream",
     "text": [
      "辛苦了，各行各业的工作者们\n"
     ]
    }
   ],
   "source": [
    "age = 38\n",
    "if age < 7:\n",
    "    print(\"再玩两年泥巴\")\n",
    "elif age < 13:\n",
    "    print(\"孩子，你该上小学啦\")\n",
    "elif age < 16:\n",
    "    print(\"孩子，你该上初中了\")\n",
    "elif age < 19:\n",
    "    print(\"孩子，你该上高中了\")\n",
    "elif age < 23:\n",
    "    print(\"大学生活快乐\")\n",
    "elif age < 60:\n",
    "    print(\"辛苦了，各行各业的工作者们\")\n",
    "else:     # 有时为了清楚，也可以写成elif age >= 60:\n",
    "    print(\"享受退休生活吧\") "
   ]
  },
  {
   "cell_type": "markdown",
   "metadata": {},
   "source": [
    "**NOTE: 不管多少分支，最后只执行一个分支**"
   ]
  },
  {
   "cell_type": "markdown",
   "metadata": {},
   "source": [
    "### 2.4 嵌套语句\n",
    "**题目：年满18周岁，在非公共场合方可抽烟，判断某种情形下是否可以抽烟**"
   ]
  },
  {
   "cell_type": "code",
   "execution_count": 12,
   "metadata": {},
   "outputs": [
    {
     "name": "stdout",
     "output_type": "stream",
     "text": [
      "True\n",
      "禁止抽烟\n"
     ]
    }
   ],
   "source": [
    "age = eval(input(\"请输入年龄\"))\n",
    "if age > 18:\n",
    "    is_public_place = bool(eval(input(\"公共场合请输入1，非公共场合请输入0\")))\n",
    "    print(is_public_place)\n",
    "    if not is_public_place:\n",
    "        print(\"可以抽烟\")\n",
    "    else:\n",
    "        print(\"禁止抽烟\")        \n",
    "else:\n",
    "    print(\"禁止抽烟\")            "
   ]
  },
  {
   "cell_type": "markdown",
   "metadata": {},
   "source": [
    "## 03. 遍历循环 — for 循环\n",
    "\n",
    "主要形式：\n",
    "```\n",
    "for 元素  in  可迭代对象:\n",
    "    执行语句\n",
    "```\n",
    "\n",
    "执行过程：\n",
    "* 从可迭代对象中，依次取出每一个元素，并进行相应的操作"
   ]
  },
  {
   "cell_type": "markdown",
   "metadata": {},
   "source": [
    "### 3.1 直接迭代 — 列表[ ]、元组( )、集合{ }、字符串\" \""
   ]
  },
  {
   "cell_type": "code",
   "execution_count": 14,
   "metadata": {},
   "outputs": [
    {
     "name": "stdout",
     "output_type": "stream",
     "text": [
      "Congratulations, 李雷\n",
      "Congratulations, 韩梅梅\n",
      "Congratulations, Jim\n"
     ]
    }
   ],
   "source": [
    "graduates = (\"李雷\", \"韩梅梅\", \"Jim\")\n",
    "for graduate in graduates:\n",
    "    print(\"Congratulations, \" + graduate)"
   ]
  },
  {
   "cell_type": "markdown",
   "metadata": {},
   "source": [
    "### 3.2 变换迭代 — 字典"
   ]
  },
  {
   "cell_type": "code",
   "execution_count": 17,
   "metadata": {},
   "outputs": [
    {
     "name": "stdout",
     "output_type": "stream",
     "text": [
      "201901 小明\n",
      "201902 小红\n",
      "201903 小强\n",
      "201901\n",
      "201902\n",
      "201903\n",
      "小明\n",
      "小红\n",
      "小强\n"
     ]
    }
   ],
   "source": [
    "students = {201901: '小明', 201902: '小红', 201903: '小强'}\n",
    "for k, v in students.items():\n",
    "    print(k, v)\n",
    "for students_num in students.keys():\n",
    "    print(students_num)  \n",
    "for students in students.values():\n",
    "    print(students)"
   ]
  },
  {
   "cell_type": "markdown",
   "metadata": {},
   "source": [
    "### 3.3 range()对象"
   ]
  },
  {
   "cell_type": "code",
   "execution_count": 20,
   "metadata": {},
   "outputs": [
    {
     "name": "stdout",
     "output_type": "stream",
     "text": [
      "[0, 1, 4, 9, 16]\n",
      "81\n"
     ]
    }
   ],
   "source": [
    "res=[]\n",
    "for i in range(10):\n",
    "    res.append(i**2)\n",
    "print(res[:5])\n",
    "print(res[-1])"
   ]
  },
  {
   "cell_type": "code",
   "execution_count": 19,
   "metadata": {},
   "outputs": [
    {
     "name": "stdout",
     "output_type": "stream",
     "text": [
      "[1, 9, 25, 49, 81]\n"
     ]
    }
   ],
   "source": [
    "res=[]\n",
    "for i in range(1, 10, 2):\n",
    "    res.append(i**2)\n",
    "print(res)"
   ]
  },
  {
   "cell_type": "markdown",
   "metadata": {},
   "source": [
    "### 3.4 循环控制：break 和 continue"
   ]
  },
  {
   "cell_type": "markdown",
   "metadata": {},
   "source": [
    "* break 结束整个循环"
   ]
  },
  {
   "cell_type": "code",
   "execution_count": 21,
   "metadata": {},
   "outputs": [
    {
     "name": "stdout",
     "output_type": "stream",
     "text": [
      "产品抽检不合格\n"
     ]
    }
   ],
   "source": [
    "product_scores = [89, 90, 99, 70, 67, 78, 85, 92, 77, 82]\n",
    "# 1组10个产品的性能评分如果低于75分的超过1个，则该组产品不合格\n",
    "i = 0\n",
    "for score in product_scores:\n",
    "    if score < 75:\n",
    "        i += 1 \n",
    "    if i == 2:\n",
    "        print(\"产品抽检不合格\")\n",
    "        break"
   ]
  },
  {
   "cell_type": "markdown",
   "metadata": {},
   "source": [
    "* continue 结束本次循环"
   ]
  },
  {
   "cell_type": "code",
   "execution_count": 22,
   "metadata": {},
   "outputs": [
    {
     "name": "stdout",
     "output_type": "stream",
     "text": [
      "10\n",
      "第3个产品，分数为70，不合格\n",
      "第4个产品，分数为67，不合格\n"
     ]
    }
   ],
   "source": [
    "product_scores = [89, 90, 99, 70, 67, 78, 85, 92, 77, 82]\n",
    "# 1组10个产品的性能评分如果低于75分, q输出警示\n",
    "print(len(product_scores))\n",
    "for i in range(len(product_scores)):\n",
    "    if product_scores[i] >= 75:\n",
    "        continue \n",
    "    print(\"第{0}个产品，分数为{1}，不合格\".format(i, product_scores[i]))"
   ]
  },
  {
   "cell_type": "markdown",
   "metadata": {},
   "source": [
    "**break结束整个for循环，continue结束for循环里头的单次循环，不影响整体的for循环**"
   ]
  },
  {
   "cell_type": "markdown",
   "metadata": {},
   "source": [
    "### for 与 else的配合"
   ]
  },
  {
   "cell_type": "markdown",
   "metadata": {},
   "source": [
    "如果for 循环全部执行完毕，没有被break中止，则运行else块"
   ]
  },
  {
   "cell_type": "code",
   "execution_count": 23,
   "metadata": {},
   "outputs": [
    {
     "name": "stdout",
     "output_type": "stream",
     "text": [
      "产品抽检不合格\n"
     ]
    }
   ],
   "source": [
    "product_scores = [89, 90, 99, 70, 67, 78, 85, 92, 77, 82]\n",
    "# 1组10个产品的性能评分如果低于75分的超过1个，则该组产品不合格\n",
    "i = 0\n",
    "for score in product_scores:\n",
    "    if score < 75:\n",
    "        i+=1 \n",
    "    if i == 2:\n",
    "        print(\"产品抽检不合格\")\n",
    "        break\n",
    "else:\n",
    "    print(\"产品抽检合格\")"
   ]
  },
  {
   "cell_type": "markdown",
   "metadata": {},
   "source": [
    "## 04. 无限循环 — while 循环\n",
    "###  4.1 为什么要用while 循环\n",
    "* 经典题目：猜数字"
   ]
  },
  {
   "cell_type": "code",
   "execution_count": 26,
   "metadata": {},
   "outputs": [
    {
     "name": "stdout",
     "output_type": "stream",
     "text": [
      "猜的太小了，往大里试试...\n",
      "猜的太小了，往大里试试...\n"
     ]
    }
   ],
   "source": [
    "albert_age = 18\n",
    "#第1次\n",
    "guess = int(input(\">>:\"))\n",
    "if guess > albert_age :\n",
    "    print(\"猜的太大了，往小里试试...\")\n",
    "elif guess < albert_age :\n",
    "    print(\"猜的太小了，往大里试试...\")\n",
    "else:\n",
    "    print(\"恭喜你，猜对了...\")\n",
    "#第2次\n",
    "guess = int(input(\">>:\"))\n",
    "if guess > albert_age :\n",
    "    print(\"猜的太大了，往小里试试...\")\n",
    "elif guess < albert_age :\n",
    "    print(\"猜的太小了，往大里试试...\")\n",
    "else:\n",
    "    print(\"恭喜你，猜对了...\")"
   ]
  },
  {
   "cell_type": "markdown",
   "metadata": {},
   "source": [
    "**代码可能需要重复执行，可是又不知道具体要执行多少次**"
   ]
  },
  {
   "cell_type": "markdown",
   "metadata": {},
   "source": [
    "### 4.2 while循环的一般形式"
   ]
  },
  {
   "cell_type": "markdown",
   "metadata": {},
   "source": [
    "### 主要形式：\n",
    "```\n",
    "while 判断条件:\n",
    "    执行语句   \n",
    "```\n",
    "* 条件为真，执行语句\n",
    "* 条件为假，while 循环结束"
   ]
  },
  {
   "cell_type": "code",
   "execution_count": 27,
   "metadata": {},
   "outputs": [
    {
     "name": "stdout",
     "output_type": "stream",
     "text": [
      "猜的太小了，往大里试试...\n",
      "猜的太小了，往大里试试...\n",
      "恭喜你，猜对了...\n"
     ]
    }
   ],
   "source": [
    "albert_age = 18 \n",
    "guess = int(input(\">>:\"))\n",
    "while guess != albert_age: \n",
    "    if guess > albert_age :\n",
    "        print(\"猜的太大了，往小里试试...\")\n",
    "    elif guess < albert_age :\n",
    "        print(\"猜的太小了，往大里试试...\")\n",
    "    guess = int(input(\">>:\"))\n",
    "print(\"恭喜你，猜对了...\")"
   ]
  },
  {
   "cell_type": "markdown",
   "metadata": {},
   "source": [
    "### 4.3 while与风向标"
   ]
  },
  {
   "cell_type": "code",
   "execution_count": 28,
   "metadata": {
    "scrolled": true
   },
   "outputs": [
    {
     "name": "stdout",
     "output_type": "stream",
     "text": [
      "猜的太小了，往大里试试...\n",
      "猜的太小了，往大里试试...\n",
      "恭喜你，猜对了...\n"
     ]
    }
   ],
   "source": [
    "albert_age = 18 \n",
    "flag = True     # 布尔类型\n",
    "while flag:\n",
    "    guess = int(input(\">>:\"))\n",
    "    if guess > albert_age :\n",
    "        print(\"猜的太大了，往小里试试...\")\n",
    "    elif guess < albert_age :\n",
    "        print(\"猜的太小了，往大里试试...\")\n",
    "    else:\n",
    "        print(\"恭喜你，猜对了...\")\n",
    "        flag = False    # 当诉求得到满足，就让风向变一下"
   ]
  },
  {
   "cell_type": "code",
   "execution_count": 33,
   "metadata": {},
   "outputs": [],
   "source": [
    "flag=True  \n",
    "while flag:  \n",
    "    pass  \n",
    "    while flag:  \n",
    "        pass  \n",
    "        while flag:     \n",
    "            flag=False  # 循环逐层判断，当flag为false时，循环会逐层退出"
   ]
  },
  {
   "cell_type": "markdown",
   "metadata": {},
   "source": [
    "### 4.4 while 与循环控制 break、continue "
   ]
  },
  {
   "cell_type": "code",
   "execution_count": null,
   "metadata": {
    "scrolled": true
   },
   "outputs": [],
   "source": [
    "albert_age = 18 \n",
    "while True:\n",
    "    guess = int(input(\">>:\"))\n",
    "    if guess > albert_age :\n",
    "        print(\"猜的太大了，往小里试试...\")\n",
    "    elif guess < albert_age :\n",
    "        print(\"猜的太小了，往大里试试...\")\n",
    "    else:\n",
    "        print(\"恭喜你，猜对了...\")\n",
    "        break    # 当诉求得到满足，就跳出循环"
   ]
  },
  {
   "cell_type": "markdown",
   "metadata": {},
   "source": [
    "输出10以内的奇数"
   ]
  },
  {
   "cell_type": "code",
   "execution_count": 1,
   "metadata": {},
   "outputs": [
    {
     "name": "stdout",
     "output_type": "stream",
     "text": [
      "1\n",
      "3\n",
      "5\n",
      "7\n",
      "9\n"
     ]
    }
   ],
   "source": [
    "i = 0\n",
    "while i < 10:\n",
    "    i += 1\n",
    "    if i % 2 == 0:\n",
    "        continue       # 跳出本次循环，进入下一次循环\n",
    "    print(i)"
   ]
  },
  {
   "cell_type": "markdown",
   "metadata": {},
   "source": [
    "### 4.5 while与else\n",
    "如果while 循环全部执行完毕，没有被break中止，则运行else块"
   ]
  },
  {
   "cell_type": "code",
   "execution_count": 29,
   "metadata": {},
   "outputs": [
    {
     "name": "stdout",
     "output_type": "stream",
     "text": [
      "Loop 1\n",
      "Loop 2\n",
      "Loop 3\n",
      "Loop 4\n",
      "Loop 5\n",
      "Loop 6\n",
      "循环正常执行完啦\n"
     ]
    }
   ],
   "source": [
    "count = 0\n",
    "while count <= 5 :\n",
    "    count += 1\n",
    "    print(\"Loop\", count)\n",
    "else:\n",
    "    print(\"循环正常执行完啦\")"
   ]
  },
  {
   "cell_type": "markdown",
   "metadata": {},
   "source": [
    "### 4.6 再看两个例子\n",
    "【小例子】删除列表中的特定值"
   ]
  },
  {
   "cell_type": "code",
   "execution_count": 30,
   "metadata": {},
   "outputs": [],
   "source": [
    "pets = [\"dog\", \"cat\", \"dog\", \"pig\", \"goldfish\", \"rabbit\", \"cat\"]"
   ]
  },
  {
   "cell_type": "code",
   "execution_count": 31,
   "metadata": {},
   "outputs": [
    {
     "data": {
      "text/plain": [
       "['dog', 'dog', 'pig', 'goldfish', 'rabbit']"
      ]
     },
     "execution_count": 31,
     "metadata": {},
     "output_type": "execute_result"
    }
   ],
   "source": [
    "while \"cat\" in pets:\n",
    "    pets.remove(\"cat\")\n",
    "pets"
   ]
  },
  {
   "cell_type": "markdown",
   "metadata": {},
   "source": [
    "【小例子】将未读书籍列表中书名分别输出后，存入已读书籍列表"
   ]
  },
  {
   "cell_type": "code",
   "execution_count": 32,
   "metadata": {},
   "outputs": [
    {
     "name": "stdout",
     "output_type": "stream",
     "text": [
      "我已经读过《西游记》了\n",
      "我已经读过《三国演义》了\n",
      "我已经读过《水浒传》了\n",
      "我已经读过《红楼梦》了\n",
      "[]\n",
      "['西游记', '三国演义', '水浒传', '红楼梦']\n"
     ]
    }
   ],
   "source": [
    "not_read = [\"红楼梦\", \"水浒传\", \"三国演义\", \"西游记\"]\n",
    "have_read = []\n",
    "while not_read:     # not_read非空，循环继续，否则中止\n",
    "    book = not_read.pop()\n",
    "    have_read.append(book)\n",
    "    print(\"我已经读过《{}》了\".format(book))\n",
    "print(not_read)\n",
    "print(have_read)"
   ]
  },
  {
   "cell_type": "markdown",
   "metadata": {},
   "source": [
    "## 05. 控制语句注意问题\n",
    "\n",
    "### 5.1 尽可能减少多层嵌套\n",
    "* 可读性差，容易把人搞疯掉"
   ]
  },
  {
   "cell_type": "raw",
   "metadata": {},
   "source": [
    "if 条件:\n",
    "    执行语句\n",
    "    if 条件：\n",
    "        执行语句\n",
    "        if..."
   ]
  },
  {
   "cell_type": "markdown",
   "metadata": {},
   "source": [
    "### 5.2 避免死循环"
   ]
  },
  {
   "cell_type": "markdown",
   "metadata": {},
   "source": [
    "条件一直成立，循环永无止境"
   ]
  },
  {
   "cell_type": "raw",
   "metadata": {},
   "source": [
    "while True:\n",
    "    print(\"天地之渺渺，时间之无限\")"
   ]
  },
  {
   "cell_type": "markdown",
   "metadata": {},
   "source": [
    "### 5.3 封装过于复杂的判断条件"
   ]
  },
  {
   "cell_type": "markdown",
   "metadata": {},
   "source": [
    "如果条件判断里的表达式过于复杂   "
   ]
  },
  {
   "cell_type": "markdown",
   "metadata": {},
   "source": [
    "出现了太多的 not/and/or等   "
   ]
  },
  {
   "cell_type": "markdown",
   "metadata": {},
   "source": [
    "导致可读性大打折扣"
   ]
  },
  {
   "cell_type": "markdown",
   "metadata": {},
   "source": [
    "**考虑将条件封装为函数**"
   ]
  },
  {
   "cell_type": "code",
   "execution_count": 33,
   "metadata": {},
   "outputs": [
    {
     "name": "stdout",
     "output_type": "stream",
     "text": [
      "我已经晕鸟\n"
     ]
    }
   ],
   "source": [
    "a, b, c, d, e = 10, 8, 6, 2, 0\n",
    "if (a > b) and (c >d) and (not e):\n",
    "    print(\"我已经晕鸟\")"
   ]
  },
  {
   "cell_type": "code",
   "execution_count": 34,
   "metadata": {},
   "outputs": [
    {
     "name": "stdout",
     "output_type": "stream",
     "text": [
      "就是这个feel，biu倍儿爽\n"
     ]
    }
   ],
   "source": [
    "numbers = (10, 8, 6, 2, 0)\n",
    "\n",
    "\n",
    "def judge(num):\n",
    "    a, b, c, d, e = num\n",
    "    x = a > b\n",
    "    y = c > d\n",
    "    z = not e\n",
    "    return x and y and z\n",
    "\n",
    "\n",
    "if judge(numbers):\n",
    "    print(\"就是这个feel，biu倍儿爽\")"
   ]
  },
  {
   "cell_type": "markdown",
   "metadata": {},
   "source": [
    "# 作业"
   ]
  },
  {
   "cell_type": "markdown",
   "metadata": {},
   "source": [
    "## 题目一 - 条件测试\n",
    "以下条件测试的结果分别是什么"
   ]
  },
  {
   "cell_type": "code",
   "execution_count": 36,
   "metadata": {},
   "outputs": [
    {
     "name": "stdout",
     "output_type": "stream",
     "text": [
      "空的\n"
     ]
    }
   ],
   "source": [
    "d = {}\n",
    "if d:\n",
    "    print(\"非空\")\n",
    "else:\n",
    "    print(\"空的\")"
   ]
  },
  {
   "cell_type": "code",
   "execution_count": 37,
   "metadata": {},
   "outputs": [
    {
     "data": {
      "text/plain": [
       "True"
      ]
     },
     "execution_count": 37,
     "metadata": {},
     "output_type": "execute_result"
    }
   ],
   "source": [
    "True or False and False  # not > and > or"
   ]
  },
  {
   "cell_type": "code",
   "execution_count": 38,
   "metadata": {},
   "outputs": [
    {
     "data": {
      "text/plain": [
       "True"
      ]
     },
     "execution_count": 38,
     "metadata": {},
     "output_type": "execute_result"
    }
   ],
   "source": [
    "foods = [\"bread\", \"fish\", \"potato\"]\n",
    "\"breads\" in foods\n",
    "\"tomato\" not in foods"
   ]
  },
  {
   "cell_type": "markdown",
   "metadata": {},
   "source": [
    "## 题目二 - 分支语句\n",
    "\n",
    "试编写一个程序，实现如下功能:\n",
    "从黑箱中摸到一个球(无需实现，直接手动赋值)，按照球的不同颜色分配不同的奖金。\n",
    "\n",
    "* 如果摸到黑球，获得奖金0元;\n",
    "* 如果摸到白球，获得奖金10元;\n",
    "* 如果摸到蓝球，获得奖金20元;\n",
    "* 如果摸到粉球，获得奖金30元;\n",
    "* 如果摸到紫球，获得奖金50元;\n",
    "* 如果摸到彩球，获得奖金100元;"
   ]
  },
  {
   "cell_type": "code",
   "execution_count": 52,
   "metadata": {},
   "outputs": [
    {
     "name": "stdout",
     "output_type": "stream",
     "text": [
      "紫球\n",
      "50\n"
     ]
    }
   ],
   "source": [
    "import random as ran\n",
    "ball = [\"白球\", \"黑球\", \"蓝球\", \"粉球\", \"紫球\", \"彩球\"].pop(ran.randrange(6))\n",
    "print(ball)\n",
    "money = 0\n",
    "if ball == \"黑球\":\n",
    "    money = 0\n",
    "elif ball == \"白球\":\n",
    "    money = 10\n",
    "elif ball == \"蓝球\":\n",
    "    money = 20\n",
    "elif ball == \"粉球\":\n",
    "    money = 30\n",
    "elif ball == \"紫球\":\n",
    "    money = 50\n",
    "elif ball == \"彩球\":\n",
    "    money = 100\n",
    "print(money)"
   ]
  },
  {
   "cell_type": "markdown",
   "metadata": {},
   "source": [
    "## 作业3 - 遍历循环 - for\n",
    "使用两层嵌套for循环，打印99乘法表"
   ]
  },
  {
   "cell_type": "code",
   "execution_count": 53,
   "metadata": {},
   "outputs": [
    {
     "name": "stdout",
     "output_type": "stream",
     "text": [
      "1 × 1 = 1  \n",
      "1 × 2 = 2  2 × 2 = 4  \n",
      "1 × 3 = 3  2 × 3 = 6  3 × 3 = 9  \n",
      "1 × 4 = 4  2 × 4 = 8  3 × 4 = 12  4 × 4 = 16  \n",
      "1 × 5 = 5  2 × 5 = 10  3 × 5 = 15  4 × 5 = 20  5 × 5 = 25  \n",
      "1 × 6 = 6  2 × 6 = 12  3 × 6 = 18  4 × 6 = 24  5 × 6 = 30  6 × 6 = 36  \n",
      "1 × 7 = 7  2 × 7 = 14  3 × 7 = 21  4 × 7 = 28  5 × 7 = 35  6 × 7 = 42  7 × 7 = 49  \n",
      "1 × 8 = 8  2 × 8 = 16  3 × 8 = 24  4 × 8 = 32  5 × 8 = 40  6 × 8 = 48  7 × 8 = 56  8 × 8 = 64  \n",
      "1 × 9 = 9  2 × 9 = 18  3 × 9 = 27  4 × 9 = 36  5 × 9 = 45  6 × 9 = 54  7 × 9 = 63  8 × 9 = 72  9 × 9 = 81  \n"
     ]
    }
   ],
   "source": [
    "for i in range(1, 10):\n",
    "    for j in range(1, i + 1):\n",
    "        print(\"{} × {} = {}\".format(j, i, i * j), end=\"  \")\n",
    "    print()"
   ]
  },
  {
   "cell_type": "markdown",
   "metadata": {},
   "source": [
    "## 作业4 - 遍历循环 - while\n",
    "\n",
    "创建一个while循环，通过input，动态输入高三.二班学生学号、姓名和性别。\n",
    "* 以学号为键，姓名和性别为值，将学生信息存储在字典 `students_of_grade3_class2`中。\n",
    "* 当通过input输入字母“Q”或“q”时，程序结束。\n",
    "* 程序结束后，对学生信息进行遍历输出。\n"
   ]
  },
  {
   "cell_type": "code",
   "execution_count": 58,
   "metadata": {},
   "outputs": [
    {
     "name": "stdout",
     "output_type": "stream",
     "text": [
      "2001 ('小兰', '女')\n",
      "2003 ('小红', '男')\n",
      "q ('q', 'q')\n"
     ]
    }
   ],
   "source": [
    "students_of_grade3_class2 = {}\n",
    "    \n",
    "while True:\n",
    "    id, name, sex = input(\"请输入高三二班学生学号、姓名、性别：\").split(\" \")\n",
    "    students_of_grade3_class2[id] = (name, sex)\n",
    "    if id in [\"Q\", \"q\"]:\n",
    "        break\n",
    "        \n",
    "for k, v in students_of_grade3_class2.items():\n",
    "    print(k, v)"
   ]
  },
  {
   "cell_type": "markdown",
   "metadata": {},
   "source": [
    "## 题目五（注意问题）"
   ]
  },
  {
   "cell_type": "code",
   "execution_count": null,
   "metadata": {},
   "outputs": [],
   "source": [
    "i = 0\n",
    "while i <= 5:\n",
    "    print(i)\n",
    "# i 永远是 0 ， 不能跳出循环"
   ]
  },
  {
   "cell_type": "markdown",
   "metadata": {},
   "source": [
    "## 题目六\n",
    "嵌套循环过多，对人阅读代码的体验不好"
   ]
  },
  {
   "cell_type": "markdown",
   "metadata": {},
   "source": [
    "## 题目七\n",
    "如果条件测试过于复杂，可将条件测试过程写为函数"
   ]
  },
  {
   "cell_type": "code",
   "execution_count": null,
   "metadata": {},
   "outputs": [],
   "source": []
  }
 ],
 "metadata": {
  "kernelspec": {
   "display_name": "Python 3",
   "language": "python",
   "name": "python3"
  },
  "language_info": {
   "codemirror_mode": {
    "name": "ipython",
    "version": 3
   },
   "file_extension": ".py",
   "mimetype": "text/x-python",
   "name": "python",
   "nbconvert_exporter": "python",
   "pygments_lexer": "ipython3",
   "version": "3.6.5"
  }
 },
 "nbformat": 4,
 "nbformat_minor": 2
}
