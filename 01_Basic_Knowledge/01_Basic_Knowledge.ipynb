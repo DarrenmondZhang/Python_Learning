{
 "cells": [
  {
   "cell_type": "markdown",
   "metadata": {},
   "source": [
    "# 一、数据类型\n",
    "## 01. 基本类型：数字、字符串、布尔值"
   ]
  },
  {
   "cell_type": "markdown",
   "metadata": {},
   "source": [
    "### 1.1 数字类型：整数类型、浮点类型、复数类型"
   ]
  },
  {
   "cell_type": "code",
   "execution_count": 1,
   "metadata": {},
   "outputs": [
    {
     "name": "stdout",
     "output_type": "stream",
     "text": [
      "2 2.0 (3+4j)\n"
     ]
    }
   ],
   "source": [
    "a = 2  # int \n",
    "b = 2.0  # float\n",
    "c = 3 + 4j  # conplex 复数类型\n",
    "print(a, b, c)"
   ]
  },
  {
   "cell_type": "markdown",
   "metadata": {},
   "source": [
    "### 1.2 字符串类型"
   ]
  },
  {
   "cell_type": "markdown",
   "metadata": {},
   "source": [
    "* `str`：字符串，可以视作文本\n",
    "* 组成：由数字、字母、空格、其他字符等组合而成\n",
    "* 表达：用 `\"\"` or `''`"
   ]
  },
  {
   "cell_type": "code",
   "execution_count": 2,
   "metadata": {},
   "outputs": [
    {
     "name": "stdout",
     "output_type": "stream",
     "text": [
      "Python is the best Programming language\n"
     ]
    }
   ],
   "source": [
    "str = \"Python is the best Programming language\"\n",
    "print(str)"
   ]
  },
  {
   "cell_type": "markdown",
   "metadata": {},
   "source": [
    "### 1.3 布尔类型"
   ]
  },
  {
   "cell_type": "markdown",
   "metadata": {},
   "source": [
    "* bool 布尔类型\n",
    "* 主要用于逻辑原酸"
   ]
  },
  {
   "cell_type": "code",
   "execution_count": 3,
   "metadata": {},
   "outputs": [
    {
     "name": "stdout",
     "output_type": "stream",
     "text": [
      "False\n"
     ]
    }
   ],
   "source": [
    "y = 2 < 1\n",
    "print(y)"
   ]
  },
  {
   "cell_type": "markdown",
   "metadata": {},
   "source": [
    "> 上述类型均可定义单个数据，但是对于一组数据，又该如何表示呢？？"
   ]
  },
  {
   "cell_type": "markdown",
   "metadata": {},
   "source": [
    "## 02. 组合类型：列表、元素、字典、集合"
   ]
  },
  {
   "cell_type": "markdown",
   "metadata": {},
   "source": [
    "### 2.1 列表\n",
    "* `list列表`：序列数据类型；数据有位置有顺序\n",
    "* 表示方式：`[data1, data2....]`"
   ]
  },
  {
   "cell_type": "code",
   "execution_count": 4,
   "metadata": {},
   "outputs": [
    {
     "name": "stdout",
     "output_type": "stream",
     "text": [
      "0\n"
     ]
    }
   ],
   "source": [
    "a = [0, 1, 2, 3, 4, 5]\n",
    "print(a[0])"
   ]
  },
  {
   "cell_type": "markdown",
   "metadata": {},
   "source": [
    "### 2.2 元祖\n",
    "* tuple元祖：序列数据类型：数据有位置有顺序\n",
    "* 表示方式：`(data1, data2, ...)` \n",
    "* **元素不支持修改** —— “不可变的列表”"
   ]
  },
  {
   "cell_type": "code",
   "execution_count": 5,
   "metadata": {},
   "outputs": [
    {
     "name": "stdout",
     "output_type": "stream",
     "text": [
      "b[0]的数据为\n"
     ]
    },
    {
     "ename": "TypeError",
     "evalue": "'tuple' object does not support item assignment",
     "output_type": "error",
     "traceback": [
      "\u001b[1;31m---------------------------------------------------------------------------\u001b[0m",
      "\u001b[1;31mTypeError\u001b[0m                                 Traceback (most recent call last)",
      "\u001b[1;32m<ipython-input-5-7a37c2be8d34>\u001b[0m in \u001b[0;36m<module>\u001b[1;34m()\u001b[0m\n\u001b[0;32m      1\u001b[0m \u001b[0mb\u001b[0m \u001b[1;33m=\u001b[0m \u001b[1;33m(\u001b[0m\u001b[1;36m1\u001b[0m\u001b[1;33m,\u001b[0m \u001b[1;36m2\u001b[0m\u001b[1;33m,\u001b[0m \u001b[1;36m3\u001b[0m\u001b[1;33m,\u001b[0m \u001b[1;36m4\u001b[0m\u001b[1;33m,\u001b[0m \u001b[1;36m5\u001b[0m\u001b[1;33m)\u001b[0m\u001b[1;33m\u001b[0m\u001b[0m\n\u001b[0;32m      2\u001b[0m \u001b[0mprint\u001b[0m\u001b[1;33m(\u001b[0m\u001b[1;34m\"b[0]的数据为\"\u001b[0m\u001b[1;33m.\u001b[0m\u001b[0mformat\u001b[0m\u001b[1;33m(\u001b[0m\u001b[0mb\u001b[0m\u001b[1;33m[\u001b[0m\u001b[1;36m0\u001b[0m\u001b[1;33m]\u001b[0m\u001b[1;33m)\u001b[0m\u001b[1;33m)\u001b[0m\u001b[1;33m\u001b[0m\u001b[0m\n\u001b[1;32m----> 3\u001b[1;33m \u001b[0mb\u001b[0m\u001b[1;33m[\u001b[0m\u001b[1;36m0\u001b[0m\u001b[1;33m]\u001b[0m \u001b[1;33m=\u001b[0m \u001b[1;36m2\u001b[0m  \u001b[1;31m# tuple 不可以改变数据\u001b[0m\u001b[1;33m\u001b[0m\u001b[0m\n\u001b[0m",
      "\u001b[1;31mTypeError\u001b[0m: 'tuple' object does not support item assignment"
     ]
    }
   ],
   "source": [
    "b = (1, 2, 3, 4, 5)\n",
    "print(\"b[0]的数据为\".format(b[0]))\n",
    "b[0] = 2  # tuple 不可以改变数据"
   ]
  },
  {
   "cell_type": "markdown",
   "metadata": {},
   "source": [
    "### 2.3 字典\n",
    "* dict字典：**映射数据类型**：通过 `key-value` 的映射 实现数据存储和查找\n",
    "* 表示方式：`{key1:value1, key2:value2...}`\n",
    "* 通过key键访问value值\n",
    "* 是无序的"
   ]
  },
  {
   "cell_type": "code",
   "execution_count": 6,
   "metadata": {},
   "outputs": [
    {
     "data": {
      "text/plain": [
       "'小明'"
      ]
     },
     "execution_count": 6,
     "metadata": {},
     "output_type": "execute_result"
    }
   ],
   "source": [
    "student = {201901:\"小明\", 201902:\"小红\", 201903:\"小强\"}\n",
    "student[201901]"
   ]
  },
  {
   "cell_type": "markdown",
   "metadata": {},
   "source": [
    "### 2.4 集合\n",
    "* `set集合`：一系列**互不相等（互斥）**元素的集合，无序\n",
    "* 表示方式：`{data1, data2, ...}`"
   ]
  },
  {
   "cell_type": "code",
   "execution_count": 7,
   "metadata": {},
   "outputs": [
    {
     "name": "stdout",
     "output_type": "stream",
     "text": [
      "{'小兰', '小红', '小明'}\n"
     ]
    }
   ],
   "source": [
    "s = {\"小红\", \"小明\", \"小兰\", \"小明\"}\n",
    "print(s)"
   ]
  },
  {
   "cell_type": "markdown",
   "metadata": {},
   "source": [
    "> 思考：在程序中，如何引用这些数据呢？\n",
    "* 办法：将数据赋值给一个变量"
   ]
  },
  {
   "cell_type": "markdown",
   "metadata": {},
   "source": [
    "# 二、变量\n",
    "> 1. 变量的概念\n",
    "2. 变量的命名\n",
    "3. 变量的赋值"
   ]
  },
  {
   "cell_type": "markdown",
   "metadata": {},
   "source": [
    "## 01. 变量的概念\n",
    "* “量”：实实在在的对象：如数据、抽象\n",
    "* “变”：可变性：增删改查\n",
    "* 变量定义二要素：**变量名**、**赋值**\n",
    "\n",
    "`x = 1`"
   ]
  },
  {
   "cell_type": "markdown",
   "metadata": {},
   "source": [
    "## 02. 变量的命名\n",
    "![变量命名规则](变量命名规则.png)\n",
    "### 2.1 哪些可以用来做变量名？\n",
    "* 大写字母、小写字母、数字、下划线、汉字及其组合\n",
    "* 严格区分大小写"
   ]
  },
  {
   "cell_type": "code",
   "execution_count": 8,
   "metadata": {},
   "outputs": [
    {
     "name": "stdout",
     "output_type": "stream",
     "text": [
      "True True False\n"
     ]
    }
   ],
   "source": [
    "Python_is_第1名 = True\n",
    "python_is_第2名 = True\n",
    "Python_is_第3名 = False\n",
    "print(Python_is_第1名, python_is_第2名, Python_is_第3名)"
   ]
  },
  {
   "cell_type": "markdown",
   "metadata": {},
   "source": [
    "## 2.2 哪些情况不被允许\n",
    "1. 首字符不允许为数字\n",
    "2. 变量名中间不能有空格\n",
    "3. 不能与33个Python保留字相同 \n",
    "\n",
    "![保留字](保留字.png)"
   ]
  },
  {
   "cell_type": "code",
   "execution_count": 9,
   "metadata": {},
   "outputs": [
    {
     "ename": "SyntaxError",
     "evalue": "invalid token (<ipython-input-9-e3b1d93d01a0>, line 1)",
     "output_type": "error",
     "traceback": [
      "\u001b[1;36m  File \u001b[1;32m\"<ipython-input-9-e3b1d93d01a0>\"\u001b[1;36m, line \u001b[1;32m1\u001b[0m\n\u001b[1;33m    1_fruit = \"apple\"\u001b[0m\n\u001b[1;37m     ^\u001b[0m\n\u001b[1;31mSyntaxError\u001b[0m\u001b[1;31m:\u001b[0m invalid token\n"
     ]
    }
   ],
   "source": [
    "1_fruit = \"apple\""
   ]
  },
  {
   "cell_type": "code",
   "execution_count": 10,
   "metadata": {},
   "outputs": [
    {
     "ename": "SyntaxError",
     "evalue": "invalid syntax (<ipython-input-10-36327c3a601f>, line 1)",
     "output_type": "error",
     "traceback": [
      "\u001b[1;36m  File \u001b[1;32m\"<ipython-input-10-36327c3a601f>\"\u001b[1;36m, line \u001b[1;32m1\u001b[0m\n\u001b[1;33m    my fruit = \"apple\"\u001b[0m\n\u001b[1;37m           ^\u001b[0m\n\u001b[1;31mSyntaxError\u001b[0m\u001b[1;31m:\u001b[0m invalid syntax\n"
     ]
    }
   ],
   "source": [
    "my fruit = \"apple\""
   ]
  },
  {
   "cell_type": "code",
   "execution_count": 11,
   "metadata": {},
   "outputs": [
    {
     "ename": "SyntaxError",
     "evalue": "invalid syntax (<ipython-input-11-4c75bcfb9bb9>, line 1)",
     "output_type": "error",
     "traceback": [
      "\u001b[1;36m  File \u001b[1;32m\"<ipython-input-11-4c75bcfb9bb9>\"\u001b[1;36m, line \u001b[1;32m1\u001b[0m\n\u001b[1;33m    if = True\u001b[0m\n\u001b[1;37m       ^\u001b[0m\n\u001b[1;31mSyntaxError\u001b[0m\u001b[1;31m:\u001b[0m invalid syntax\n"
     ]
    }
   ],
   "source": [
    "if = True"
   ]
  },
  {
   "cell_type": "markdown",
   "metadata": {},
   "source": [
    "### 2.3 变量名定义技巧\n",
    "1. 变量名尽可能有实际意义，表示数据的某种特性\n",
    "2. 下划线（推荐：变量和函数名）**变量名由多个单词组成：用 `_` 连接多个单词**\n",
    "3. 驼峰体（推荐：类名） **变量名由多个单词组成：单词首字母大写**\n",
    "4. 不要用中文和拼音做变量名  **LOW爆了**\n",
    "5. 对于特殊的变量，变量名所有字母均大写：常量（不变的量，如π，e） "
   ]
  },
  {
   "cell_type": "code",
   "execution_count": 12,
   "metadata": {},
   "outputs": [],
   "source": [
    "a = [17, 18, 19]  # ×\n",
    "age_of_students = [17, 18, 19]  # √\n",
    "\n",
    "# 驼峰体 -> 类名\n",
    "class AgeOfStudents:\n",
    "    \n",
    "    MAX_ITERATION = 100\n"
   ]
  },
  {
   "cell_type": "markdown",
   "metadata": {},
   "source": [
    "## 03. 变量的赋值\n",
    "### 3.1 一般赋值\n",
    "* 通过等号自右向左进行赋值"
   ]
  },
  {
   "cell_type": "code",
   "execution_count": 13,
   "metadata": {},
   "outputs": [
    {
     "data": {
      "text/plain": [
       "3"
      ]
     },
     "execution_count": 13,
     "metadata": {},
     "output_type": "execute_result"
    }
   ],
   "source": [
    "x = 1 + 2\n",
    "x  # 1+2 = 3 -> x"
   ]
  },
  {
   "cell_type": "markdown",
   "metadata": {},
   "source": [
    "### 3.2 增量赋值"
   ]
  },
  {
   "cell_type": "code",
   "execution_count": 14,
   "metadata": {},
   "outputs": [
    {
     "ename": "NameError",
     "evalue": "name 'xb' is not defined",
     "output_type": "error",
     "traceback": [
      "\u001b[1;31m---------------------------------------------------------------------------\u001b[0m",
      "\u001b[1;31mNameError\u001b[0m                                 Traceback (most recent call last)",
      "\u001b[1;32m<ipython-input-14-a3bb733de418>\u001b[0m in \u001b[0;36m<module>\u001b[1;34m()\u001b[0m\n\u001b[0;32m      4\u001b[0m \u001b[0mx\u001b[0m\u001b[1;33m\u001b[0m\u001b[0m\n\u001b[0;32m      5\u001b[0m \u001b[0mx\u001b[0m \u001b[1;33m+=\u001b[0m \u001b[1;36m10\u001b[0m\u001b[1;33m\u001b[0m\u001b[0m\n\u001b[1;32m----> 6\u001b[1;33m \u001b[0mxb\u001b[0m\u001b[1;33m\u001b[0m\u001b[0m\n\u001b[0m",
      "\u001b[1;31mNameError\u001b[0m: name 'xb' is not defined"
     ]
    }
   ],
   "source": [
    "x = 10\n",
    "x\n",
    "x = x + 10\n",
    "x\n",
    "x += 10\n",
    "xb"
   ]
  },
  {
   "cell_type": "markdown",
   "metadata": {},
   "source": [
    "### 3.3 打包赋值"
   ]
  },
  {
   "cell_type": "code",
   "execution_count": 15,
   "metadata": {},
   "outputs": [
    {
     "name": "stdout",
     "output_type": "stream",
     "text": [
      "1 2\n",
      "2 1\n"
     ]
    }
   ],
   "source": [
    "x, y = 1, 2\n",
    "print(x, y)\n",
    "x, y = y, x\n",
    "print(x, y)"
   ]
  },
  {
   "cell_type": "markdown",
   "metadata": {},
   "source": [
    "# 三、控制流程\n",
    "> 1. 顺序流程\n",
    "2. 循环流程（`for`、`while`）\n",
    "3. 分支流程：`if`"
   ]
  },
  {
   "cell_type": "markdown",
   "metadata": {},
   "source": [
    "## 01. 顺序流程\n",
    "* 自上向下依次执行\n",
    "\n",
    "【小例子】实现 1 到 5 的整数求和"
   ]
  },
  {
   "cell_type": "code",
   "execution_count": 16,
   "metadata": {},
   "outputs": [
    {
     "data": {
      "text/plain": [
       "15"
      ]
     },
     "execution_count": 16,
     "metadata": {},
     "output_type": "execute_result"
    }
   ],
   "source": [
    "# res = 1 + 2 + 3 + 4 +5 \n",
    "res = 0  # 赋初值\n",
    "res += 1\n",
    "res += 2\n",
    "res += 3\n",
    "res += 4\n",
    "res += 5\n",
    "res  # 显示结果"
   ]
  },
  {
   "cell_type": "markdown",
   "metadata": {},
   "source": [
    "## 02. 循环流程"
   ]
  },
  {
   "cell_type": "markdown",
   "metadata": {},
   "source": [
    "### 2.1 for循环\n",
    "* 主要形式：\n",
    "```\n",
    "for 元素 in 可迭代对象：\n",
    "    执行语句\n",
    "```\n",
    "* 执行过程：从可迭代对象中，依次取出每一个元素，并进行相应操作\n",
    "* 使用场景：对同一类别的不同元素进行相同的操作\n",
    "\n",
    "【例子】实现 1 到 5 的整数元素求和"
   ]
  },
  {
   "cell_type": "code",
   "execution_count": 17,
   "metadata": {},
   "outputs": [
    {
     "name": "stdout",
     "output_type": "stream",
     "text": [
      "15\n"
     ]
    }
   ],
   "source": [
    "res = 0\n",
    "for i in [1, 2, 3, 4, 5]:  # 每次遍历该列表，取出一个i\n",
    "    res += i  # 对每次取出的 i 进行相对应的操作\n",
    "print(res)"
   ]
  },
  {
   "cell_type": "markdown",
   "metadata": {},
   "source": [
    "### 2.2 while循环\n",
    "* 主要形式：\n",
    "```\n",
    "while 判断条件：\n",
    "    条件为真，执行语句\n",
    "条件为假，循环结束，跳出循环。\n",
    "```\n",
    "【例子】实现 1 到 5 的整数元素求和\n"
   ]
  },
  {
   "cell_type": "code",
   "execution_count": 18,
   "metadata": {},
   "outputs": [
    {
     "data": {
      "text/plain": [
       "15"
      ]
     },
     "execution_count": 18,
     "metadata": {},
     "output_type": "execute_result"
    }
   ],
   "source": [
    "i = 1\n",
    "res = 0\n",
    "while i <= 5:\n",
    "    res += i\n",
    "    i += 1\n",
    "res"
   ]
  },
  {
   "cell_type": "markdown",
   "metadata": {},
   "source": [
    "## 03. 分支流程 if\n",
    "* 主要形式\n",
    "```\n",
    "if 判断条件：\n",
    "    条件为真，执行语句\n",
    "else：\n",
    "    条件为假，执行语句\n",
    "```\n",
    "`"
   ]
  },
  {
   "cell_type": "code",
   "execution_count": 19,
   "metadata": {},
   "outputs": [
    {
     "name": "stdout",
     "output_type": "stream",
     "text": [
      "你着啥急，我都没女朋友呢\n"
     ]
    }
   ],
   "source": [
    "age = 18\n",
    "if age > 22:\n",
    "    print(\"可以结婚了\")\n",
    "else:\n",
    "    print(\"你着啥急，我都没女朋友呢\")"
   ]
  },
  {
   "cell_type": "markdown",
   "metadata": {},
   "source": [
    "* 有了数据和变量，以及控制流程这些中间过程，\n",
    "* 我们需要回过头来**考虑程序的输入和输出**"
   ]
  },
  {
   "cell_type": "markdown",
   "metadata": {},
   "source": [
    "# 四、输入输出\n",
    "## 01. 数据从哪里来\n",
    "### 1.1 外部文件导入\n",
    "* 从本地硬盘、网络端读入等\n",
    "* 该部分内容放在第八章《文件、异常和模块》进行讲解\n",
    "\n",
    "### 1.2 程序中定义"
   ]
  },
  {
   "cell_type": "code",
   "execution_count": 20,
   "metadata": {},
   "outputs": [],
   "source": [
    "age = 18\n",
    "name = \"Tom\""
   ]
  },
  {
   "cell_type": "markdown",
   "metadata": {},
   "source": [
    "### 1.3 动态交互输入`input` \n",
    "* 在程序运行的过程中进行输入"
   ]
  },
  {
   "cell_type": "code",
   "execution_count": 21,
   "metadata": {},
   "outputs": [
    {
     "name": "stdout",
     "output_type": "stream",
     "text": [
      "请输入x：\n",
      "请输入y：\n",
      "\n"
     ]
    },
    {
     "data": {
      "text/plain": [
       "str"
      ]
     },
     "execution_count": 21,
     "metadata": {},
     "output_type": "execute_result"
    }
   ],
   "source": [
    "x = input(\"请输入x：\")  # 字符串形式\n",
    "y = input(\"请输入y：\")\n",
    "z = x + y  # 字符串拼接\n",
    "print(z)\n",
    "type(z)"
   ]
  },
  {
   "cell_type": "code",
   "execution_count": 22,
   "metadata": {},
   "outputs": [
    {
     "name": "stdout",
     "output_type": "stream",
     "text": [
      "请输入x：1\n",
      "请输入y：1\n",
      "2\n"
     ]
    },
    {
     "data": {
      "text/plain": [
       "int"
      ]
     },
     "execution_count": 22,
     "metadata": {},
     "output_type": "execute_result"
    }
   ],
   "source": [
    "x = int(input(\"请输入x：\"))\n",
    "x\n",
    "y = int(input(\"请输入y：\"))\n",
    "z = x + y\n",
    "print(z)\n",
    "type(z)"
   ]
  },
  {
   "cell_type": "code",
   "execution_count": 24,
   "metadata": {},
   "outputs": [
    {
     "name": "stdout",
     "output_type": "stream",
     "text": [
      "请输入x:1\n",
      "请输入y:1\n"
     ]
    },
    {
     "data": {
      "text/plain": [
       "2"
      ]
     },
     "execution_count": 24,
     "metadata": {},
     "output_type": "execute_result"
    }
   ],
   "source": [
    "# eval()去掉引号\n",
    "x = eval(input(\"请输入x:\"))\n",
    "y = eval(input(\"请输入y:\"))\n",
    "x + y"
   ]
  },
  {
   "cell_type": "markdown",
   "metadata": {},
   "source": [
    "## 02. 数据到哪里去\n",
    "### 2.1 存储到本地硬盘或网络端\n",
    "* 该部分内容放在第八章《文件、 异常和模块》进行讲解\n",
    "\n",
    "### 2.2 打印输出 `print()` \n",
    "1. 直接打印数据\n",
    "2. 打印变量\n",
    "3. print默认换行\n",
    "4. 换行控制 `end=`\n",
    "5. 复杂输出：比如几个变量一起组合输出"
   ]
  },
  {
   "cell_type": "code",
   "execution_count": 29,
   "metadata": {},
   "outputs": [
    {
     "name": "stdout",
     "output_type": "stream",
     "text": [
      "我是一颗小行星\n",
      "1234\n",
      "1023\n",
      "1\n",
      "2\n",
      "123456\n",
      "PI is 3.14 ;E is 2.71\n"
     ]
    }
   ],
   "source": [
    "# === 直接打印数据 === #\n",
    "print(\"我是一颗小行星\")\n",
    "print(1234)\n",
    "\n",
    "# === 打印变量 === #\n",
    "x = 1023\n",
    "print(x)\n",
    "\n",
    "# === print函数默认换行 === #\n",
    "print(1)\n",
    "print(2)\n",
    "\n",
    "# === 换行控制 === #\n",
    "print(123, end=\"\")\n",
    "print(456)\n",
    "\n",
    "# === 组合输出 === #\n",
    "PI = 3.14\n",
    "E = 2.71\n",
    "print(\"PI is\", PI, \";E is\", E)"
   ]
  },
  {
   "attachments": {},
   "cell_type": "markdown",
   "metadata": {},
   "source": [
    "### 2.3 格式化输出方法 `format()` \n",
    "* 基本格式：\n",
    "```\n",
    "\"字符{0}字符{1}字符\".format(v0, v1)\n",
    "```\n",
    "![格式化输出](格式化输出.png)"
   ]
  },
  {
   "cell_type": "code",
   "execution_count": 31,
   "metadata": {},
   "outputs": [
    {
     "name": "stdout",
     "output_type": "stream",
     "text": [
      "PI=3.14, E=2.71\n",
      "PI=2.71, E=3.14\n",
      "PI=3.14, E=2.71\n",
      "PI=3.14, E=3.14\n"
     ]
    }
   ],
   "source": [
    "print(\"PI={0}, E={1}\".format(PI, E))\n",
    "print(\"PI={1}, E={0}\".format(PI, E))\n",
    "print(\"PI={}, E={}\".format(PI, E))\n",
    "print(\"PI={0}, E={0}\".format(PI, E))\n"
   ]
  },
  {
   "cell_type": "markdown",
   "metadata": {},
   "source": [
    "修饰性输出\n",
    "\n",
    "1. 填充输出\n",
    "2. 数字千分位分隔符\n",
    "3. 浮点数简化输出\n",
    "4. 整数的进制转化输出"
   ]
  },
  {
   "cell_type": "code",
   "execution_count": 45,
   "metadata": {},
   "outputs": [
    {
     "name": "stdout",
     "output_type": "stream",
     "text": [
      "________3.14________\n",
      "3.14**************************\n",
      "**************************3.14\n"
     ]
    }
   ],
   "source": [
    "# 1. 填充输出\n",
    "print(\"{0:_^20}\".format(PI)) # 放在中间为 ^ , 放在左边 < ,放在右边 >\n",
    "print(\"{0:*<30}\".format(PI))\n",
    "print(\"{0:*>30}\".format(PI))"
   ]
  },
  {
   "cell_type": "code",
   "execution_count": 38,
   "metadata": {},
   "outputs": [
    {
     "name": "stdout",
     "output_type": "stream",
     "text": [
      "10,000,000\n",
      "&&&&&&&&&&10,000,000\n"
     ]
    },
    {
     "ename": "ValueError",
     "evalue": "Invalid format specifier",
     "output_type": "error",
     "traceback": [
      "\u001b[1;31m---------------------------------------------------------------------------\u001b[0m",
      "\u001b[1;31mValueError\u001b[0m                                Traceback (most recent call last)",
      "\u001b[1;32m<ipython-input-38-02459e925dab>\u001b[0m in \u001b[0;36m<module>\u001b[1;34m()\u001b[0m\n\u001b[0;32m      2\u001b[0m \u001b[0mprint\u001b[0m\u001b[1;33m(\u001b[0m\u001b[1;34m\"{0:,}\"\u001b[0m\u001b[1;33m.\u001b[0m\u001b[0mformat\u001b[0m\u001b[1;33m(\u001b[0m\u001b[1;36m10000000\u001b[0m\u001b[1;33m)\u001b[0m\u001b[1;33m)\u001b[0m\u001b[1;33m\u001b[0m\u001b[0m\n\u001b[0;32m      3\u001b[0m \u001b[0mprint\u001b[0m\u001b[1;33m(\u001b[0m\u001b[1;34m\"{0:&>20,}\"\u001b[0m\u001b[1;33m.\u001b[0m\u001b[0mformat\u001b[0m\u001b[1;33m(\u001b[0m\u001b[1;36m10000000\u001b[0m\u001b[1;33m)\u001b[0m\u001b[1;33m)\u001b[0m\u001b[1;33m\u001b[0m\u001b[0m\n\u001b[1;32m----> 4\u001b[1;33m \u001b[0mprint\u001b[0m\u001b[1;33m(\u001b[0m\u001b[1;34m\"{0:,&>20}\"\u001b[0m\u001b[1;33m.\u001b[0m\u001b[0mformat\u001b[0m\u001b[1;33m(\u001b[0m\u001b[1;36m10000000\u001b[0m\u001b[1;33m)\u001b[0m\u001b[1;33m)\u001b[0m\u001b[1;33m\u001b[0m\u001b[0m\n\u001b[0m",
      "\u001b[1;31mValueError\u001b[0m: Invalid format specifier"
     ]
    }
   ],
   "source": [
    "# 2. 数字千分位分隔符\n",
    "print(\"{0:,}\".format(10000000))\n",
    "print(\"{0:&>20,}\".format(10000000))\n",
    "print(\"{0:,&>20}\".format(10000000))"
   ]
  },
  {
   "cell_type": "code",
   "execution_count": 46,
   "metadata": {},
   "outputs": [
    {
     "name": "stdout",
     "output_type": "stream",
     "text": [
      "3.14\n",
      "97.6%\n",
      "9.77e-01\n"
     ]
    }
   ],
   "source": [
    "# 3. 浮点数简化输出\n",
    "## 3.1 留两位小数\n",
    "print(\"{0:.2f}\".format(PI))\n",
    "## 3.2 按百分数输出\n",
    "print(\"{0:.1%}\".format(0.97643))\n",
    "## 3.3 科学计数法输出\n",
    "print(\"{0:.2e}\".format(0.97654321))"
   ]
  },
  {
   "cell_type": "code",
   "execution_count": 48,
   "metadata": {},
   "outputs": [
    {
     "data": {
      "text/plain": [
       "'二进制 111000010, Unicode码ǂ,十进制450,八进制702,十六进制1c2'"
      ]
     },
     "execution_count": 48,
     "metadata": {},
     "output_type": "execute_result"
    }
   ],
   "source": [
    "## 4. 整数的进制转换\n",
    "## 十进制整数转二进制、unicode码、 十进制、 八进制、十六进制输出\n",
    "\"二进制 {0:b}, Unicode码{0:c},十进制{0:d},八进制{0:o},十六进制{0:x}\". format(450)"
   ]
  },
  {
   "cell_type": "markdown",
   "metadata": {},
   "source": [
    "# 五、程序格式\n",
    "1. 行最大长度：所有行限制的最大字符数为79\n",
    "2. 缩进\n",
    "    * 用缩进来表示语句间的逻辑\n",
    "    * 在for while if def class等:之后下一行开始进行缩进， 表明后续代码与前句之间的从属关系\n",
    "    * 缩进量: 4字符\n",
    "3. 使用空格\n",
    "    * 二元运算符两边加一个空格\n",
    "    * 使用不同优先级的运算符，考虑在最低优先级的运算符周围添加空格\n",
    "    * 在逗号后使用空格\n",
    "    * 不要连续使用多个空格\n",
    "4. 在指定关键字参数或者默认参数值得时候，不要在=附近加空格\n",
    "5. 注释\n",
    "    * 单行注释\n",
    "    * 多行注释"
   ]
  },
  {
   "cell_type": "code",
   "execution_count": 50,
   "metadata": {},
   "outputs": [
    {
     "name": "stdout",
     "output_type": "stream",
     "text": [
      "1\n",
      "2\n",
      "3\n",
      "打印结束\n"
     ]
    }
   ],
   "source": [
    "# 2. 缩进\n",
    "for i in [1, 2, 3]:\n",
    "    print(i)\n",
    "print(\"打印结束\")"
   ]
  },
  {
   "cell_type": "code",
   "execution_count": 54,
   "metadata": {},
   "outputs": [],
   "source": [
    "# 3. 使用空格\n",
    "## 3.1 二元运算符两边各加一个空格\n",
    "x = 2  # 赋值\n",
    "x += 4  # 增量\n",
    "6 > 2  # 比较\n",
    "\n",
    "## 3.2 使用不同优先级的运算符，考虑在最低优先级的运算符周围添加空格\n",
    "x = x*2 - 1\n",
    "z = x*x + y*y\n",
    "c = (x+y) * (x-y)\n",
    "\n",
    "## 3.3 在逗号后使用空格\n",
    "x, y = 1, 2\n",
    "ls = [1, 2, 3]\n",
    "\n",
    "## 3.4 不要连续使用多个空格\n",
    "\n",
    "\n",
    "## 3.5 设置默认参数的时候，一般不加空格\n",
    "def fun(n=1, m=2):\n",
    "    print(n, m)"
   ]
  },
  {
   "cell_type": "markdown",
   "metadata": {},
   "source": [
    "> 小结\n",
    "1. 以上属于PEP8格式指南的部分内容，养成良好的编码规范利人利己\n",
    "2. 格式约定的目的:\n",
    "    * 使大量Python代码风格- 致\n",
    "    * 提升代码可读性\n",
    "3. 尽信书不如无书，不应死板教条的执行格式规范\n",
    "    * 项目规范优先"
   ]
  },
  {
   "cell_type": "code",
   "execution_count": 55,
   "metadata": {},
   "outputs": [
    {
     "data": {
      "text/plain": [
       "'\\n小明\\n小红\\n小兰\\n'"
      ]
     },
     "execution_count": 55,
     "metadata": {},
     "output_type": "execute_result"
    }
   ],
   "source": [
    "# 5. 注释\n",
    "## 5.1 单行注释\n",
    "## 格式: `#` 注释内容\n",
    "a = 1  # 我是单行注释\n",
    "\n",
    "## 5.2 多行注释\n",
    "## 格式： \"\"\" 注释内容，可分行 \"\"\"\n",
    "\"\"\"\n",
    "小明\n",
    "小红\n",
    "小兰\n",
    "\"\"\""
   ]
  },
  {
   "cell_type": "markdown",
   "metadata": {},
   "source": [
    "# 总结：\n",
    "\n",
    "本次笔记，是我们介绍了一些数据的表达方式：基本类型：数字类型、字符串类型、布尔类型；还有一些组合的类型：列表、元组、字典、集合等等。\n",
    "![](编程框架.png)\n",
    "然后呢数据可以来源于在程序当中的定义，但更多的是来自外部的输入。我们通常会把数据赋值给变量，然后通过一系列的控制的语句进行处理。最后得出来的结果，可以打印输出，也可以存储到电脑硬盘或者云端。\n"
   ]
  }
 ],
 "metadata": {
  "kernelspec": {
   "display_name": "Python 3",
   "language": "python",
   "name": "python3"
  },
  "language_info": {
   "codemirror_mode": {
    "name": "ipython",
    "version": 3
   },
   "file_extension": ".py",
   "mimetype": "text/x-python",
   "name": "python",
   "nbconvert_exporter": "python",
   "pygments_lexer": "ipython3",
   "version": "3.6.5"
  }
 },
 "nbformat": 4,
 "nbformat_minor": 2
}
