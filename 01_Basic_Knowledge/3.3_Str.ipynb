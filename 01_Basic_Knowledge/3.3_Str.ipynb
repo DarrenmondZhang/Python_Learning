{
 "cells": [
  {
   "cell_type": "markdown",
   "metadata": {},
   "source": [
    "# 一、字符串基础"
   ]
  },
  {
   "cell_type": "markdown",
   "metadata": {},
   "source": [
    "字符串同样是Python中很常见的一种数据类型，比如日志的打印、程序中函数的注释、数据库的访问、变量的基本操作等等，都用到了字符串。\n",
    "\n",
    "字符串是由独立字符组成的一个序列，通常包含在单引号 `''` ，双引号 `\" \"` 或者三引号之中(`''' '''` 或 `\"\"\" \"\"\"`，两者一样)"
   ]
  },
  {
   "cell_type": "code",
   "execution_count": 1,
   "metadata": {},
   "outputs": [],
   "source": [
    "name = 'jason'\n",
    "city = 'beijing'\n",
    "text = \"welcome to jike shijian\""
   ]
  },
  {
   "cell_type": "markdown",
   "metadata": {},
   "source": [
    "这里定义了name、city 和text三个变量，都是字符串类型。我们知道 Python 中单引号、双引号和三引号的字符串是一模一样的，没有区别，比如下面这个例子中的s1、s2、s3 完全一样。"
   ]
  },
  {
   "cell_type": "code",
   "execution_count": 2,
   "metadata": {},
   "outputs": [
    {
     "data": {
      "text/plain": [
       "True"
      ]
     },
     "execution_count": 2,
     "metadata": {},
     "output_type": "execute_result"
    }
   ],
   "source": [
    "s1 = 'hello'\n",
    "s2 = \"hello\"\n",
    "s3 = \"\"\"hello\"\"\"\n",
    "s1 == s2 == s3"
   ]
  },
  {
   "cell_type": "markdown",
   "metadata": {},
   "source": [
    "Python的三引号字符串，则主要应用于多行字符串的情境，比如函数的注释等等。"
   ]
  },
  {
   "cell_type": "code",
   "execution_count": 3,
   "metadata": {},
   "outputs": [],
   "source": [
    "def calculate_similarity(item1, item2):\n",
    "    \"\"\"\n",
    "    Calculate similarity between two items\n",
    "    Args:\n",
    "        item1: 1st item\n",
    "        item2: 2nd item\n",
    "    Returns:\n",
    "      similarity score between item1 and item2\n",
    "    \"\"\""
   ]
  },
  {
   "cell_type": "markdown",
   "metadata": {},
   "source": [
    "同时，Python 也支持转义字符。所谓的转义字符，就是用**反斜杠开头的字符串**，来表示一些特定意义的字符。下面是常见的转义字符"
   ]
  },
  {
   "cell_type": "markdown",
   "metadata": {},
   "source": [
    "![](media/转义字符.png)"
   ]
  },
  {
   "cell_type": "code",
   "execution_count": 5,
   "metadata": {},
   "outputs": [
    {
     "name": "stdout",
     "output_type": "stream",
     "text": [
      "a\n",
      "b\tc\n"
     ]
    }
   ],
   "source": [
    "s = 'a\\nb\\tc'\n",
    "print(s)"
   ]
  },
  {
   "cell_type": "markdown",
   "metadata": {},
   "source": [
    "这段代码中的 `'\\n'`，表示一个字符——换行符；`'\\t'`也表示一个字符——橫向制表符。 所以，最后打印出来的输出，就是字符a, 换行，字符b，然后制表符，最后打印字符c。不过要注意，虽然最后打印的输出横跨了两行，但是整个字符串s仍然只有5个元素。"
   ]
  },
  {
   "cell_type": "code",
   "execution_count": 6,
   "metadata": {},
   "outputs": [
    {
     "data": {
      "text/plain": [
       "5"
      ]
     },
     "execution_count": 6,
     "metadata": {},
     "output_type": "execute_result"
    }
   ],
   "source": [
    "len(s)"
   ]
  },
  {
   "cell_type": "markdown",
   "metadata": {},
   "source": [
    "在转义字符的应用中，最常见的就是换行符`'\\n'`的使用。比如文件读取，如果我们一行行地读取，那么每一行字符串的末尾， 都会包含换行符`'\\n'`。 而最后做数据处理时，我们往往会丢掉每一行的换行符。"
   ]
  },
  {
   "cell_type": "markdown",
   "metadata": {},
   "source": [
    "# 二、字符串的常用操作\n",
    "\n",
    "可以把字符串想象成一个由单个字符组成的数组，所以，Python 的字符串同样支持索引、切片和遍历等等操作。"
   ]
  },
  {
   "cell_type": "markdown",
   "metadata": {},
   "source": [
    "## 2.1 字符串的索引"
   ]
  },
  {
   "cell_type": "code",
   "execution_count": 8,
   "metadata": {},
   "outputs": [
    {
     "data": {
      "text/plain": [
       "'j'"
      ]
     },
     "execution_count": 8,
     "metadata": {},
     "output_type": "execute_result"
    }
   ],
   "source": [
    "name = 'jason'\n",
    "name[0]"
   ]
  },
  {
   "cell_type": "code",
   "execution_count": 9,
   "metadata": {},
   "outputs": [
    {
     "data": {
      "text/plain": [
       "'as'"
      ]
     },
     "execution_count": 9,
     "metadata": {},
     "output_type": "execute_result"
    }
   ],
   "source": [
    "name[1:3]\n",
    "'as'"
   ]
  },
  {
   "cell_type": "markdown",
   "metadata": {},
   "source": [
    "和其他数据结构，如列表、元组一样，字符串的索引同样从0开始，`index=0` 表示第一个元素（字符），`[index:index+ 2]`则表示`第index个`元素到`index+1个`元素组成的子字符串。"
   ]
  },
  {
   "cell_type": "markdown",
   "metadata": {},
   "source": [
    "## 2.2 字符串的遍历\n",
    "\n",
    "遍历字符串同样很简单，相当于遍历字符串中的每个字符。"
   ]
  },
  {
   "cell_type": "code",
   "execution_count": 10,
   "metadata": {},
   "outputs": [
    {
     "name": "stdout",
     "output_type": "stream",
     "text": [
      "j\n",
      "a\n",
      "s\n",
      "o\n",
      "n\n"
     ]
    }
   ],
   "source": [
    "for char in name:\n",
    "    print(char)"
   ]
  },
  {
   "cell_type": "markdown",
   "metadata": {},
   "source": [
    "## 2.3 改变字符串的值"
   ]
  },
  {
   "cell_type": "markdown",
   "metadata": {},
   "source": [
    "特别要注意，Python的字符串是不可变的（immutable）。因此，用下面的操作，改变一个字符串内部的字符是错误的，不允许的。"
   ]
  },
  {
   "cell_type": "code",
   "execution_count": 12,
   "metadata": {},
   "outputs": [
    {
     "ename": "TypeError",
     "evalue": "'str' object does not support item assignment",
     "output_type": "error",
     "traceback": [
      "\u001b[1;31m---------------------------------------------------------------------------\u001b[0m",
      "\u001b[1;31mTypeError\u001b[0m                                 Traceback (most recent call last)",
      "\u001b[1;32m<ipython-input-12-b2cadb1da399>\u001b[0m in \u001b[0;36m<module>\u001b[1;34m()\u001b[0m\n\u001b[0;32m      1\u001b[0m \u001b[0ms\u001b[0m \u001b[1;33m=\u001b[0m \u001b[1;34m'hello'\u001b[0m\u001b[1;33m\u001b[0m\u001b[0m\n\u001b[1;32m----> 2\u001b[1;33m \u001b[0ms\u001b[0m\u001b[1;33m[\u001b[0m\u001b[1;36m0\u001b[0m\u001b[1;33m]\u001b[0m \u001b[1;33m=\u001b[0m \u001b[1;34m'H'\u001b[0m\u001b[1;33m\u001b[0m\u001b[0m\n\u001b[0m",
      "\u001b[1;31mTypeError\u001b[0m: 'str' object does not support item assignment"
     ]
    }
   ],
   "source": [
    "s = 'hello'\n",
    "s[0] = 'H'"
   ]
  },
  {
   "cell_type": "markdown",
   "metadata": {},
   "source": [
    "Python中字符串的改变，通常只能**通过创建新的字符串来完成**。比如上述例子中，想把`'hello'`的第一个字符`'h'`, 改为大写的`'H'`，我们可以采用下面的做法:"
   ]
  },
  {
   "cell_type": "code",
   "execution_count": 14,
   "metadata": {},
   "outputs": [
    {
     "data": {
      "text/plain": [
       "'Hello'"
      ]
     },
     "execution_count": 14,
     "metadata": {},
     "output_type": "execute_result"
    }
   ],
   "source": [
    "s = 'H' + s[1:]\n",
    "s = s.replace('h', 'H')\n",
    "s"
   ]
  },
  {
   "cell_type": "code",
   "execution_count": 15,
   "metadata": {},
   "outputs": [
    {
     "data": {
      "text/plain": [
       "'HelloH'"
      ]
     },
     "execution_count": 15,
     "metadata": {},
     "output_type": "execute_result"
    }
   ],
   "source": [
    "s = 'helloh'\n",
    "s = s.replace('h', 'H')\n",
    "s"
   ]
  },
  {
   "cell_type": "markdown",
   "metadata": {},
   "source": [
    "- 第一种方法，是直接用大写的`'H'`，通过加号`'+'`操作符，与原字符串切片操作的子字符串拼接而成新的字符串。\n",
    "\n",
    "- 第二种方法，直接扫描原字符串，把小写的`'h'`替换成大写的`'H'`，得到新的字符串。"
   ]
  },
  {
   "cell_type": "markdown",
   "metadata": {},
   "source": [
    "你可能了解到，在其他语言中，如`Java`有可变的字符串类型，比如`StringBuilder`，每次添加、改变或删除字符(串)，无需创建新的字符串，时间复杂度仅为`0(1)`。这样就大大提高了程序的运行效率。\n",
    "\n",
    "但可惜的是，Python 并没有相关的数据类型，我们还是得老老实实创建新的字符串。因此，每次想要改变字符串，**往往需要O(n)的时间复杂度中**，n为新字符串的长度。"
   ]
  },
  {
   "cell_type": "markdown",
   "metadata": {},
   "source": [
    "## 2.4 字符串拼接"
   ]
  },
  {
   "cell_type": "markdown",
   "metadata": {},
   "source": [
    "你可能注意到了，上述例子的说明中，我用的是“往往”、“通常” 这样的字眼，并没有说“一定”。这是为什么呢？显然，随着版本的更新，Python也越来越聪明，性能优化得越来越好了。\n",
    "\n",
    "这里，我着重讲解一下，使用加法操作符 `'+='` 的字符串拼接方法。因为它是一个例外，**打破了字符串不可变的特性。**\n",
    "\n",
    "操作方法如下所示：\n",
    "```\n",
    "str1 += str2  # 表示str1 = str1 + str2，时间复杂度为O(N)\n",
    "```"
   ]
  },
  {
   "cell_type": "markdown",
   "metadata": {},
   "source": [
    "> 思考：上面例子的时间复杂度是多少呢？\n",
    "\n",
    "每次循环，似乎都得创建一个新的字符串；每次创建一个新的字符串，都需要 `O(n)` 的时间复杂度。因此，总的时间复杂度就为 `0(1) + 0(2)+ .. + O(n) = O(n^2)`。这样到底对不对呢?\n",
    "\n",
    "乍一看，这样分析确实很有道理，但是必须说明，这个结论只适用于老版本的Python了。自从 `Python2.5` 开始，每次处理字符串的拼接操作时 `(str1 += str2)`，Python 首先会检测 `str1` 还有没有其他的引用。如果没有的话，就会尝试原地扩充字符串 `buffer` 的大小，**不是重新分配一块内存来创建新的字符串并拷贝**。这样的话，上述例子中的时间复杂度就仅为`O(N)`了。\n",
    "\n",
    "因此，以后你在写程序遇到字符串拼接时，如果使用 `+=` 更方便，不用担心效率问题了。\n",
    "\n",
    "另外，对于字符串拼接问题，除了使用加法操作符，我们还可以使用字符串内置的`join函数`。\n",
    "\n",
    "```\n",
    "string.join(iterable)  # 表示把每个元素都按照指定的格式连接起来。时间复杂度为O(N)\n",
    "```"
   ]
  },
  {
   "cell_type": "code",
   "execution_count": 22,
   "metadata": {},
   "outputs": [
    {
     "data": {
      "text/plain": [
       "'0 1 2 3 4 5 6 7 8 9'"
      ]
     },
     "execution_count": 22,
     "metadata": {},
     "output_type": "execute_result"
    }
   ],
   "source": [
    "l = []\n",
    "for n in range(0, 10):\n",
    "    l.append(str(n))\n",
    "l = ' '.join(l) \n",
    "l"
   ]
  },
  {
   "cell_type": "markdown",
   "metadata": {},
   "source": [
    "由于列表的`append`操作是`0(1)`复杂度，字符串同理。因此，这个含有for循环例子的时间复杂度为`n*O(1)=O(n)`。"
   ]
  },
  {
   "cell_type": "markdown",
   "metadata": {},
   "source": [
    "## 2.5 字符串分割"
   ]
  },
  {
   "cell_type": "markdown",
   "metadata": {},
   "source": [
    "接下来，我们看一下字符串的分割函数`split()`。`string.split(separator)`表示把字符串按照`separator`分割成子字符串，并返回一个分割后子字符串组合的列表。它常常应用于对数据的解析处理，比如我们读取了某个文件的路径，想要调用数据库的API，去读取对应的数据，我们通常会写成下面这样:"
   ]
  },
  {
   "cell_type": "code",
   "execution_count": 23,
   "metadata": {},
   "outputs": [],
   "source": [
    "def query_data(namespace, table):\n",
    "    \"\"\"\n",
    "    given namespace and table, query database to get corresponding\n",
    "    data         \n",
    "    \"\"\"\n",
    "\n",
    "path = 'hive://ads/training_table'\n",
    "namespace = path.split('//')[1].split('/')[0] # 返回'ads'\n",
    "table = path.split('//')[1].split('/')[1] # 返回 'training_table'\n",
    "data = query_data(namespace, table) "
   ]
  },
  {
   "cell_type": "markdown",
   "metadata": {},
   "source": [
    "此外，常见的函数还有:\n",
    "- string.strip(str)： 表示去掉`首尾的str`字符串;\n",
    "- string.Istrip(str)： 表示积去掉`开头的str`字符串;\n",
    "- string.rstrip(str)： 示只去掉`尾部的str`字符串。\n",
    "\n",
    "这些在数据的解析处理中同样很常见。比如很多时候，从文件读进来的字符串中，开头和结尾都含有空字符，我们需要去掉它们，就可以用`strip()`函数:\n"
   ]
  },
  {
   "cell_type": "code",
   "execution_count": 24,
   "metadata": {},
   "outputs": [
    {
     "data": {
      "text/plain": [
       "'my name is jason'"
      ]
     },
     "execution_count": 24,
     "metadata": {},
     "output_type": "execute_result"
    }
   ],
   "source": [
    "s = ' my name is jason '\n",
    "s.strip()\n"
   ]
  },
  {
   "cell_type": "markdown",
   "metadata": {},
   "source": [
    "当然，Python 中字符串还有很多常用操作：比如，`string.find(sub, start, end)`表示从start到end查找字符串中子字符串sub的位置等等。"
   ]
  },
  {
   "cell_type": "code",
   "execution_count": 35,
   "metadata": {},
   "outputs": [
    {
     "data": {
      "text/plain": [
       "3"
      ]
     },
     "execution_count": 35,
     "metadata": {},
     "output_type": "execute_result"
    }
   ],
   "source": [
    "s = 'my name is jason'\n",
    "s.find('name',0, 10)"
   ]
  },
  {
   "cell_type": "markdown",
   "metadata": {},
   "source": [
    "# 三、字符串格式化"
   ]
  },
  {
   "cell_type": "markdown",
   "metadata": {},
   "source": [
    "通常，我们使用一个字符串作为模板，模板中会有格式符。**这些格式符为后续真实值预留位置，以呈现出真实值应该呈现的格式**。字符串的格式化，通常会用在程序的输出、logging 等场景。\n",
    "\n",
    "举一个常见的例子。比如我们有一个任务，给定一个用户的`userid`，要去数据库中查询该用户的一些信息并返回。而如果数据库中没有此人的信息，我们通常会记录下来，这样有利于往后的日志分析，或者是线上bug的调试等等。"
   ]
  },
  {
   "cell_type": "code",
   "execution_count": 26,
   "metadata": {},
   "outputs": [
    {
     "name": "stdout",
     "output_type": "stream",
     "text": [
      "no data available for person with id: <built-in function id>, name: jason\n"
     ]
    }
   ],
   "source": [
    "print('no data available for person with id: {}, name: {}'.format(id, name))"
   ]
  },
  {
   "cell_type": "markdown",
   "metadata": {},
   "source": [
    "其中的`string.format()`，就是所谓的格式化函数；大括号`{}`就是所谓的格式符，来为后面的真实值——变量`name`预留位置。如果`id = '123'、 name='jason'`，那么输出便是:\n",
    "```\n",
    "'no data available for person with id: 123, name: jason'\n",
    "```"
   ]
  },
  {
   "cell_type": "markdown",
   "metadata": {},
   "source": [
    "不过要注意，`string.format()`是最新的字符串格式函数与规范。自然，我们还有其他的表示方法，比如在Python之前版本中，字符串格式化通常用`%`来表示，那么上述的例子，就可以写成下面这样:"
   ]
  },
  {
   "cell_type": "code",
   "execution_count": 28,
   "metadata": {},
   "outputs": [
    {
     "name": "stdout",
     "output_type": "stream",
     "text": [
      "no data available for person with id: <built-in function id>, name: jason\n"
     ]
    }
   ],
   "source": [
    "\n",
    "print('no data available for person with id: %s, name: %s' % (id, name))"
   ]
  },
  {
   "cell_type": "markdown",
   "metadata": {},
   "source": [
    "其中`%s`表示字符串型，`%d`表示整型等等，\n",
    "\n",
    "当然，现在写程序时，还是推荐使用`format()函数`，这是最新规范，也是官方文档推荐的规范。\n",
    "\n",
    "使用格式化函数，更加清晰、易读，并且更加规范，不易出错。"
   ]
  },
  {
   "cell_type": "markdown",
   "metadata": {},
   "source": [
    "# 总结\n",
    "这节课，我们主要学习了Python字符串的一些基本知识和常用操作，并且结合具体的例子与场景加以说明，特别需要注意下面几点。\n",
    "\n",
    "- Python中字符串使用单引号、双引号或三引号表示，三者意义相同，并没有什么区别。其中，三引号的字符串通常用在多行字符串的场景。\n",
    "- Python 中字符串是不可变的(前面所讲的新版本Python中拼接操作 `+=` 是个例外)。因此，通过索引随意改变字符串中字符的值，不被允许的。\n",
    "- Python新版本(2.5+) 中，字符串的拼接变得比以前高效了许多，你可以放心使用。\n",
    "- Python 中字符串的格式化 `string.format()` 常常用在输出、志的记录等场景。"
   ]
  },
  {
   "cell_type": "markdown",
   "metadata": {},
   "source": [
    "# 思考题\n",
    "在新版本的Python中，下面的两个字符串拼接操作，哪个更好呢"
   ]
  },
  {
   "cell_type": "code",
   "execution_count": 37,
   "metadata": {},
   "outputs": [],
   "source": [
    "s = ''\n",
    "for n in range(0, 100000):\n",
    "    s += str(n)"
   ]
  },
  {
   "cell_type": "code",
   "execution_count": 38,
   "metadata": {},
   "outputs": [],
   "source": [
    "l = []\n",
    "for n in range(0, 100000):\n",
    "    l.append(str(n))\n",
    "    \n",
    "s = ' '.join(l)"
   ]
  },
  {
   "cell_type": "markdown",
   "metadata": {},
   "source": [
    "- 如果字符串拼接的次数较少，比如`range(100)`，那么方法一更优，因为时间复杂度精确的来说第一种是`O(n)`，第二种是`O(2n)`\n",
    "\n",
    "- 如果拼接的次数较多，比如`range(1000000)`，方法二稍快一些，虽然方法二会遍历两次，但是join的速度其实很快，列表`append`和`join`的开销要比字符串`+=`小一些。"
   ]
  },
  {
   "cell_type": "code",
   "execution_count": null,
   "metadata": {},
   "outputs": [],
   "source": []
  }
 ],
 "metadata": {
  "kernelspec": {
   "display_name": "Python 3",
   "language": "python",
   "name": "python3"
  },
  "language_info": {
   "codemirror_mode": {
    "name": "ipython",
    "version": 3
   },
   "file_extension": ".py",
   "mimetype": "text/x-python",
   "name": "python",
   "nbconvert_exporter": "python",
   "pygments_lexer": "ipython3",
   "version": "3.6.5"
  },
  "toc-showcode": false,
  "toc-showmarkdowntxt": false
 },
 "nbformat": 4,
 "nbformat_minor": 4
}
